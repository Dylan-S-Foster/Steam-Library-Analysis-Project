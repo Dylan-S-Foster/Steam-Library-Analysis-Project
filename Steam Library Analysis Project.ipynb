{
 "cells": [
  {
   "cell_type": "markdown",
   "id": "065e2355",
   "metadata": {
    "papermill": {
     "duration": 0.00828,
     "end_time": "2023-10-24T05:38:38.158048",
     "exception": false,
     "start_time": "2023-10-24T05:38:38.149768",
     "status": "completed"
    },
    "tags": []
   },
   "source": [
    "# Steam Library Data Analysis\n",
    "## Project outline\n",
    "<center><img src=\"https://cdn.cloudflare.steamstatic.com/store/home/store_home_share.jpg\"></center>\n",
    "\n",
    "\n",
    "<p>Steam is a digital video game distribution service and storefront released by the Valve Corporation. Released in 2003 and later updated to distribute third-party titles in 2005, Steam quickly gained market traction and currently provides various services to thousands of video game players, developers and publishers.</p>\n",
    "\n",
    "<p>As Steam services millions of users in the PC gaming market, data gathered from its storefront can be significantly useful in identifying various trends within the PC gaming market which can be used to help develop future software. This project aims to analyse and identify trends within the PC gaming market by utilising a dataset collected from the Steam Official Store by Gustavo Querede.</p>\n",
    "\n",
    "## Data preparation\n",
    "### Importing libraries"
   ]
  },
  {
   "cell_type": "code",
   "execution_count": 1,
   "id": "082e3911",
   "metadata": {
    "_cell_guid": "b1076dfc-b9ad-4769-8c92-a6c4dae69d19",
    "_uuid": "8f2839f25d086af736a60e9eeb907d3b93b6e0e5",
    "execution": {
     "iopub.execute_input": "2023-10-24T05:38:38.175530Z",
     "iopub.status.busy": "2023-10-24T05:38:38.175107Z",
     "iopub.status.idle": "2023-10-24T05:38:41.121102Z",
     "shell.execute_reply": "2023-10-24T05:38:41.119831Z"
    },
    "papermill": {
     "duration": 2.958028,
     "end_time": "2023-10-24T05:38:41.123792",
     "exception": false,
     "start_time": "2023-10-24T05:38:38.165764",
     "status": "completed"
    },
    "tags": []
   },
   "outputs": [],
   "source": [
    "import pandas as pd\n",
    "import numpy as np\n",
    "import matplotlib.pyplot as plt\n",
    "import seaborn as sns\n",
    "import plotly.express as px\n",
    "from tabulate import tabulate\n",
    "import plotly.graph_objects as go"
   ]
  },
  {
   "cell_type": "markdown",
   "id": "09e60296",
   "metadata": {
    "papermill": {
     "duration": 0.006749,
     "end_time": "2023-10-24T05:38:41.137683",
     "exception": false,
     "start_time": "2023-10-24T05:38:41.130934",
     "status": "completed"
    },
    "tags": []
   },
   "source": [
    "### Importing dataset"
   ]
  },
  {
   "cell_type": "code",
   "execution_count": 2,
   "id": "1dc3ba4a",
   "metadata": {
    "execution": {
     "iopub.execute_input": "2023-10-24T05:38:41.153745Z",
     "iopub.status.busy": "2023-10-24T05:38:41.153084Z",
     "iopub.status.idle": "2023-10-24T05:38:41.451454Z",
     "shell.execute_reply": "2023-10-24T05:38:41.450193Z"
    },
    "papermill": {
     "duration": 0.30914,
     "end_time": "2023-10-24T05:38:41.453971",
     "exception": false,
     "start_time": "2023-10-24T05:38:41.144831",
     "status": "completed"
    },
    "tags": []
   },
   "outputs": [
    {
     "name": "stdout",
     "output_type": "stream",
     "text": [
      "<class 'pandas.core.frame.DataFrame'>\n",
      "RangeIndex: 50796 entries, 0 to 50795\n",
      "Data columns (total 13 columns):\n",
      " #   Column          Non-Null Count  Dtype  \n",
      "---  ------          --------------  -----  \n",
      " 0   app_id          50796 non-null  int64  \n",
      " 1   title           50796 non-null  object \n",
      " 2   date_release    50796 non-null  object \n",
      " 3   win             50796 non-null  bool   \n",
      " 4   mac             50796 non-null  bool   \n",
      " 5   linux           50796 non-null  bool   \n",
      " 6   rating          50796 non-null  object \n",
      " 7   positive_ratio  50796 non-null  int64  \n",
      " 8   user_reviews    50796 non-null  int64  \n",
      " 9   price_final     50796 non-null  float64\n",
      " 10  price_original  50796 non-null  float64\n",
      " 11  discount        50796 non-null  float64\n",
      " 12  steam_deck      50796 non-null  bool   \n",
      "dtypes: bool(4), float64(3), int64(3), object(3)\n",
      "memory usage: 3.7+ MB\n"
     ]
    }
   ],
   "source": [
    "df= pd.read_csv('/kaggle/input/game-recommendations-on-steam/games.csv')\n",
    "df.info()"
   ]
  },
  {
   "cell_type": "code",
   "execution_count": 3,
   "id": "bcb9c686",
   "metadata": {
    "execution": {
     "iopub.execute_input": "2023-10-24T05:38:41.470287Z",
     "iopub.status.busy": "2023-10-24T05:38:41.469903Z",
     "iopub.status.idle": "2023-10-24T05:38:41.487886Z",
     "shell.execute_reply": "2023-10-24T05:38:41.486609Z"
    },
    "papermill": {
     "duration": 0.029134,
     "end_time": "2023-10-24T05:38:41.490273",
     "exception": false,
     "start_time": "2023-10-24T05:38:41.461139",
     "status": "completed"
    },
    "tags": []
   },
   "outputs": [
    {
     "data": {
      "text/html": [
       "<div>\n",
       "<style scoped>\n",
       "    .dataframe tbody tr th:only-of-type {\n",
       "        vertical-align: middle;\n",
       "    }\n",
       "\n",
       "    .dataframe tbody tr th {\n",
       "        vertical-align: top;\n",
       "    }\n",
       "\n",
       "    .dataframe thead th {\n",
       "        text-align: right;\n",
       "    }\n",
       "</style>\n",
       "<table border=\"1\" class=\"dataframe\">\n",
       "  <thead>\n",
       "    <tr style=\"text-align: right;\">\n",
       "      <th></th>\n",
       "      <th>Sum of Data Type</th>\n",
       "    </tr>\n",
       "  </thead>\n",
       "  <tbody>\n",
       "    <tr>\n",
       "      <th>bool</th>\n",
       "      <td>4</td>\n",
       "    </tr>\n",
       "    <tr>\n",
       "      <th>int64</th>\n",
       "      <td>3</td>\n",
       "    </tr>\n",
       "    <tr>\n",
       "      <th>object</th>\n",
       "      <td>3</td>\n",
       "    </tr>\n",
       "    <tr>\n",
       "      <th>float64</th>\n",
       "      <td>3</td>\n",
       "    </tr>\n",
       "  </tbody>\n",
       "</table>\n",
       "</div>"
      ],
      "text/plain": [
       "         Sum of Data Type\n",
       "bool                    4\n",
       "int64                   3\n",
       "object                  3\n",
       "float64                 3"
      ]
     },
     "execution_count": 3,
     "metadata": {},
     "output_type": "execute_result"
    }
   ],
   "source": [
    "data_types = df.dtypes.value_counts()\n",
    "data_types_table = pd.concat([data_types], axis = 1, keys = ['Sum of Data Type'])\n",
    "data_types_table"
   ]
  },
  {
   "cell_type": "markdown",
   "id": "2206e639",
   "metadata": {
    "papermill": {
     "duration": 0.007121,
     "end_time": "2023-10-24T05:38:41.504784",
     "exception": false,
     "start_time": "2023-10-24T05:38:41.497663",
     "status": "completed"
    },
    "tags": []
   },
   "source": [
    "**Summary**\n",
    "<br>\n",
    "Initial investigation into this dataset reveals that we have 50796 entries across 12 columns with 3 int, 3 object, 4 boolen and 3 float datatypes. For data analysis it will be important to:\n",
    "1. Convert 'object' columns to 'string' columns and convert the date_release column to a datetime datatype\n",
    "2. Double-check for any null values and/or duplicates\n",
    "\n",
    "\n",
    "### 1. Conversion of datatypes"
   ]
  },
  {
   "cell_type": "markdown",
   "id": "56d229d9",
   "metadata": {
    "papermill": {
     "duration": 0.007306,
     "end_time": "2023-10-24T05:38:41.519373",
     "exception": false,
     "start_time": "2023-10-24T05:38:41.512067",
     "status": "completed"
    },
    "tags": []
   },
   "source": [
    "#### Converting object datatypes to string datatypes"
   ]
  },
  {
   "cell_type": "code",
   "execution_count": 4,
   "id": "aaadba82",
   "metadata": {
    "execution": {
     "iopub.execute_input": "2023-10-24T05:38:41.536003Z",
     "iopub.status.busy": "2023-10-24T05:38:41.535600Z",
     "iopub.status.idle": "2023-10-24T05:38:41.560039Z",
     "shell.execute_reply": "2023-10-24T05:38:41.558989Z"
    },
    "papermill": {
     "duration": 0.035952,
     "end_time": "2023-10-24T05:38:41.562736",
     "exception": false,
     "start_time": "2023-10-24T05:38:41.526784",
     "status": "completed"
    },
    "tags": []
   },
   "outputs": [],
   "source": [
    "object_select = df.select_dtypes(include = 'object').columns\n",
    "df[object_select]=df[object_select].astype('string')"
   ]
  },
  {
   "cell_type": "markdown",
   "id": "dc9fd9c7",
   "metadata": {
    "papermill": {
     "duration": 0.007342,
     "end_time": "2023-10-24T05:38:41.577766",
     "exception": false,
     "start_time": "2023-10-24T05:38:41.570424",
     "status": "completed"
    },
    "tags": []
   },
   "source": [
    "#### Converting the date_release column to the datetime datatype"
   ]
  },
  {
   "cell_type": "code",
   "execution_count": 5,
   "id": "a6cd3f3c",
   "metadata": {
    "execution": {
     "iopub.execute_input": "2023-10-24T05:38:41.595236Z",
     "iopub.status.busy": "2023-10-24T05:38:41.594836Z",
     "iopub.status.idle": "2023-10-24T05:38:41.619373Z",
     "shell.execute_reply": "2023-10-24T05:38:41.618319Z"
    },
    "papermill": {
     "duration": 0.035887,
     "end_time": "2023-10-24T05:38:41.621725",
     "exception": false,
     "start_time": "2023-10-24T05:38:41.585838",
     "status": "completed"
    },
    "tags": []
   },
   "outputs": [],
   "source": [
    "df['date_release']= pd.to_datetime(df['date_release'])"
   ]
  },
  {
   "cell_type": "markdown",
   "id": "4557760d",
   "metadata": {
    "papermill": {
     "duration": 0.007925,
     "end_time": "2023-10-24T05:38:41.637196",
     "exception": false,
     "start_time": "2023-10-24T05:38:41.629271",
     "status": "completed"
    },
    "tags": []
   },
   "source": [
    "#### Converted datatypes"
   ]
  },
  {
   "cell_type": "code",
   "execution_count": 6,
   "id": "d1d915f8",
   "metadata": {
    "execution": {
     "iopub.execute_input": "2023-10-24T05:38:41.654659Z",
     "iopub.status.busy": "2023-10-24T05:38:41.653549Z",
     "iopub.status.idle": "2023-10-24T05:38:41.664212Z",
     "shell.execute_reply": "2023-10-24T05:38:41.663245Z"
    },
    "papermill": {
     "duration": 0.022288,
     "end_time": "2023-10-24T05:38:41.667001",
     "exception": false,
     "start_time": "2023-10-24T05:38:41.644713",
     "status": "completed"
    },
    "tags": []
   },
   "outputs": [
    {
     "data": {
      "text/html": [
       "<div>\n",
       "<style scoped>\n",
       "    .dataframe tbody tr th:only-of-type {\n",
       "        vertical-align: middle;\n",
       "    }\n",
       "\n",
       "    .dataframe tbody tr th {\n",
       "        vertical-align: top;\n",
       "    }\n",
       "\n",
       "    .dataframe thead th {\n",
       "        text-align: right;\n",
       "    }\n",
       "</style>\n",
       "<table border=\"1\" class=\"dataframe\">\n",
       "  <thead>\n",
       "    <tr style=\"text-align: right;\">\n",
       "      <th></th>\n",
       "      <th>Sum of Data Type</th>\n",
       "    </tr>\n",
       "  </thead>\n",
       "  <tbody>\n",
       "    <tr>\n",
       "      <th>bool</th>\n",
       "      <td>4</td>\n",
       "    </tr>\n",
       "    <tr>\n",
       "      <th>int64</th>\n",
       "      <td>3</td>\n",
       "    </tr>\n",
       "    <tr>\n",
       "      <th>float64</th>\n",
       "      <td>3</td>\n",
       "    </tr>\n",
       "    <tr>\n",
       "      <th>string</th>\n",
       "      <td>2</td>\n",
       "    </tr>\n",
       "    <tr>\n",
       "      <th>datetime64[ns]</th>\n",
       "      <td>1</td>\n",
       "    </tr>\n",
       "  </tbody>\n",
       "</table>\n",
       "</div>"
      ],
      "text/plain": [
       "                Sum of Data Type\n",
       "bool                           4\n",
       "int64                          3\n",
       "float64                        3\n",
       "string                         2\n",
       "datetime64[ns]                 1"
      ]
     },
     "execution_count": 6,
     "metadata": {},
     "output_type": "execute_result"
    }
   ],
   "source": [
    "data_types = df.dtypes.value_counts()\n",
    "data_types_table = pd.concat([data_types], axis = 1, keys = ['Sum of Data Type'])\n",
    "data_types_table"
   ]
  },
  {
   "cell_type": "markdown",
   "id": "b6f0dad8",
   "metadata": {
    "papermill": {
     "duration": 0.007317,
     "end_time": "2023-10-24T05:38:41.682195",
     "exception": false,
     "start_time": "2023-10-24T05:38:41.674878",
     "status": "completed"
    },
    "tags": []
   },
   "source": [
    "**Summary**\n",
    "<p>Here we can see that we have successfully converted all object datatypes into strings. We have also converted the date_release column to datetime.</p>"
   ]
  },
  {
   "cell_type": "markdown",
   "id": "24b5ff94",
   "metadata": {
    "papermill": {
     "duration": 0.007575,
     "end_time": "2023-10-24T05:38:41.697927",
     "exception": false,
     "start_time": "2023-10-24T05:38:41.690352",
     "status": "completed"
    },
    "tags": []
   },
   "source": [
    "### 2a. Null Check"
   ]
  },
  {
   "cell_type": "code",
   "execution_count": 7,
   "id": "a6ccbf26",
   "metadata": {
    "execution": {
     "iopub.execute_input": "2023-10-24T05:38:41.715421Z",
     "iopub.status.busy": "2023-10-24T05:38:41.714735Z",
     "iopub.status.idle": "2023-10-24T05:38:41.732749Z",
     "shell.execute_reply": "2023-10-24T05:38:41.731567Z"
    },
    "papermill": {
     "duration": 0.029424,
     "end_time": "2023-10-24T05:38:41.735001",
     "exception": false,
     "start_time": "2023-10-24T05:38:41.705577",
     "status": "completed"
    },
    "tags": []
   },
   "outputs": [
    {
     "data": {
      "text/html": [
       "<div>\n",
       "<style scoped>\n",
       "    .dataframe tbody tr th:only-of-type {\n",
       "        vertical-align: middle;\n",
       "    }\n",
       "\n",
       "    .dataframe tbody tr th {\n",
       "        vertical-align: top;\n",
       "    }\n",
       "\n",
       "    .dataframe thead th {\n",
       "        text-align: right;\n",
       "    }\n",
       "</style>\n",
       "<table border=\"1\" class=\"dataframe\">\n",
       "  <thead>\n",
       "    <tr style=\"text-align: right;\">\n",
       "      <th></th>\n",
       "      <th>Total Missing Data</th>\n",
       "    </tr>\n",
       "  </thead>\n",
       "  <tbody>\n",
       "    <tr>\n",
       "      <th>app_id</th>\n",
       "      <td>0</td>\n",
       "    </tr>\n",
       "    <tr>\n",
       "      <th>title</th>\n",
       "      <td>0</td>\n",
       "    </tr>\n",
       "    <tr>\n",
       "      <th>date_release</th>\n",
       "      <td>0</td>\n",
       "    </tr>\n",
       "    <tr>\n",
       "      <th>win</th>\n",
       "      <td>0</td>\n",
       "    </tr>\n",
       "    <tr>\n",
       "      <th>mac</th>\n",
       "      <td>0</td>\n",
       "    </tr>\n",
       "    <tr>\n",
       "      <th>linux</th>\n",
       "      <td>0</td>\n",
       "    </tr>\n",
       "    <tr>\n",
       "      <th>rating</th>\n",
       "      <td>0</td>\n",
       "    </tr>\n",
       "    <tr>\n",
       "      <th>positive_ratio</th>\n",
       "      <td>0</td>\n",
       "    </tr>\n",
       "    <tr>\n",
       "      <th>user_reviews</th>\n",
       "      <td>0</td>\n",
       "    </tr>\n",
       "    <tr>\n",
       "      <th>price_final</th>\n",
       "      <td>0</td>\n",
       "    </tr>\n",
       "    <tr>\n",
       "      <th>price_original</th>\n",
       "      <td>0</td>\n",
       "    </tr>\n",
       "    <tr>\n",
       "      <th>discount</th>\n",
       "      <td>0</td>\n",
       "    </tr>\n",
       "    <tr>\n",
       "      <th>steam_deck</th>\n",
       "      <td>0</td>\n",
       "    </tr>\n",
       "  </tbody>\n",
       "</table>\n",
       "</div>"
      ],
      "text/plain": [
       "                Total Missing Data\n",
       "app_id                           0\n",
       "title                            0\n",
       "date_release                     0\n",
       "win                              0\n",
       "mac                              0\n",
       "linux                            0\n",
       "rating                           0\n",
       "positive_ratio                   0\n",
       "user_reviews                     0\n",
       "price_final                      0\n",
       "price_original                   0\n",
       "discount                         0\n",
       "steam_deck                       0"
      ]
     },
     "execution_count": 7,
     "metadata": {},
     "output_type": "execute_result"
    }
   ],
   "source": [
    "null_check = df.isnull().sum()\n",
    "\n",
    "missing_data_table = pd.concat([null_check], axis = 1, keys = ['Total Missing Data'])\n",
    "\n",
    "missing_data_table"
   ]
  },
  {
   "cell_type": "markdown",
   "id": "1587fd10",
   "metadata": {
    "papermill": {
     "duration": 0.00729,
     "end_time": "2023-10-24T05:38:41.750140",
     "exception": false,
     "start_time": "2023-10-24T05:38:41.742850",
     "status": "completed"
    },
    "tags": []
   },
   "source": [
    "### 2b. Duplicate Check"
   ]
  },
  {
   "cell_type": "code",
   "execution_count": 8,
   "id": "2a461db9",
   "metadata": {
    "execution": {
     "iopub.execute_input": "2023-10-24T05:38:41.767084Z",
     "iopub.status.busy": "2023-10-24T05:38:41.766682Z",
     "iopub.status.idle": "2023-10-24T05:38:41.820013Z",
     "shell.execute_reply": "2023-10-24T05:38:41.818606Z"
    },
    "papermill": {
     "duration": 0.064853,
     "end_time": "2023-10-24T05:38:41.822504",
     "exception": false,
     "start_time": "2023-10-24T05:38:41.757651",
     "status": "completed"
    },
    "tags": []
   },
   "outputs": [
    {
     "name": "stdout",
     "output_type": "stream",
     "text": [
      "There are 0 duplicate rows within this dataset\n"
     ]
    }
   ],
   "source": [
    "duplicate_check = df.duplicated().sum()\n",
    "print(f\"There are {duplicate_check} duplicate rows within this dataset\")"
   ]
  },
  {
   "cell_type": "markdown",
   "id": "6a2d63ce",
   "metadata": {
    "papermill": {
     "duration": 0.007406,
     "end_time": "2023-10-24T05:38:41.837834",
     "exception": false,
     "start_time": "2023-10-24T05:38:41.830428",
     "status": "completed"
    },
    "tags": []
   },
   "source": [
    "**Summary**\n",
    "<p> We can see from our data validation that we have no null values and no duplicates within our data</p>"
   ]
  },
  {
   "cell_type": "markdown",
   "id": "f8d1f774",
   "metadata": {
    "papermill": {
     "duration": 0.008063,
     "end_time": "2023-10-24T05:38:41.853666",
     "exception": false,
     "start_time": "2023-10-24T05:38:41.845603",
     "status": "completed"
    },
    "tags": []
   },
   "source": [
    "## Data Analysis\n",
    "### Initial investigation\n",
    "#### Top 20 rated steam games released"
   ]
  },
  {
   "cell_type": "code",
   "execution_count": 9,
   "id": "0333b2f9",
   "metadata": {
    "execution": {
     "iopub.execute_input": "2023-10-24T05:38:41.871993Z",
     "iopub.status.busy": "2023-10-24T05:38:41.871573Z",
     "iopub.status.idle": "2023-10-24T05:38:41.900499Z",
     "shell.execute_reply": "2023-10-24T05:38:41.899366Z"
    },
    "papermill": {
     "duration": 0.040982,
     "end_time": "2023-10-24T05:38:41.902898",
     "exception": false,
     "start_time": "2023-10-24T05:38:41.861916",
     "status": "completed"
    },
    "tags": []
   },
   "outputs": [
    {
     "data": {
      "text/html": [
       "<div>\n",
       "<style scoped>\n",
       "    .dataframe tbody tr th:only-of-type {\n",
       "        vertical-align: middle;\n",
       "    }\n",
       "\n",
       "    .dataframe tbody tr th {\n",
       "        vertical-align: top;\n",
       "    }\n",
       "\n",
       "    .dataframe thead th {\n",
       "        text-align: right;\n",
       "    }\n",
       "</style>\n",
       "<table border=\"1\" class=\"dataframe\">\n",
       "  <thead>\n",
       "    <tr style=\"text-align: right;\">\n",
       "      <th></th>\n",
       "      <th>title</th>\n",
       "      <th>user_reviews</th>\n",
       "      <th>positive_ratio</th>\n",
       "    </tr>\n",
       "  </thead>\n",
       "  <tbody>\n",
       "    <tr>\n",
       "      <th>12942</th>\n",
       "      <td>Terraria</td>\n",
       "      <td>943413</td>\n",
       "      <td>97</td>\n",
       "    </tr>\n",
       "    <tr>\n",
       "      <th>15277</th>\n",
       "      <td>Garry's Mod</td>\n",
       "      <td>853733</td>\n",
       "      <td>96</td>\n",
       "    </tr>\n",
       "    <tr>\n",
       "      <th>12704</th>\n",
       "      <td>The Witcher® 3: Wild Hunt</td>\n",
       "      <td>668455</td>\n",
       "      <td>96</td>\n",
       "    </tr>\n",
       "    <tr>\n",
       "      <th>47688</th>\n",
       "      <td>Wallpaper Engine</td>\n",
       "      <td>637341</td>\n",
       "      <td>98</td>\n",
       "    </tr>\n",
       "    <tr>\n",
       "      <th>12618</th>\n",
       "      <td>Left 4 Dead 2</td>\n",
       "      <td>574470</td>\n",
       "      <td>97</td>\n",
       "    </tr>\n",
       "    <tr>\n",
       "      <th>14372</th>\n",
       "      <td>Stardew Valley</td>\n",
       "      <td>505882</td>\n",
       "      <td>98</td>\n",
       "    </tr>\n",
       "    <tr>\n",
       "      <th>47444</th>\n",
       "      <td>Euro Truck Simulator 2</td>\n",
       "      <td>494214</td>\n",
       "      <td>97</td>\n",
       "    </tr>\n",
       "    <tr>\n",
       "      <th>13107</th>\n",
       "      <td>Phasmophobia</td>\n",
       "      <td>486466</td>\n",
       "      <td>96</td>\n",
       "    </tr>\n",
       "    <tr>\n",
       "      <th>11624</th>\n",
       "      <td>The Forest</td>\n",
       "      <td>416113</td>\n",
       "      <td>95</td>\n",
       "    </tr>\n",
       "    <tr>\n",
       "      <th>48090</th>\n",
       "      <td>Valheim</td>\n",
       "      <td>356617</td>\n",
       "      <td>95</td>\n",
       "    </tr>\n",
       "    <tr>\n",
       "      <th>14956</th>\n",
       "      <td>Portal 2</td>\n",
       "      <td>293053</td>\n",
       "      <td>98</td>\n",
       "    </tr>\n",
       "    <tr>\n",
       "      <th>13410</th>\n",
       "      <td>Dying Light</td>\n",
       "      <td>283604</td>\n",
       "      <td>95</td>\n",
       "    </tr>\n",
       "    <tr>\n",
       "      <th>47562</th>\n",
       "      <td>Don't Starve Together</td>\n",
       "      <td>280962</td>\n",
       "      <td>95</td>\n",
       "    </tr>\n",
       "    <tr>\n",
       "      <th>14300</th>\n",
       "      <td>Hollow Knight</td>\n",
       "      <td>272420</td>\n",
       "      <td>97</td>\n",
       "    </tr>\n",
       "    <tr>\n",
       "      <th>14676</th>\n",
       "      <td>Baldur's Gate 3</td>\n",
       "      <td>269840</td>\n",
       "      <td>95</td>\n",
       "    </tr>\n",
       "    <tr>\n",
       "      <th>15192</th>\n",
       "      <td>Bloons TD 6</td>\n",
       "      <td>239938</td>\n",
       "      <td>97</td>\n",
       "    </tr>\n",
       "    <tr>\n",
       "      <th>50708</th>\n",
       "      <td>The Binding of Isaac: Rebirth</td>\n",
       "      <td>225815</td>\n",
       "      <td>97</td>\n",
       "    </tr>\n",
       "    <tr>\n",
       "      <th>14304</th>\n",
       "      <td>Subnautica</td>\n",
       "      <td>220337</td>\n",
       "      <td>96</td>\n",
       "    </tr>\n",
       "    <tr>\n",
       "      <th>13408</th>\n",
       "      <td>Hades</td>\n",
       "      <td>214267</td>\n",
       "      <td>98</td>\n",
       "    </tr>\n",
       "    <tr>\n",
       "      <th>15195</th>\n",
       "      <td>Vampire Survivors</td>\n",
       "      <td>197109</td>\n",
       "      <td>98</td>\n",
       "    </tr>\n",
       "  </tbody>\n",
       "</table>\n",
       "</div>"
      ],
      "text/plain": [
       "                               title  user_reviews  positive_ratio\n",
       "12942                       Terraria        943413              97\n",
       "15277                    Garry's Mod        853733              96\n",
       "12704      The Witcher® 3: Wild Hunt        668455              96\n",
       "47688               Wallpaper Engine        637341              98\n",
       "12618                  Left 4 Dead 2        574470              97\n",
       "14372                 Stardew Valley        505882              98\n",
       "47444         Euro Truck Simulator 2        494214              97\n",
       "13107                   Phasmophobia        486466              96\n",
       "11624                     The Forest        416113              95\n",
       "48090                        Valheim        356617              95\n",
       "14956                       Portal 2        293053              98\n",
       "13410                    Dying Light        283604              95\n",
       "47562          Don't Starve Together        280962              95\n",
       "14300                  Hollow Knight        272420              97\n",
       "14676                Baldur's Gate 3        269840              95\n",
       "15192                    Bloons TD 6        239938              97\n",
       "50708  The Binding of Isaac: Rebirth        225815              97\n",
       "14304                     Subnautica        220337              96\n",
       "13408                          Hades        214267              98\n",
       "15195              Vampire Survivors        197109              98"
      ]
     },
     "execution_count": 9,
     "metadata": {},
     "output_type": "execute_result"
    }
   ],
   "source": [
    "top_games = df[(df['positive_ratio'] >= 90) & (df['rating'] == 'Overwhelmingly Positive')].sort_values(by=['user_reviews', 'positive_ratio'], ascending=[False, True]).head(20)\n",
    "top_games[['title','user_reviews','positive_ratio']]"
   ]
  },
  {
   "cell_type": "code",
   "execution_count": 10,
   "id": "a7ef2108",
   "metadata": {
    "execution": {
     "iopub.execute_input": "2023-10-24T05:38:41.921426Z",
     "iopub.status.busy": "2023-10-24T05:38:41.920975Z",
     "iopub.status.idle": "2023-10-24T05:38:43.897430Z",
     "shell.execute_reply": "2023-10-24T05:38:43.896405Z"
    },
    "papermill": {
     "duration": 1.98873,
     "end_time": "2023-10-24T05:38:43.899843",
     "exception": false,
     "start_time": "2023-10-24T05:38:41.911113",
     "status": "completed"
    },
    "tags": []
   },
   "outputs": [
    {
     "data": {
      "text/html": [
       "        <script type=\"text/javascript\">\n",
       "        window.PlotlyConfig = {MathJaxConfig: 'local'};\n",
       "        if (window.MathJax && window.MathJax.Hub && window.MathJax.Hub.Config) {window.MathJax.Hub.Config({SVG: {font: \"STIX-Web\"}});}\n",
       "        if (typeof require !== 'undefined') {\n",
       "        require.undef(\"plotly\");\n",
       "        requirejs.config({\n",
       "            paths: {\n",
       "                'plotly': ['https://cdn.plot.ly/plotly-2.24.1.min']\n",
       "            }\n",
       "        });\n",
       "        require(['plotly'], function(Plotly) {\n",
       "            window._Plotly = Plotly;\n",
       "        });\n",
       "        }\n",
       "        </script>\n",
       "        "
      ]
     },
     "metadata": {},
     "output_type": "display_data"
    },
    {
     "data": {
      "text/html": [
       "<div>                            <div id=\"229eb5ab-0892-423c-9645-c05b5de50ef1\" class=\"plotly-graph-div\" style=\"height:525px; width:100%;\"></div>            <script type=\"text/javascript\">                require([\"plotly\"], function(Plotly) {                    window.PLOTLYENV=window.PLOTLYENV || {};                                    if (document.getElementById(\"229eb5ab-0892-423c-9645-c05b5de50ef1\")) {                    Plotly.newPlot(                        \"229eb5ab-0892-423c-9645-c05b5de50ef1\",                        [{\"customdata\":[[\"2011-05-16T00:00:00\",943413,97],[\"2006-11-29T00:00:00\",853733,96],[\"2015-05-18T00:00:00\",668455,96],[\"2018-11-01T00:00:00\",637341,98],[\"2009-11-16T00:00:00\",574470,97],[\"2016-02-26T00:00:00\",505882,98],[\"2012-10-12T00:00:00\",494214,97],[\"2020-09-18T00:00:00\",486466,96],[\"2018-04-30T00:00:00\",416113,95],[\"2021-02-02T00:00:00\",356617,95],[\"2011-04-18T00:00:00\",293053,98],[\"2016-04-21T00:00:00\",283604,95],[\"2016-04-21T00:00:00\",280962,95],[\"2017-02-24T00:00:00\",272420,97],[\"2023-08-03T00:00:00\",269840,95],[\"2018-12-17T00:00:00\",239938,97],[\"2014-11-04T00:00:00\",225815,97],[\"2018-01-23T00:00:00\",220337,96],[\"2020-09-17T00:00:00\",214267,98],[\"2022-10-20T00:00:00\",197109,98]],\"hovertemplate\":\"\\u003cb\\u003e%{hovertext}\\u003c\\u002fb\\u003e\\u003cbr\\u003e\\u003cbr\\u003ePrice=%{y}\\u003cbr\\u003eRelease Date=%{customdata[0]}\\u003cbr\\u003eTotal User Reviews=%{customdata[1]}\\u003cbr\\u003ePositive Ratio=%{customdata[2]}\\u003cextra\\u003e\\u003c\\u002fextra\\u003e\",\"hovertext\":[\"Terraria\",\"Garry's Mod\",\"The Witcher® 3: Wild Hunt\",\"Wallpaper Engine\",\"Left 4 Dead 2\",\"Stardew Valley\",\"Euro Truck Simulator 2\",\"Phasmophobia\",\"The Forest\",\"Valheim\",\"Portal 2\",\"Dying Light\",\"Don't Starve Together\",\"Hollow Knight\",\"Baldur's Gate 3\",\"Bloons TD 6\",\"The Binding of Isaac: Rebirth\",\"Subnautica\",\"Hades\",\"Vampire Survivors\"],\"legendgroup\":\"\",\"marker\":{\"color\":\"#636efa\",\"symbol\":\"circle\"},\"mode\":\"markers\",\"name\":\"\",\"orientation\":\"v\",\"showlegend\":false,\"x\":[\"Terraria\",\"Garry's Mod\",\"The Witcher® 3: Wild Hunt\",\"Wallpaper Engine\",\"Left 4 Dead 2\",\"Stardew Valley\",\"Euro Truck Simulator 2\",\"Phasmophobia\",\"The Forest\",\"Valheim\",\"Portal 2\",\"Dying Light\",\"Don't Starve Together\",\"Hollow Knight\",\"Baldur's Gate 3\",\"Bloons TD 6\",\"The Binding of Isaac: Rebirth\",\"Subnautica\",\"Hades\",\"Vampire Survivors\"],\"xaxis\":\"x\",\"y\":[10.0,10.0,40.0,4.0,10.0,15.0,20.0,14.0,20.0,20.0,10.0,30.0,15.0,15.0,60.0,14.0,15.0,30.0,25.0,5.0],\"yaxis\":\"y\",\"type\":\"scatter\"}],                        {\"template\":{\"data\":{\"histogram2dcontour\":[{\"type\":\"histogram2dcontour\",\"colorbar\":{\"outlinewidth\":0,\"ticks\":\"\"},\"colorscale\":[[0.0,\"#0d0887\"],[0.1111111111111111,\"#46039f\"],[0.2222222222222222,\"#7201a8\"],[0.3333333333333333,\"#9c179e\"],[0.4444444444444444,\"#bd3786\"],[0.5555555555555556,\"#d8576b\"],[0.6666666666666666,\"#ed7953\"],[0.7777777777777778,\"#fb9f3a\"],[0.8888888888888888,\"#fdca26\"],[1.0,\"#f0f921\"]]}],\"choropleth\":[{\"type\":\"choropleth\",\"colorbar\":{\"outlinewidth\":0,\"ticks\":\"\"}}],\"histogram2d\":[{\"type\":\"histogram2d\",\"colorbar\":{\"outlinewidth\":0,\"ticks\":\"\"},\"colorscale\":[[0.0,\"#0d0887\"],[0.1111111111111111,\"#46039f\"],[0.2222222222222222,\"#7201a8\"],[0.3333333333333333,\"#9c179e\"],[0.4444444444444444,\"#bd3786\"],[0.5555555555555556,\"#d8576b\"],[0.6666666666666666,\"#ed7953\"],[0.7777777777777778,\"#fb9f3a\"],[0.8888888888888888,\"#fdca26\"],[1.0,\"#f0f921\"]]}],\"heatmap\":[{\"type\":\"heatmap\",\"colorbar\":{\"outlinewidth\":0,\"ticks\":\"\"},\"colorscale\":[[0.0,\"#0d0887\"],[0.1111111111111111,\"#46039f\"],[0.2222222222222222,\"#7201a8\"],[0.3333333333333333,\"#9c179e\"],[0.4444444444444444,\"#bd3786\"],[0.5555555555555556,\"#d8576b\"],[0.6666666666666666,\"#ed7953\"],[0.7777777777777778,\"#fb9f3a\"],[0.8888888888888888,\"#fdca26\"],[1.0,\"#f0f921\"]]}],\"heatmapgl\":[{\"type\":\"heatmapgl\",\"colorbar\":{\"outlinewidth\":0,\"ticks\":\"\"},\"colorscale\":[[0.0,\"#0d0887\"],[0.1111111111111111,\"#46039f\"],[0.2222222222222222,\"#7201a8\"],[0.3333333333333333,\"#9c179e\"],[0.4444444444444444,\"#bd3786\"],[0.5555555555555556,\"#d8576b\"],[0.6666666666666666,\"#ed7953\"],[0.7777777777777778,\"#fb9f3a\"],[0.8888888888888888,\"#fdca26\"],[1.0,\"#f0f921\"]]}],\"contourcarpet\":[{\"type\":\"contourcarpet\",\"colorbar\":{\"outlinewidth\":0,\"ticks\":\"\"}}],\"contour\":[{\"type\":\"contour\",\"colorbar\":{\"outlinewidth\":0,\"ticks\":\"\"},\"colorscale\":[[0.0,\"#0d0887\"],[0.1111111111111111,\"#46039f\"],[0.2222222222222222,\"#7201a8\"],[0.3333333333333333,\"#9c179e\"],[0.4444444444444444,\"#bd3786\"],[0.5555555555555556,\"#d8576b\"],[0.6666666666666666,\"#ed7953\"],[0.7777777777777778,\"#fb9f3a\"],[0.8888888888888888,\"#fdca26\"],[1.0,\"#f0f921\"]]}],\"surface\":[{\"type\":\"surface\",\"colorbar\":{\"outlinewidth\":0,\"ticks\":\"\"},\"colorscale\":[[0.0,\"#0d0887\"],[0.1111111111111111,\"#46039f\"],[0.2222222222222222,\"#7201a8\"],[0.3333333333333333,\"#9c179e\"],[0.4444444444444444,\"#bd3786\"],[0.5555555555555556,\"#d8576b\"],[0.6666666666666666,\"#ed7953\"],[0.7777777777777778,\"#fb9f3a\"],[0.8888888888888888,\"#fdca26\"],[1.0,\"#f0f921\"]]}],\"mesh3d\":[{\"type\":\"mesh3d\",\"colorbar\":{\"outlinewidth\":0,\"ticks\":\"\"}}],\"scatter\":[{\"fillpattern\":{\"fillmode\":\"overlay\",\"size\":10,\"solidity\":0.2},\"type\":\"scatter\"}],\"parcoords\":[{\"type\":\"parcoords\",\"line\":{\"colorbar\":{\"outlinewidth\":0,\"ticks\":\"\"}}}],\"scatterpolargl\":[{\"type\":\"scatterpolargl\",\"marker\":{\"colorbar\":{\"outlinewidth\":0,\"ticks\":\"\"}}}],\"bar\":[{\"error_x\":{\"color\":\"#2a3f5f\"},\"error_y\":{\"color\":\"#2a3f5f\"},\"marker\":{\"line\":{\"color\":\"#E5ECF6\",\"width\":0.5},\"pattern\":{\"fillmode\":\"overlay\",\"size\":10,\"solidity\":0.2}},\"type\":\"bar\"}],\"scattergeo\":[{\"type\":\"scattergeo\",\"marker\":{\"colorbar\":{\"outlinewidth\":0,\"ticks\":\"\"}}}],\"scatterpolar\":[{\"type\":\"scatterpolar\",\"marker\":{\"colorbar\":{\"outlinewidth\":0,\"ticks\":\"\"}}}],\"histogram\":[{\"marker\":{\"pattern\":{\"fillmode\":\"overlay\",\"size\":10,\"solidity\":0.2}},\"type\":\"histogram\"}],\"scattergl\":[{\"type\":\"scattergl\",\"marker\":{\"colorbar\":{\"outlinewidth\":0,\"ticks\":\"\"}}}],\"scatter3d\":[{\"type\":\"scatter3d\",\"line\":{\"colorbar\":{\"outlinewidth\":0,\"ticks\":\"\"}},\"marker\":{\"colorbar\":{\"outlinewidth\":0,\"ticks\":\"\"}}}],\"scattermapbox\":[{\"type\":\"scattermapbox\",\"marker\":{\"colorbar\":{\"outlinewidth\":0,\"ticks\":\"\"}}}],\"scatterternary\":[{\"type\":\"scatterternary\",\"marker\":{\"colorbar\":{\"outlinewidth\":0,\"ticks\":\"\"}}}],\"scattercarpet\":[{\"type\":\"scattercarpet\",\"marker\":{\"colorbar\":{\"outlinewidth\":0,\"ticks\":\"\"}}}],\"carpet\":[{\"aaxis\":{\"endlinecolor\":\"#2a3f5f\",\"gridcolor\":\"white\",\"linecolor\":\"white\",\"minorgridcolor\":\"white\",\"startlinecolor\":\"#2a3f5f\"},\"baxis\":{\"endlinecolor\":\"#2a3f5f\",\"gridcolor\":\"white\",\"linecolor\":\"white\",\"minorgridcolor\":\"white\",\"startlinecolor\":\"#2a3f5f\"},\"type\":\"carpet\"}],\"table\":[{\"cells\":{\"fill\":{\"color\":\"#EBF0F8\"},\"line\":{\"color\":\"white\"}},\"header\":{\"fill\":{\"color\":\"#C8D4E3\"},\"line\":{\"color\":\"white\"}},\"type\":\"table\"}],\"barpolar\":[{\"marker\":{\"line\":{\"color\":\"#E5ECF6\",\"width\":0.5},\"pattern\":{\"fillmode\":\"overlay\",\"size\":10,\"solidity\":0.2}},\"type\":\"barpolar\"}],\"pie\":[{\"automargin\":true,\"type\":\"pie\"}]},\"layout\":{\"autotypenumbers\":\"strict\",\"colorway\":[\"#636efa\",\"#EF553B\",\"#00cc96\",\"#ab63fa\",\"#FFA15A\",\"#19d3f3\",\"#FF6692\",\"#B6E880\",\"#FF97FF\",\"#FECB52\"],\"font\":{\"color\":\"#2a3f5f\"},\"hovermode\":\"closest\",\"hoverlabel\":{\"align\":\"left\"},\"paper_bgcolor\":\"white\",\"plot_bgcolor\":\"#E5ECF6\",\"polar\":{\"bgcolor\":\"#E5ECF6\",\"angularaxis\":{\"gridcolor\":\"white\",\"linecolor\":\"white\",\"ticks\":\"\"},\"radialaxis\":{\"gridcolor\":\"white\",\"linecolor\":\"white\",\"ticks\":\"\"}},\"ternary\":{\"bgcolor\":\"#E5ECF6\",\"aaxis\":{\"gridcolor\":\"white\",\"linecolor\":\"white\",\"ticks\":\"\"},\"baxis\":{\"gridcolor\":\"white\",\"linecolor\":\"white\",\"ticks\":\"\"},\"caxis\":{\"gridcolor\":\"white\",\"linecolor\":\"white\",\"ticks\":\"\"}},\"coloraxis\":{\"colorbar\":{\"outlinewidth\":0,\"ticks\":\"\"}},\"colorscale\":{\"sequential\":[[0.0,\"#0d0887\"],[0.1111111111111111,\"#46039f\"],[0.2222222222222222,\"#7201a8\"],[0.3333333333333333,\"#9c179e\"],[0.4444444444444444,\"#bd3786\"],[0.5555555555555556,\"#d8576b\"],[0.6666666666666666,\"#ed7953\"],[0.7777777777777778,\"#fb9f3a\"],[0.8888888888888888,\"#fdca26\"],[1.0,\"#f0f921\"]],\"sequentialminus\":[[0.0,\"#0d0887\"],[0.1111111111111111,\"#46039f\"],[0.2222222222222222,\"#7201a8\"],[0.3333333333333333,\"#9c179e\"],[0.4444444444444444,\"#bd3786\"],[0.5555555555555556,\"#d8576b\"],[0.6666666666666666,\"#ed7953\"],[0.7777777777777778,\"#fb9f3a\"],[0.8888888888888888,\"#fdca26\"],[1.0,\"#f0f921\"]],\"diverging\":[[0,\"#8e0152\"],[0.1,\"#c51b7d\"],[0.2,\"#de77ae\"],[0.3,\"#f1b6da\"],[0.4,\"#fde0ef\"],[0.5,\"#f7f7f7\"],[0.6,\"#e6f5d0\"],[0.7,\"#b8e186\"],[0.8,\"#7fbc41\"],[0.9,\"#4d9221\"],[1,\"#276419\"]]},\"xaxis\":{\"gridcolor\":\"white\",\"linecolor\":\"white\",\"ticks\":\"\",\"title\":{\"standoff\":15},\"zerolinecolor\":\"white\",\"automargin\":true,\"zerolinewidth\":2},\"yaxis\":{\"gridcolor\":\"white\",\"linecolor\":\"white\",\"ticks\":\"\",\"title\":{\"standoff\":15},\"zerolinecolor\":\"white\",\"automargin\":true,\"zerolinewidth\":2},\"scene\":{\"xaxis\":{\"backgroundcolor\":\"#E5ECF6\",\"gridcolor\":\"white\",\"linecolor\":\"white\",\"showbackground\":true,\"ticks\":\"\",\"zerolinecolor\":\"white\",\"gridwidth\":2},\"yaxis\":{\"backgroundcolor\":\"#E5ECF6\",\"gridcolor\":\"white\",\"linecolor\":\"white\",\"showbackground\":true,\"ticks\":\"\",\"zerolinecolor\":\"white\",\"gridwidth\":2},\"zaxis\":{\"backgroundcolor\":\"#E5ECF6\",\"gridcolor\":\"white\",\"linecolor\":\"white\",\"showbackground\":true,\"ticks\":\"\",\"zerolinecolor\":\"white\",\"gridwidth\":2}},\"shapedefaults\":{\"line\":{\"color\":\"#2a3f5f\"}},\"annotationdefaults\":{\"arrowcolor\":\"#2a3f5f\",\"arrowhead\":0,\"arrowwidth\":1},\"geo\":{\"bgcolor\":\"white\",\"landcolor\":\"#E5ECF6\",\"subunitcolor\":\"white\",\"showland\":true,\"showlakes\":true,\"lakecolor\":\"white\"},\"title\":{\"x\":0.05},\"mapbox\":{\"style\":\"light\"}}},\"xaxis\":{\"anchor\":\"y\",\"domain\":[0.0,1.0],\"title\":{\"text\":\"Game Title\"}},\"yaxis\":{\"anchor\":\"x\",\"domain\":[0.0,1.0],\"title\":{\"text\":\"Price of game ($)\"}},\"legend\":{\"tracegroupgap\":0},\"title\":{\"text\":\"Top 20 positive rated games on Steam\"}},                        {\"responsive\": true}                    ).then(function(){\n",
       "                            \n",
       "var gd = document.getElementById('229eb5ab-0892-423c-9645-c05b5de50ef1');\n",
       "var x = new MutationObserver(function (mutations, observer) {{\n",
       "        var display = window.getComputedStyle(gd).display;\n",
       "        if (!display || display === 'none') {{\n",
       "            console.log([gd, 'removed!']);\n",
       "            Plotly.purge(gd);\n",
       "            observer.disconnect();\n",
       "        }}\n",
       "}});\n",
       "\n",
       "// Listen for the removal of the full notebook cells\n",
       "var notebookContainer = gd.closest('#notebook-container');\n",
       "if (notebookContainer) {{\n",
       "    x.observe(notebookContainer, {childList: true});\n",
       "}}\n",
       "\n",
       "// Listen for the clearing of the current output cell\n",
       "var outputEl = gd.closest('.output');\n",
       "if (outputEl) {{\n",
       "    x.observe(outputEl, {childList: true});\n",
       "}}\n",
       "\n",
       "                        })                };                });            </script>        </div>"
      ]
     },
     "metadata": {},
     "output_type": "display_data"
    }
   ],
   "source": [
    "fig= px.scatter(top_games,x= 'title', y='price_final', title= 'Top 20 positive rated games on Steam', hover_name=\"title\", hover_data={'title': False, 'date_release': True, 'user_reviews': True, 'positive_ratio': True}, labels={\"title\":\"Title\", \"date_release\":\"Release Date\", \"price_final\":\"Price\",\"positive_ratio\": \"Positive Ratio\",\"user_reviews\":\"Total User Reviews\"})\n",
    "fig.update_yaxes(title_text='Price of game ($)')\n",
    "fig.update_xaxes(title_text='Game Title')\n",
    "\n",
    "\n",
    "fig.show()"
   ]
  },
  {
   "cell_type": "markdown",
   "id": "b2ff9f54",
   "metadata": {
    "papermill": {
     "duration": 0.008476,
     "end_time": "2023-10-24T05:38:43.917629",
     "exception": false,
     "start_time": "2023-10-24T05:38:43.909153",
     "status": "completed"
    },
    "tags": []
   },
   "source": [
    "**Summary**\n",
    "<p>Here we can see the top 20 games released on steam from games with a postive ratio above or equal to 90 and a rating of 'Overwhelmingly Postive', the highest rating possible. Games were then sorted in descending order so that only the titles with the highest user reviews, postive ratio and rating were displayed. This ensured that games with low user reviews were not present as lower user reviews often has less reliable and often skewed positive ratios and ratings. </p>"
   ]
  },
  {
   "cell_type": "markdown",
   "id": "a3eb3872",
   "metadata": {
    "papermill": {
     "duration": 0.008164,
     "end_time": "2023-10-24T05:38:43.934195",
     "exception": false,
     "start_time": "2023-10-24T05:38:43.926031",
     "status": "completed"
    },
    "tags": []
   },
   "source": [
    "#### Lowest 20 rated steam games released"
   ]
  },
  {
   "cell_type": "code",
   "execution_count": 11,
   "id": "d40fb827",
   "metadata": {
    "execution": {
     "iopub.execute_input": "2023-10-24T05:38:43.953337Z",
     "iopub.status.busy": "2023-10-24T05:38:43.952777Z",
     "iopub.status.idle": "2023-10-24T05:38:43.974793Z",
     "shell.execute_reply": "2023-10-24T05:38:43.973637Z"
    },
    "papermill": {
     "duration": 0.034105,
     "end_time": "2023-10-24T05:38:43.977119",
     "exception": false,
     "start_time": "2023-10-24T05:38:43.943014",
     "status": "completed"
    },
    "tags": []
   },
   "outputs": [
    {
     "data": {
      "text/html": [
       "<div>\n",
       "<style scoped>\n",
       "    .dataframe tbody tr th:only-of-type {\n",
       "        vertical-align: middle;\n",
       "    }\n",
       "\n",
       "    .dataframe tbody tr th {\n",
       "        vertical-align: top;\n",
       "    }\n",
       "\n",
       "    .dataframe thead th {\n",
       "        text-align: right;\n",
       "    }\n",
       "</style>\n",
       "<table border=\"1\" class=\"dataframe\">\n",
       "  <thead>\n",
       "    <tr style=\"text-align: right;\">\n",
       "      <th></th>\n",
       "      <th>title</th>\n",
       "      <th>user_reviews</th>\n",
       "      <th>positive_ratio</th>\n",
       "    </tr>\n",
       "  </thead>\n",
       "  <tbody>\n",
       "    <tr>\n",
       "      <th>14190</th>\n",
       "      <td>Overwatch® 2</td>\n",
       "      <td>181198</td>\n",
       "      <td>9</td>\n",
       "    </tr>\n",
       "    <tr>\n",
       "      <th>37392</th>\n",
       "      <td>Mirror 2: Project X</td>\n",
       "      <td>110981</td>\n",
       "      <td>26</td>\n",
       "    </tr>\n",
       "    <tr>\n",
       "      <th>48774</th>\n",
       "      <td>eFootball™ 2024</td>\n",
       "      <td>59071</td>\n",
       "      <td>37</td>\n",
       "    </tr>\n",
       "    <tr>\n",
       "      <th>50794</th>\n",
       "      <td>PAYDAY 3</td>\n",
       "      <td>29458</td>\n",
       "      <td>38</td>\n",
       "    </tr>\n",
       "    <tr>\n",
       "      <th>3191</th>\n",
       "      <td>War of the Three Kingdoms</td>\n",
       "      <td>21276</td>\n",
       "      <td>15</td>\n",
       "    </tr>\n",
       "    <tr>\n",
       "      <th>27239</th>\n",
       "      <td>Call of Duty®: Warzone™ 2.0</td>\n",
       "      <td>19770</td>\n",
       "      <td>34</td>\n",
       "    </tr>\n",
       "    <tr>\n",
       "      <th>48536</th>\n",
       "      <td>MOBILE SUIT GUNDAM BATTLE OPERATION 2</td>\n",
       "      <td>15685</td>\n",
       "      <td>20</td>\n",
       "    </tr>\n",
       "    <tr>\n",
       "      <th>34045</th>\n",
       "      <td>Cultivation Tales</td>\n",
       "      <td>12299</td>\n",
       "      <td>37</td>\n",
       "    </tr>\n",
       "    <tr>\n",
       "      <th>34902</th>\n",
       "      <td>DYNASTY WARRIORS 9</td>\n",
       "      <td>9363</td>\n",
       "      <td>34</td>\n",
       "    </tr>\n",
       "    <tr>\n",
       "      <th>12651</th>\n",
       "      <td>Destiny 2: Lightfall</td>\n",
       "      <td>7343</td>\n",
       "      <td>31</td>\n",
       "    </tr>\n",
       "    <tr>\n",
       "      <th>48498</th>\n",
       "      <td>Elite Dangerous: Odyssey</td>\n",
       "      <td>7011</td>\n",
       "      <td>37</td>\n",
       "    </tr>\n",
       "    <tr>\n",
       "      <th>43127</th>\n",
       "      <td>江湖十一</td>\n",
       "      <td>4772</td>\n",
       "      <td>36</td>\n",
       "    </tr>\n",
       "    <tr>\n",
       "      <th>3386</th>\n",
       "      <td>Expansion - Europa Universalis IV: Leviathan</td>\n",
       "      <td>4723</td>\n",
       "      <td>10</td>\n",
       "    </tr>\n",
       "    <tr>\n",
       "      <th>47478</th>\n",
       "      <td>Destiny 2: Shadowkeep</td>\n",
       "      <td>4060</td>\n",
       "      <td>35</td>\n",
       "    </tr>\n",
       "    <tr>\n",
       "      <th>41670</th>\n",
       "      <td>Retirement Simulator</td>\n",
       "      <td>3873</td>\n",
       "      <td>36</td>\n",
       "    </tr>\n",
       "    <tr>\n",
       "      <th>24341</th>\n",
       "      <td>Deus Ex: The Fall</td>\n",
       "      <td>3278</td>\n",
       "      <td>35</td>\n",
       "    </tr>\n",
       "    <tr>\n",
       "      <th>36294</th>\n",
       "      <td>Spacebase DF-9</td>\n",
       "      <td>3261</td>\n",
       "      <td>18</td>\n",
       "    </tr>\n",
       "    <tr>\n",
       "      <th>24699</th>\n",
       "      <td>RollerCoaster Tycoon World™</td>\n",
       "      <td>3029</td>\n",
       "      <td>25</td>\n",
       "    </tr>\n",
       "    <tr>\n",
       "      <th>33974</th>\n",
       "      <td>Flatout 3: Chaos &amp; Destruction</td>\n",
       "      <td>2766</td>\n",
       "      <td>15</td>\n",
       "    </tr>\n",
       "    <tr>\n",
       "      <th>42171</th>\n",
       "      <td>Stronghold 3 Gold</td>\n",
       "      <td>2617</td>\n",
       "      <td>29</td>\n",
       "    </tr>\n",
       "  </tbody>\n",
       "</table>\n",
       "</div>"
      ],
      "text/plain": [
       "                                              title  user_reviews  \\\n",
       "14190                                  Overwatch® 2        181198   \n",
       "37392                           Mirror 2: Project X        110981   \n",
       "48774                               eFootball™ 2024         59071   \n",
       "50794                                      PAYDAY 3         29458   \n",
       "3191                      War of the Three Kingdoms         21276   \n",
       "27239                   Call of Duty®: Warzone™ 2.0         19770   \n",
       "48536         MOBILE SUIT GUNDAM BATTLE OPERATION 2         15685   \n",
       "34045                             Cultivation Tales         12299   \n",
       "34902                            DYNASTY WARRIORS 9          9363   \n",
       "12651                          Destiny 2: Lightfall          7343   \n",
       "48498                      Elite Dangerous: Odyssey          7011   \n",
       "43127                                          江湖十一          4772   \n",
       "3386   Expansion - Europa Universalis IV: Leviathan          4723   \n",
       "47478                         Destiny 2: Shadowkeep          4060   \n",
       "41670                          Retirement Simulator          3873   \n",
       "24341                             Deus Ex: The Fall          3278   \n",
       "36294                                Spacebase DF-9          3261   \n",
       "24699                   RollerCoaster Tycoon World™          3029   \n",
       "33974                Flatout 3: Chaos & Destruction          2766   \n",
       "42171                             Stronghold 3 Gold          2617   \n",
       "\n",
       "       positive_ratio  \n",
       "14190               9  \n",
       "37392              26  \n",
       "48774              37  \n",
       "50794              38  \n",
       "3191               15  \n",
       "27239              34  \n",
       "48536              20  \n",
       "34045              37  \n",
       "34902              34  \n",
       "12651              31  \n",
       "48498              37  \n",
       "43127              36  \n",
       "3386               10  \n",
       "47478              35  \n",
       "41670              36  \n",
       "24341              35  \n",
       "36294              18  \n",
       "24699              25  \n",
       "33974              15  \n",
       "42171              29  "
      ]
     },
     "execution_count": 11,
     "metadata": {},
     "output_type": "execute_result"
    }
   ],
   "source": [
    "bottom_games = df[(df['positive_ratio'] <= 50) & (df['rating'].isin(['Overwhelmingly Negative', 'Negative','Mostly Negative']))].sort_values(by=['user_reviews', 'positive_ratio'], ascending=[False, True]).head(20)\n",
    "bottom_games[['title','user_reviews','positive_ratio']]"
   ]
  },
  {
   "cell_type": "code",
   "execution_count": 12,
   "id": "4e337298",
   "metadata": {
    "execution": {
     "iopub.execute_input": "2023-10-24T05:38:43.996868Z",
     "iopub.status.busy": "2023-10-24T05:38:43.996420Z",
     "iopub.status.idle": "2023-10-24T05:38:44.067541Z",
     "shell.execute_reply": "2023-10-24T05:38:44.066393Z"
    },
    "papermill": {
     "duration": 0.083861,
     "end_time": "2023-10-24T05:38:44.069947",
     "exception": false,
     "start_time": "2023-10-24T05:38:43.986086",
     "status": "completed"
    },
    "tags": []
   },
   "outputs": [
    {
     "data": {
      "text/html": [
       "<div>                            <div id=\"5af77cb7-5826-47f8-a67d-4dd0fb3ea000\" class=\"plotly-graph-div\" style=\"height:525px; width:100%;\"></div>            <script type=\"text/javascript\">                require([\"plotly\"], function(Plotly) {                    window.PLOTLYENV=window.PLOTLYENV || {};                                    if (document.getElementById(\"5af77cb7-5826-47f8-a67d-4dd0fb3ea000\")) {                    Plotly.newPlot(                        \"5af77cb7-5826-47f8-a67d-4dd0fb3ea000\",                        [{\"customdata\":[[\"2023-08-10T00:00:00\",181198,9],[\"2022-01-20T00:00:00\",110981,26],[\"2021-09-29T00:00:00\",59071,37],[\"2023-09-21T00:00:00\",29458,38],[\"2021-12-17T00:00:00\",21276,15],[\"2022-11-16T00:00:00\",19770,34],[\"2023-05-30T00:00:00\",15685,20],[\"2022-04-14T00:00:00\",12299,37],[\"2019-12-04T00:00:00\",9363,34],[\"2023-02-28T00:00:00\",7343,31],[\"2021-05-19T00:00:00\",7011,37],[\"2023-01-10T00:00:00\",4772,36],[\"2021-04-27T00:00:00\",4723,10],[\"2019-10-01T00:00:00\",4060,35],[\"2022-04-19T00:00:00\",3873,36],[\"2014-03-17T00:00:00\",3278,35],[\"2014-10-27T00:00:00\",3261,18],[\"2016-11-16T00:00:00\",3029,25],[\"2011-12-13T00:00:00\",2766,15],[\"2012-05-25T00:00:00\",2617,29]],\"hovertemplate\":\"\\u003cb\\u003e%{hovertext}\\u003c\\u002fb\\u003e\\u003cbr\\u003e\\u003cbr\\u003ePrice=%{y}\\u003cbr\\u003eRelease Date=%{customdata[0]}\\u003cbr\\u003eTotal User Reviews=%{customdata[1]}\\u003cbr\\u003ePositive Ratio=%{customdata[2]}\\u003cextra\\u003e\\u003c\\u002fextra\\u003e\",\"hovertext\":[\"Overwatch® 2\",\"Mirror 2: Project X\",\"eFootball™ 2024\",\"PAYDAY 3\",\"War of the Three Kingdoms\",\"Call of Duty®: Warzone™ 2.0\",\"MOBILE SUIT GUNDAM BATTLE OPERATION 2\",\"Cultivation Tales\",\"DYNASTY WARRIORS 9\",\"Destiny 2: Lightfall\",\"Elite Dangerous: Odyssey\",\"江湖十一\",\"Expansion - Europa Universalis IV: Leviathan\",\"Destiny 2: Shadowkeep\",\"Retirement Simulator\",\"Deus Ex: The Fall\",\"Spacebase DF-9\",\"RollerCoaster Tycoon World™\",\"Flatout 3: Chaos & Destruction\",\"Stronghold 3 Gold\"],\"legendgroup\":\"\",\"marker\":{\"color\":\"#636efa\",\"symbol\":\"circle\"},\"mode\":\"markers\",\"name\":\"\",\"orientation\":\"v\",\"showlegend\":false,\"x\":[\"Overwatch® 2\",\"Mirror 2: Project X\",\"eFootball™ 2024\",\"PAYDAY 3\",\"War of the Three Kingdoms\",\"Call of Duty®: Warzone™ 2.0\",\"MOBILE SUIT GUNDAM BATTLE OPERATION 2\",\"Cultivation Tales\",\"DYNASTY WARRIORS 9\",\"Destiny 2: Lightfall\",\"Elite Dangerous: Odyssey\",\"江湖十一\",\"Expansion - Europa Universalis IV: Leviathan\",\"Destiny 2: Shadowkeep\",\"Retirement Simulator\",\"Deus Ex: The Fall\",\"Spacebase DF-9\",\"RollerCoaster Tycoon World™\",\"Flatout 3: Chaos & Destruction\",\"Stronghold 3 Gold\"],\"xaxis\":\"x\",\"y\":[0.0,1.99,0.0,40.0,0.0,0.0,0.0,19.99,44.99,50.0,39.99,17.99,19.99,24.99,13.99,9.99,9.99,14.99,9.99,29.99],\"yaxis\":\"y\",\"type\":\"scatter\"}],                        {\"template\":{\"data\":{\"histogram2dcontour\":[{\"type\":\"histogram2dcontour\",\"colorbar\":{\"outlinewidth\":0,\"ticks\":\"\"},\"colorscale\":[[0.0,\"#0d0887\"],[0.1111111111111111,\"#46039f\"],[0.2222222222222222,\"#7201a8\"],[0.3333333333333333,\"#9c179e\"],[0.4444444444444444,\"#bd3786\"],[0.5555555555555556,\"#d8576b\"],[0.6666666666666666,\"#ed7953\"],[0.7777777777777778,\"#fb9f3a\"],[0.8888888888888888,\"#fdca26\"],[1.0,\"#f0f921\"]]}],\"choropleth\":[{\"type\":\"choropleth\",\"colorbar\":{\"outlinewidth\":0,\"ticks\":\"\"}}],\"histogram2d\":[{\"type\":\"histogram2d\",\"colorbar\":{\"outlinewidth\":0,\"ticks\":\"\"},\"colorscale\":[[0.0,\"#0d0887\"],[0.1111111111111111,\"#46039f\"],[0.2222222222222222,\"#7201a8\"],[0.3333333333333333,\"#9c179e\"],[0.4444444444444444,\"#bd3786\"],[0.5555555555555556,\"#d8576b\"],[0.6666666666666666,\"#ed7953\"],[0.7777777777777778,\"#fb9f3a\"],[0.8888888888888888,\"#fdca26\"],[1.0,\"#f0f921\"]]}],\"heatmap\":[{\"type\":\"heatmap\",\"colorbar\":{\"outlinewidth\":0,\"ticks\":\"\"},\"colorscale\":[[0.0,\"#0d0887\"],[0.1111111111111111,\"#46039f\"],[0.2222222222222222,\"#7201a8\"],[0.3333333333333333,\"#9c179e\"],[0.4444444444444444,\"#bd3786\"],[0.5555555555555556,\"#d8576b\"],[0.6666666666666666,\"#ed7953\"],[0.7777777777777778,\"#fb9f3a\"],[0.8888888888888888,\"#fdca26\"],[1.0,\"#f0f921\"]]}],\"heatmapgl\":[{\"type\":\"heatmapgl\",\"colorbar\":{\"outlinewidth\":0,\"ticks\":\"\"},\"colorscale\":[[0.0,\"#0d0887\"],[0.1111111111111111,\"#46039f\"],[0.2222222222222222,\"#7201a8\"],[0.3333333333333333,\"#9c179e\"],[0.4444444444444444,\"#bd3786\"],[0.5555555555555556,\"#d8576b\"],[0.6666666666666666,\"#ed7953\"],[0.7777777777777778,\"#fb9f3a\"],[0.8888888888888888,\"#fdca26\"],[1.0,\"#f0f921\"]]}],\"contourcarpet\":[{\"type\":\"contourcarpet\",\"colorbar\":{\"outlinewidth\":0,\"ticks\":\"\"}}],\"contour\":[{\"type\":\"contour\",\"colorbar\":{\"outlinewidth\":0,\"ticks\":\"\"},\"colorscale\":[[0.0,\"#0d0887\"],[0.1111111111111111,\"#46039f\"],[0.2222222222222222,\"#7201a8\"],[0.3333333333333333,\"#9c179e\"],[0.4444444444444444,\"#bd3786\"],[0.5555555555555556,\"#d8576b\"],[0.6666666666666666,\"#ed7953\"],[0.7777777777777778,\"#fb9f3a\"],[0.8888888888888888,\"#fdca26\"],[1.0,\"#f0f921\"]]}],\"surface\":[{\"type\":\"surface\",\"colorbar\":{\"outlinewidth\":0,\"ticks\":\"\"},\"colorscale\":[[0.0,\"#0d0887\"],[0.1111111111111111,\"#46039f\"],[0.2222222222222222,\"#7201a8\"],[0.3333333333333333,\"#9c179e\"],[0.4444444444444444,\"#bd3786\"],[0.5555555555555556,\"#d8576b\"],[0.6666666666666666,\"#ed7953\"],[0.7777777777777778,\"#fb9f3a\"],[0.8888888888888888,\"#fdca26\"],[1.0,\"#f0f921\"]]}],\"mesh3d\":[{\"type\":\"mesh3d\",\"colorbar\":{\"outlinewidth\":0,\"ticks\":\"\"}}],\"scatter\":[{\"fillpattern\":{\"fillmode\":\"overlay\",\"size\":10,\"solidity\":0.2},\"type\":\"scatter\"}],\"parcoords\":[{\"type\":\"parcoords\",\"line\":{\"colorbar\":{\"outlinewidth\":0,\"ticks\":\"\"}}}],\"scatterpolargl\":[{\"type\":\"scatterpolargl\",\"marker\":{\"colorbar\":{\"outlinewidth\":0,\"ticks\":\"\"}}}],\"bar\":[{\"error_x\":{\"color\":\"#2a3f5f\"},\"error_y\":{\"color\":\"#2a3f5f\"},\"marker\":{\"line\":{\"color\":\"#E5ECF6\",\"width\":0.5},\"pattern\":{\"fillmode\":\"overlay\",\"size\":10,\"solidity\":0.2}},\"type\":\"bar\"}],\"scattergeo\":[{\"type\":\"scattergeo\",\"marker\":{\"colorbar\":{\"outlinewidth\":0,\"ticks\":\"\"}}}],\"scatterpolar\":[{\"type\":\"scatterpolar\",\"marker\":{\"colorbar\":{\"outlinewidth\":0,\"ticks\":\"\"}}}],\"histogram\":[{\"marker\":{\"pattern\":{\"fillmode\":\"overlay\",\"size\":10,\"solidity\":0.2}},\"type\":\"histogram\"}],\"scattergl\":[{\"type\":\"scattergl\",\"marker\":{\"colorbar\":{\"outlinewidth\":0,\"ticks\":\"\"}}}],\"scatter3d\":[{\"type\":\"scatter3d\",\"line\":{\"colorbar\":{\"outlinewidth\":0,\"ticks\":\"\"}},\"marker\":{\"colorbar\":{\"outlinewidth\":0,\"ticks\":\"\"}}}],\"scattermapbox\":[{\"type\":\"scattermapbox\",\"marker\":{\"colorbar\":{\"outlinewidth\":0,\"ticks\":\"\"}}}],\"scatterternary\":[{\"type\":\"scatterternary\",\"marker\":{\"colorbar\":{\"outlinewidth\":0,\"ticks\":\"\"}}}],\"scattercarpet\":[{\"type\":\"scattercarpet\",\"marker\":{\"colorbar\":{\"outlinewidth\":0,\"ticks\":\"\"}}}],\"carpet\":[{\"aaxis\":{\"endlinecolor\":\"#2a3f5f\",\"gridcolor\":\"white\",\"linecolor\":\"white\",\"minorgridcolor\":\"white\",\"startlinecolor\":\"#2a3f5f\"},\"baxis\":{\"endlinecolor\":\"#2a3f5f\",\"gridcolor\":\"white\",\"linecolor\":\"white\",\"minorgridcolor\":\"white\",\"startlinecolor\":\"#2a3f5f\"},\"type\":\"carpet\"}],\"table\":[{\"cells\":{\"fill\":{\"color\":\"#EBF0F8\"},\"line\":{\"color\":\"white\"}},\"header\":{\"fill\":{\"color\":\"#C8D4E3\"},\"line\":{\"color\":\"white\"}},\"type\":\"table\"}],\"barpolar\":[{\"marker\":{\"line\":{\"color\":\"#E5ECF6\",\"width\":0.5},\"pattern\":{\"fillmode\":\"overlay\",\"size\":10,\"solidity\":0.2}},\"type\":\"barpolar\"}],\"pie\":[{\"automargin\":true,\"type\":\"pie\"}]},\"layout\":{\"autotypenumbers\":\"strict\",\"colorway\":[\"#636efa\",\"#EF553B\",\"#00cc96\",\"#ab63fa\",\"#FFA15A\",\"#19d3f3\",\"#FF6692\",\"#B6E880\",\"#FF97FF\",\"#FECB52\"],\"font\":{\"color\":\"#2a3f5f\"},\"hovermode\":\"closest\",\"hoverlabel\":{\"align\":\"left\"},\"paper_bgcolor\":\"white\",\"plot_bgcolor\":\"#E5ECF6\",\"polar\":{\"bgcolor\":\"#E5ECF6\",\"angularaxis\":{\"gridcolor\":\"white\",\"linecolor\":\"white\",\"ticks\":\"\"},\"radialaxis\":{\"gridcolor\":\"white\",\"linecolor\":\"white\",\"ticks\":\"\"}},\"ternary\":{\"bgcolor\":\"#E5ECF6\",\"aaxis\":{\"gridcolor\":\"white\",\"linecolor\":\"white\",\"ticks\":\"\"},\"baxis\":{\"gridcolor\":\"white\",\"linecolor\":\"white\",\"ticks\":\"\"},\"caxis\":{\"gridcolor\":\"white\",\"linecolor\":\"white\",\"ticks\":\"\"}},\"coloraxis\":{\"colorbar\":{\"outlinewidth\":0,\"ticks\":\"\"}},\"colorscale\":{\"sequential\":[[0.0,\"#0d0887\"],[0.1111111111111111,\"#46039f\"],[0.2222222222222222,\"#7201a8\"],[0.3333333333333333,\"#9c179e\"],[0.4444444444444444,\"#bd3786\"],[0.5555555555555556,\"#d8576b\"],[0.6666666666666666,\"#ed7953\"],[0.7777777777777778,\"#fb9f3a\"],[0.8888888888888888,\"#fdca26\"],[1.0,\"#f0f921\"]],\"sequentialminus\":[[0.0,\"#0d0887\"],[0.1111111111111111,\"#46039f\"],[0.2222222222222222,\"#7201a8\"],[0.3333333333333333,\"#9c179e\"],[0.4444444444444444,\"#bd3786\"],[0.5555555555555556,\"#d8576b\"],[0.6666666666666666,\"#ed7953\"],[0.7777777777777778,\"#fb9f3a\"],[0.8888888888888888,\"#fdca26\"],[1.0,\"#f0f921\"]],\"diverging\":[[0,\"#8e0152\"],[0.1,\"#c51b7d\"],[0.2,\"#de77ae\"],[0.3,\"#f1b6da\"],[0.4,\"#fde0ef\"],[0.5,\"#f7f7f7\"],[0.6,\"#e6f5d0\"],[0.7,\"#b8e186\"],[0.8,\"#7fbc41\"],[0.9,\"#4d9221\"],[1,\"#276419\"]]},\"xaxis\":{\"gridcolor\":\"white\",\"linecolor\":\"white\",\"ticks\":\"\",\"title\":{\"standoff\":15},\"zerolinecolor\":\"white\",\"automargin\":true,\"zerolinewidth\":2},\"yaxis\":{\"gridcolor\":\"white\",\"linecolor\":\"white\",\"ticks\":\"\",\"title\":{\"standoff\":15},\"zerolinecolor\":\"white\",\"automargin\":true,\"zerolinewidth\":2},\"scene\":{\"xaxis\":{\"backgroundcolor\":\"#E5ECF6\",\"gridcolor\":\"white\",\"linecolor\":\"white\",\"showbackground\":true,\"ticks\":\"\",\"zerolinecolor\":\"white\",\"gridwidth\":2},\"yaxis\":{\"backgroundcolor\":\"#E5ECF6\",\"gridcolor\":\"white\",\"linecolor\":\"white\",\"showbackground\":true,\"ticks\":\"\",\"zerolinecolor\":\"white\",\"gridwidth\":2},\"zaxis\":{\"backgroundcolor\":\"#E5ECF6\",\"gridcolor\":\"white\",\"linecolor\":\"white\",\"showbackground\":true,\"ticks\":\"\",\"zerolinecolor\":\"white\",\"gridwidth\":2}},\"shapedefaults\":{\"line\":{\"color\":\"#2a3f5f\"}},\"annotationdefaults\":{\"arrowcolor\":\"#2a3f5f\",\"arrowhead\":0,\"arrowwidth\":1},\"geo\":{\"bgcolor\":\"white\",\"landcolor\":\"#E5ECF6\",\"subunitcolor\":\"white\",\"showland\":true,\"showlakes\":true,\"lakecolor\":\"white\"},\"title\":{\"x\":0.05},\"mapbox\":{\"style\":\"light\"}}},\"xaxis\":{\"anchor\":\"y\",\"domain\":[0.0,1.0],\"title\":{\"text\":\"Game Title\"}},\"yaxis\":{\"anchor\":\"x\",\"domain\":[0.0,1.0],\"title\":{\"text\":\"Price of game ($)\"}},\"legend\":{\"tracegroupgap\":0},\"title\":{\"text\":\"Top 20 negative rated games on Steam\"}},                        {\"responsive\": true}                    ).then(function(){\n",
       "                            \n",
       "var gd = document.getElementById('5af77cb7-5826-47f8-a67d-4dd0fb3ea000');\n",
       "var x = new MutationObserver(function (mutations, observer) {{\n",
       "        var display = window.getComputedStyle(gd).display;\n",
       "        if (!display || display === 'none') {{\n",
       "            console.log([gd, 'removed!']);\n",
       "            Plotly.purge(gd);\n",
       "            observer.disconnect();\n",
       "        }}\n",
       "}});\n",
       "\n",
       "// Listen for the removal of the full notebook cells\n",
       "var notebookContainer = gd.closest('#notebook-container');\n",
       "if (notebookContainer) {{\n",
       "    x.observe(notebookContainer, {childList: true});\n",
       "}}\n",
       "\n",
       "// Listen for the clearing of the current output cell\n",
       "var outputEl = gd.closest('.output');\n",
       "if (outputEl) {{\n",
       "    x.observe(outputEl, {childList: true});\n",
       "}}\n",
       "\n",
       "                        })                };                });            </script>        </div>"
      ]
     },
     "metadata": {},
     "output_type": "display_data"
    }
   ],
   "source": [
    "fig= px.scatter(bottom_games,x= 'title', y='price_final', title= 'Top 20 negative rated games on Steam', hover_name=\"title\", hover_data={'title': False, 'date_release': True, 'user_reviews': True, 'positive_ratio': True}, labels={\"title\":\"Game Title\", \"date_release\":\"Release Date\", \"price_final\":\"Price\",\"positive_ratio\": \"Positive Ratio\",\"user_reviews\":\"Total User Reviews\"})\n",
    "fig.update_yaxes(title_text='Price of game ($)')\n",
    "fig.update_xaxes(title_text='Game Title')\n",
    "\n",
    "\n",
    "fig.show()"
   ]
  },
  {
   "cell_type": "markdown",
   "id": "b7c27153",
   "metadata": {
    "papermill": {
     "duration": 0.009018,
     "end_time": "2023-10-24T05:38:44.088359",
     "exception": false,
     "start_time": "2023-10-24T05:38:44.079341",
     "status": "completed"
    },
    "tags": []
   },
   "source": [
    "**Summary**\n",
    "<p>Here we can see the bottom 20 games released on Steam from games with a positive ratio below or equal to 50 and a rating of either 'Overwhelmingly Negative', 'Mostly Negative' or 'Negative', the bottom three rating classifications. Games were then sorted in descending order for user reviews and ascending order for positive ratio so that only the titles with the most user reviews but the worst positive ratio and rating were displayed. Similar to the previous analysis, this ensured that games with low user reviews were not present as lower user reviews often have less reliable and often skewed positive ratios and ratings. </p>\n",
    "\n",
    "\n",
    "### Descriptive Statistics of software pricing across each operating system (Windows, Mac, Linux)"
   ]
  },
  {
   "cell_type": "code",
   "execution_count": 13,
   "id": "9fe204fe",
   "metadata": {
    "execution": {
     "iopub.execute_input": "2023-10-24T05:38:44.108568Z",
     "iopub.status.busy": "2023-10-24T05:38:44.108218Z",
     "iopub.status.idle": "2023-10-24T05:38:44.140366Z",
     "shell.execute_reply": "2023-10-24T05:38:44.139248Z"
    },
    "papermill": {
     "duration": 0.045598,
     "end_time": "2023-10-24T05:38:44.143137",
     "exception": false,
     "start_time": "2023-10-24T05:38:44.097539",
     "status": "completed"
    },
    "tags": []
   },
   "outputs": [
    {
     "name": "stdout",
     "output_type": "stream",
     "text": [
      "┌─────────┬────────┬──────────┬───────┬────────┐\n",
      "│         │   mean │   median │   min │    max │\n",
      "├─────────┼────────┼──────────┼───────┼────────┤\n",
      "│ Windows │  10.53 │     6.99 │  0.27 │ 299.99 │\n",
      "│ Mac     │   9.96 │     6.99 │  0.27 │ 269.99 │\n",
      "│ Linux   │   9.74 │     6.99 │  0.27 │ 199.99 │\n",
      "└─────────┴────────┴──────────┴───────┴────────┘\n"
     ]
    }
   ],
   "source": [
    "windows_games = df[(df['win'] == True) & (df['price_final'] != 0)]\n",
    "mac_games = df[(df['mac'] == True) & (df['price_final'] != 0)]\n",
    "linux_games = df[(df['linux'] == True) & (df['price_final'] != 0)]\n",
    "\n",
    "os_stats = {\n",
    "    'Windows': windows_games['price_final'].agg(['mean','median','min','max']).round(2),\n",
    "    'Mac': mac_games['price_final'].agg(['mean','median','min','max']).round(2),\n",
    "    'Linux': linux_games['price_final'].agg(['mean','median','min','max']).round(2)\n",
    "}\n",
    "\n",
    "os_stats_df = pd.DataFrame(os_stats)\n",
    "os_stats_final_df = os_stats_df.transpose()\n",
    "print(tabulate(os_stats_final_df, headers= 'keys', tablefmt='simple_outline'))"
   ]
  },
  {
   "cell_type": "markdown",
   "id": "ac3d951a",
   "metadata": {
    "papermill": {
     "duration": 0.008985,
     "end_time": "2023-10-24T05:38:44.161631",
     "exception": false,
     "start_time": "2023-10-24T05:38:44.152646",
     "status": "completed"
    },
    "tags": []
   },
   "source": [
    "**Summary**\n",
    "<p>Steam hosts a storefront for 3 different operating systems. During this analysis, we split the data into three datasets for each operating system that Steam provides games for. The data was then investigated using descriptive statistics to find if any specific operating system was priced differently from others. Interestingly the mean and median of each operating system are quite similar to each other, suggesting that the operating system has little to no effect on game pricing.</p>"
   ]
  },
  {
   "cell_type": "markdown",
   "id": "d839e59d",
   "metadata": {
    "papermill": {
     "duration": 0.009578,
     "end_time": "2023-10-24T05:38:44.180438",
     "exception": false,
     "start_time": "2023-10-24T05:38:44.170860",
     "status": "completed"
    },
    "tags": []
   },
   "source": [
    "#### Game Rating Distribution "
   ]
  },
  {
   "cell_type": "code",
   "execution_count": 14,
   "id": "849ea455",
   "metadata": {
    "execution": {
     "iopub.execute_input": "2023-10-24T05:38:44.201288Z",
     "iopub.status.busy": "2023-10-24T05:38:44.200078Z",
     "iopub.status.idle": "2023-10-24T05:38:44.344539Z",
     "shell.execute_reply": "2023-10-24T05:38:44.343325Z"
    },
    "papermill": {
     "duration": 0.157286,
     "end_time": "2023-10-24T05:38:44.347017",
     "exception": false,
     "start_time": "2023-10-24T05:38:44.189731",
     "status": "completed"
    },
    "tags": []
   },
   "outputs": [
    {
     "data": {
      "text/html": [
       "<div>                            <div id=\"8b6cbe7f-2a4c-4514-8d40-29a8ce83a58e\" class=\"plotly-graph-div\" style=\"height:525px; width:100%;\"></div>            <script type=\"text/javascript\">                require([\"plotly\"], function(Plotly) {                    window.PLOTLYENV=window.PLOTLYENV || {};                                    if (document.getElementById(\"8b6cbe7f-2a4c-4514-8d40-29a8ce83a58e\")) {                    Plotly.newPlot(                        \"8b6cbe7f-2a4c-4514-8d40-29a8ce83a58e\",                        [{\"alignmentgroup\":\"True\",\"hovertemplate\":\"Rating=%{y}\\u003cbr\\u003eGame Count=%{x}\\u003cextra\\u003e\\u003c\\u002fextra\\u003e\",\"legendgroup\":\"Positive\",\"marker\":{\"color\":\"#636efa\",\"pattern\":{\"shape\":\"\"}},\"name\":\"Positive\",\"offsetgroup\":\"Positive\",\"orientation\":\"h\",\"showlegend\":true,\"textposition\":\"auto\",\"texttemplate\":\"%{x}\",\"x\":[13492],\"xaxis\":\"x\",\"y\":[\"Positive\"],\"yaxis\":\"y\",\"type\":\"bar\"},{\"alignmentgroup\":\"True\",\"hovertemplate\":\"Rating=%{y}\\u003cbr\\u003eGame Count=%{x}\\u003cextra\\u003e\\u003c\\u002fextra\\u003e\",\"legendgroup\":\"Very Positive\",\"marker\":{\"color\":\"#EF553B\",\"pattern\":{\"shape\":\"\"}},\"name\":\"Very Positive\",\"offsetgroup\":\"Very Positive\",\"orientation\":\"h\",\"showlegend\":true,\"textposition\":\"auto\",\"texttemplate\":\"%{x}\",\"x\":[13107],\"xaxis\":\"x\",\"y\":[\"Very Positive\"],\"yaxis\":\"y\",\"type\":\"bar\"},{\"alignmentgroup\":\"True\",\"hovertemplate\":\"Rating=%{y}\\u003cbr\\u003eGame Count=%{x}\\u003cextra\\u003e\\u003c\\u002fextra\\u003e\",\"legendgroup\":\"Mixed\",\"marker\":{\"color\":\"#00cc96\",\"pattern\":{\"shape\":\"\"}},\"name\":\"Mixed\",\"offsetgroup\":\"Mixed\",\"orientation\":\"h\",\"showlegend\":true,\"textposition\":\"auto\",\"texttemplate\":\"%{x}\",\"x\":[12135],\"xaxis\":\"x\",\"y\":[\"Mixed\"],\"yaxis\":\"y\",\"type\":\"bar\"},{\"alignmentgroup\":\"True\",\"hovertemplate\":\"Rating=%{y}\\u003cbr\\u003eGame Count=%{x}\\u003cextra\\u003e\\u003c\\u002fextra\\u003e\",\"legendgroup\":\"Mostly Positive\",\"marker\":{\"color\":\"#ab63fa\",\"pattern\":{\"shape\":\"\"}},\"name\":\"Mostly Positive\",\"offsetgroup\":\"Mostly Positive\",\"orientation\":\"h\",\"showlegend\":true,\"textposition\":\"auto\",\"texttemplate\":\"%{x}\",\"x\":[8727],\"xaxis\":\"x\",\"y\":[\"Mostly Positive\"],\"yaxis\":\"y\",\"type\":\"bar\"},{\"alignmentgroup\":\"True\",\"hovertemplate\":\"Rating=%{y}\\u003cbr\\u003eGame Count=%{x}\\u003cextra\\u003e\\u003c\\u002fextra\\u003e\",\"legendgroup\":\"Mostly Negative\",\"marker\":{\"color\":\"#FFA15A\",\"pattern\":{\"shape\":\"\"}},\"name\":\"Mostly Negative\",\"offsetgroup\":\"Mostly Negative\",\"orientation\":\"h\",\"showlegend\":true,\"textposition\":\"auto\",\"texttemplate\":\"%{x}\",\"x\":[1848],\"xaxis\":\"x\",\"y\":[\"Mostly Negative\"],\"yaxis\":\"y\",\"type\":\"bar\"},{\"alignmentgroup\":\"True\",\"hovertemplate\":\"Rating=%{y}\\u003cbr\\u003eGame Count=%{x}\\u003cextra\\u003e\\u003c\\u002fextra\\u003e\",\"legendgroup\":\"Overwhelmingly Positive\",\"marker\":{\"color\":\"#19d3f3\",\"pattern\":{\"shape\":\"\"}},\"name\":\"Overwhelmingly Positive\",\"offsetgroup\":\"Overwhelmingly Positive\",\"orientation\":\"h\",\"showlegend\":true,\"textposition\":\"auto\",\"texttemplate\":\"%{x}\",\"x\":[1110],\"xaxis\":\"x\",\"y\":[\"Overwhelmingly Positive\"],\"yaxis\":\"y\",\"type\":\"bar\"},{\"alignmentgroup\":\"True\",\"hovertemplate\":\"Rating=%{y}\\u003cbr\\u003eGame Count=%{x}\\u003cextra\\u003e\\u003c\\u002fextra\\u003e\",\"legendgroup\":\"Negative\",\"marker\":{\"color\":\"#FF6692\",\"pattern\":{\"shape\":\"\"}},\"name\":\"Negative\",\"offsetgroup\":\"Negative\",\"orientation\":\"h\",\"showlegend\":true,\"textposition\":\"auto\",\"texttemplate\":\"%{x}\",\"x\":[303],\"xaxis\":\"x\",\"y\":[\"Negative\"],\"yaxis\":\"y\",\"type\":\"bar\"},{\"alignmentgroup\":\"True\",\"hovertemplate\":\"Rating=%{y}\\u003cbr\\u003eGame Count=%{x}\\u003cextra\\u003e\\u003c\\u002fextra\\u003e\",\"legendgroup\":\"Very Negative\",\"marker\":{\"color\":\"#B6E880\",\"pattern\":{\"shape\":\"\"}},\"name\":\"Very Negative\",\"offsetgroup\":\"Very Negative\",\"orientation\":\"h\",\"showlegend\":true,\"textposition\":\"auto\",\"texttemplate\":\"%{x}\",\"x\":[60],\"xaxis\":\"x\",\"y\":[\"Very Negative\"],\"yaxis\":\"y\",\"type\":\"bar\"},{\"alignmentgroup\":\"True\",\"hovertemplate\":\"Rating=%{y}\\u003cbr\\u003eGame Count=%{x}\\u003cextra\\u003e\\u003c\\u002fextra\\u003e\",\"legendgroup\":\"Overwhelmingly Negative\",\"marker\":{\"color\":\"#FF97FF\",\"pattern\":{\"shape\":\"\"}},\"name\":\"Overwhelmingly Negative\",\"offsetgroup\":\"Overwhelmingly Negative\",\"orientation\":\"h\",\"showlegend\":true,\"textposition\":\"auto\",\"texttemplate\":\"%{x}\",\"x\":[14],\"xaxis\":\"x\",\"y\":[\"Overwhelmingly Negative\"],\"yaxis\":\"y\",\"type\":\"bar\"}],                        {\"template\":{\"data\":{\"histogram2dcontour\":[{\"type\":\"histogram2dcontour\",\"colorbar\":{\"outlinewidth\":0,\"ticks\":\"\"},\"colorscale\":[[0.0,\"#0d0887\"],[0.1111111111111111,\"#46039f\"],[0.2222222222222222,\"#7201a8\"],[0.3333333333333333,\"#9c179e\"],[0.4444444444444444,\"#bd3786\"],[0.5555555555555556,\"#d8576b\"],[0.6666666666666666,\"#ed7953\"],[0.7777777777777778,\"#fb9f3a\"],[0.8888888888888888,\"#fdca26\"],[1.0,\"#f0f921\"]]}],\"choropleth\":[{\"type\":\"choropleth\",\"colorbar\":{\"outlinewidth\":0,\"ticks\":\"\"}}],\"histogram2d\":[{\"type\":\"histogram2d\",\"colorbar\":{\"outlinewidth\":0,\"ticks\":\"\"},\"colorscale\":[[0.0,\"#0d0887\"],[0.1111111111111111,\"#46039f\"],[0.2222222222222222,\"#7201a8\"],[0.3333333333333333,\"#9c179e\"],[0.4444444444444444,\"#bd3786\"],[0.5555555555555556,\"#d8576b\"],[0.6666666666666666,\"#ed7953\"],[0.7777777777777778,\"#fb9f3a\"],[0.8888888888888888,\"#fdca26\"],[1.0,\"#f0f921\"]]}],\"heatmap\":[{\"type\":\"heatmap\",\"colorbar\":{\"outlinewidth\":0,\"ticks\":\"\"},\"colorscale\":[[0.0,\"#0d0887\"],[0.1111111111111111,\"#46039f\"],[0.2222222222222222,\"#7201a8\"],[0.3333333333333333,\"#9c179e\"],[0.4444444444444444,\"#bd3786\"],[0.5555555555555556,\"#d8576b\"],[0.6666666666666666,\"#ed7953\"],[0.7777777777777778,\"#fb9f3a\"],[0.8888888888888888,\"#fdca26\"],[1.0,\"#f0f921\"]]}],\"heatmapgl\":[{\"type\":\"heatmapgl\",\"colorbar\":{\"outlinewidth\":0,\"ticks\":\"\"},\"colorscale\":[[0.0,\"#0d0887\"],[0.1111111111111111,\"#46039f\"],[0.2222222222222222,\"#7201a8\"],[0.3333333333333333,\"#9c179e\"],[0.4444444444444444,\"#bd3786\"],[0.5555555555555556,\"#d8576b\"],[0.6666666666666666,\"#ed7953\"],[0.7777777777777778,\"#fb9f3a\"],[0.8888888888888888,\"#fdca26\"],[1.0,\"#f0f921\"]]}],\"contourcarpet\":[{\"type\":\"contourcarpet\",\"colorbar\":{\"outlinewidth\":0,\"ticks\":\"\"}}],\"contour\":[{\"type\":\"contour\",\"colorbar\":{\"outlinewidth\":0,\"ticks\":\"\"},\"colorscale\":[[0.0,\"#0d0887\"],[0.1111111111111111,\"#46039f\"],[0.2222222222222222,\"#7201a8\"],[0.3333333333333333,\"#9c179e\"],[0.4444444444444444,\"#bd3786\"],[0.5555555555555556,\"#d8576b\"],[0.6666666666666666,\"#ed7953\"],[0.7777777777777778,\"#fb9f3a\"],[0.8888888888888888,\"#fdca26\"],[1.0,\"#f0f921\"]]}],\"surface\":[{\"type\":\"surface\",\"colorbar\":{\"outlinewidth\":0,\"ticks\":\"\"},\"colorscale\":[[0.0,\"#0d0887\"],[0.1111111111111111,\"#46039f\"],[0.2222222222222222,\"#7201a8\"],[0.3333333333333333,\"#9c179e\"],[0.4444444444444444,\"#bd3786\"],[0.5555555555555556,\"#d8576b\"],[0.6666666666666666,\"#ed7953\"],[0.7777777777777778,\"#fb9f3a\"],[0.8888888888888888,\"#fdca26\"],[1.0,\"#f0f921\"]]}],\"mesh3d\":[{\"type\":\"mesh3d\",\"colorbar\":{\"outlinewidth\":0,\"ticks\":\"\"}}],\"scatter\":[{\"fillpattern\":{\"fillmode\":\"overlay\",\"size\":10,\"solidity\":0.2},\"type\":\"scatter\"}],\"parcoords\":[{\"type\":\"parcoords\",\"line\":{\"colorbar\":{\"outlinewidth\":0,\"ticks\":\"\"}}}],\"scatterpolargl\":[{\"type\":\"scatterpolargl\",\"marker\":{\"colorbar\":{\"outlinewidth\":0,\"ticks\":\"\"}}}],\"bar\":[{\"error_x\":{\"color\":\"#2a3f5f\"},\"error_y\":{\"color\":\"#2a3f5f\"},\"marker\":{\"line\":{\"color\":\"#E5ECF6\",\"width\":0.5},\"pattern\":{\"fillmode\":\"overlay\",\"size\":10,\"solidity\":0.2}},\"type\":\"bar\"}],\"scattergeo\":[{\"type\":\"scattergeo\",\"marker\":{\"colorbar\":{\"outlinewidth\":0,\"ticks\":\"\"}}}],\"scatterpolar\":[{\"type\":\"scatterpolar\",\"marker\":{\"colorbar\":{\"outlinewidth\":0,\"ticks\":\"\"}}}],\"histogram\":[{\"marker\":{\"pattern\":{\"fillmode\":\"overlay\",\"size\":10,\"solidity\":0.2}},\"type\":\"histogram\"}],\"scattergl\":[{\"type\":\"scattergl\",\"marker\":{\"colorbar\":{\"outlinewidth\":0,\"ticks\":\"\"}}}],\"scatter3d\":[{\"type\":\"scatter3d\",\"line\":{\"colorbar\":{\"outlinewidth\":0,\"ticks\":\"\"}},\"marker\":{\"colorbar\":{\"outlinewidth\":0,\"ticks\":\"\"}}}],\"scattermapbox\":[{\"type\":\"scattermapbox\",\"marker\":{\"colorbar\":{\"outlinewidth\":0,\"ticks\":\"\"}}}],\"scatterternary\":[{\"type\":\"scatterternary\",\"marker\":{\"colorbar\":{\"outlinewidth\":0,\"ticks\":\"\"}}}],\"scattercarpet\":[{\"type\":\"scattercarpet\",\"marker\":{\"colorbar\":{\"outlinewidth\":0,\"ticks\":\"\"}}}],\"carpet\":[{\"aaxis\":{\"endlinecolor\":\"#2a3f5f\",\"gridcolor\":\"white\",\"linecolor\":\"white\",\"minorgridcolor\":\"white\",\"startlinecolor\":\"#2a3f5f\"},\"baxis\":{\"endlinecolor\":\"#2a3f5f\",\"gridcolor\":\"white\",\"linecolor\":\"white\",\"minorgridcolor\":\"white\",\"startlinecolor\":\"#2a3f5f\"},\"type\":\"carpet\"}],\"table\":[{\"cells\":{\"fill\":{\"color\":\"#EBF0F8\"},\"line\":{\"color\":\"white\"}},\"header\":{\"fill\":{\"color\":\"#C8D4E3\"},\"line\":{\"color\":\"white\"}},\"type\":\"table\"}],\"barpolar\":[{\"marker\":{\"line\":{\"color\":\"#E5ECF6\",\"width\":0.5},\"pattern\":{\"fillmode\":\"overlay\",\"size\":10,\"solidity\":0.2}},\"type\":\"barpolar\"}],\"pie\":[{\"automargin\":true,\"type\":\"pie\"}]},\"layout\":{\"autotypenumbers\":\"strict\",\"colorway\":[\"#636efa\",\"#EF553B\",\"#00cc96\",\"#ab63fa\",\"#FFA15A\",\"#19d3f3\",\"#FF6692\",\"#B6E880\",\"#FF97FF\",\"#FECB52\"],\"font\":{\"color\":\"#2a3f5f\"},\"hovermode\":\"closest\",\"hoverlabel\":{\"align\":\"left\"},\"paper_bgcolor\":\"white\",\"plot_bgcolor\":\"#E5ECF6\",\"polar\":{\"bgcolor\":\"#E5ECF6\",\"angularaxis\":{\"gridcolor\":\"white\",\"linecolor\":\"white\",\"ticks\":\"\"},\"radialaxis\":{\"gridcolor\":\"white\",\"linecolor\":\"white\",\"ticks\":\"\"}},\"ternary\":{\"bgcolor\":\"#E5ECF6\",\"aaxis\":{\"gridcolor\":\"white\",\"linecolor\":\"white\",\"ticks\":\"\"},\"baxis\":{\"gridcolor\":\"white\",\"linecolor\":\"white\",\"ticks\":\"\"},\"caxis\":{\"gridcolor\":\"white\",\"linecolor\":\"white\",\"ticks\":\"\"}},\"coloraxis\":{\"colorbar\":{\"outlinewidth\":0,\"ticks\":\"\"}},\"colorscale\":{\"sequential\":[[0.0,\"#0d0887\"],[0.1111111111111111,\"#46039f\"],[0.2222222222222222,\"#7201a8\"],[0.3333333333333333,\"#9c179e\"],[0.4444444444444444,\"#bd3786\"],[0.5555555555555556,\"#d8576b\"],[0.6666666666666666,\"#ed7953\"],[0.7777777777777778,\"#fb9f3a\"],[0.8888888888888888,\"#fdca26\"],[1.0,\"#f0f921\"]],\"sequentialminus\":[[0.0,\"#0d0887\"],[0.1111111111111111,\"#46039f\"],[0.2222222222222222,\"#7201a8\"],[0.3333333333333333,\"#9c179e\"],[0.4444444444444444,\"#bd3786\"],[0.5555555555555556,\"#d8576b\"],[0.6666666666666666,\"#ed7953\"],[0.7777777777777778,\"#fb9f3a\"],[0.8888888888888888,\"#fdca26\"],[1.0,\"#f0f921\"]],\"diverging\":[[0,\"#8e0152\"],[0.1,\"#c51b7d\"],[0.2,\"#de77ae\"],[0.3,\"#f1b6da\"],[0.4,\"#fde0ef\"],[0.5,\"#f7f7f7\"],[0.6,\"#e6f5d0\"],[0.7,\"#b8e186\"],[0.8,\"#7fbc41\"],[0.9,\"#4d9221\"],[1,\"#276419\"]]},\"xaxis\":{\"gridcolor\":\"white\",\"linecolor\":\"white\",\"ticks\":\"\",\"title\":{\"standoff\":15},\"zerolinecolor\":\"white\",\"automargin\":true,\"zerolinewidth\":2},\"yaxis\":{\"gridcolor\":\"white\",\"linecolor\":\"white\",\"ticks\":\"\",\"title\":{\"standoff\":15},\"zerolinecolor\":\"white\",\"automargin\":true,\"zerolinewidth\":2},\"scene\":{\"xaxis\":{\"backgroundcolor\":\"#E5ECF6\",\"gridcolor\":\"white\",\"linecolor\":\"white\",\"showbackground\":true,\"ticks\":\"\",\"zerolinecolor\":\"white\",\"gridwidth\":2},\"yaxis\":{\"backgroundcolor\":\"#E5ECF6\",\"gridcolor\":\"white\",\"linecolor\":\"white\",\"showbackground\":true,\"ticks\":\"\",\"zerolinecolor\":\"white\",\"gridwidth\":2},\"zaxis\":{\"backgroundcolor\":\"#E5ECF6\",\"gridcolor\":\"white\",\"linecolor\":\"white\",\"showbackground\":true,\"ticks\":\"\",\"zerolinecolor\":\"white\",\"gridwidth\":2}},\"shapedefaults\":{\"line\":{\"color\":\"#2a3f5f\"}},\"annotationdefaults\":{\"arrowcolor\":\"#2a3f5f\",\"arrowhead\":0,\"arrowwidth\":1},\"geo\":{\"bgcolor\":\"white\",\"landcolor\":\"#E5ECF6\",\"subunitcolor\":\"white\",\"showland\":true,\"showlakes\":true,\"lakecolor\":\"white\"},\"title\":{\"x\":0.05},\"mapbox\":{\"style\":\"light\"}}},\"xaxis\":{\"anchor\":\"y\",\"domain\":[0.0,1.0],\"title\":{\"text\":\"Game Count\"}},\"yaxis\":{\"anchor\":\"x\",\"domain\":[0.0,1.0],\"title\":{\"text\":\"Rating\"},\"categoryorder\":\"array\",\"categoryarray\":[\"Overwhelmingly Negative\",\"Very Negative\",\"Negative\",\"Overwhelmingly Positive\",\"Mostly Negative\",\"Mostly Positive\",\"Mixed\",\"Very Positive\",\"Positive\"]},\"legend\":{\"title\":{\"text\":\"Rating\"},\"tracegroupgap\":0},\"title\":{\"text\":\"Game Rating Distribution\"},\"barmode\":\"relative\"},                        {\"responsive\": true}                    ).then(function(){\n",
       "                            \n",
       "var gd = document.getElementById('8b6cbe7f-2a4c-4514-8d40-29a8ce83a58e');\n",
       "var x = new MutationObserver(function (mutations, observer) {{\n",
       "        var display = window.getComputedStyle(gd).display;\n",
       "        if (!display || display === 'none') {{\n",
       "            console.log([gd, 'removed!']);\n",
       "            Plotly.purge(gd);\n",
       "            observer.disconnect();\n",
       "        }}\n",
       "}});\n",
       "\n",
       "// Listen for the removal of the full notebook cells\n",
       "var notebookContainer = gd.closest('#notebook-container');\n",
       "if (notebookContainer) {{\n",
       "    x.observe(notebookContainer, {childList: true});\n",
       "}}\n",
       "\n",
       "// Listen for the clearing of the current output cell\n",
       "var outputEl = gd.closest('.output');\n",
       "if (outputEl) {{\n",
       "    x.observe(outputEl, {childList: true});\n",
       "}}\n",
       "\n",
       "                        })                };                });            </script>        </div>"
      ]
     },
     "metadata": {},
     "output_type": "display_data"
    }
   ],
   "source": [
    "rating_count = df['rating'].value_counts()\n",
    "rating_count_df= pd.DataFrame(rating_count).reset_index()\n",
    "rating_count_df.columns = ['Rating', 'Game Count']\n",
    "\n",
    "fig= px.bar(rating_count_df, x='Game Count', y='Rating', color='Rating', text_auto= True, title= 'Game Rating Distribution', orientation='h')\n",
    "\n",
    "fig.show()"
   ]
  },
  {
   "cell_type": "markdown",
   "id": "440f4a8d",
   "metadata": {
    "papermill": {
     "duration": 0.009194,
     "end_time": "2023-10-24T05:38:44.365978",
     "exception": false,
     "start_time": "2023-10-24T05:38:44.356784",
     "status": "completed"
    },
    "tags": []
   },
   "source": [
    "**Summary**\n",
    "<p>To analyse the game rating distribution, we isolated and counted all the game rating values. Overall, we can see that within this dataset games are on average rated more positively with most games falling between mixed and very positive. It was uncommon to find games rated on either extreme with only 1110 games rated as 'Overwhelmingly Positive and only 14 games as 'Overwhelmingly Negative'.</p>\n",
    "\n",
    "<p> This data is expected as the Steam rating scale splits games into three groups (10-49 reviews, 59-499 reviews and 500+ reviews). For a game to reach 'very positive' or 'overwhelmingly positive' the game must have over 50 or 500 reviews respectively with a positive review ratio of 80% or above, the same is found for negative reviews with a positive review ratio of 19% or less. While this explains why there a fewer games in either extreme rating, it does not explain why most games on Steam are more positively skewed.</p>\n",
    "\n",
    "#### Average cost of a steam game per year"
   ]
  },
  {
   "cell_type": "code",
   "execution_count": 15,
   "id": "f60f8904",
   "metadata": {
    "execution": {
     "iopub.execute_input": "2023-10-24T05:38:44.386903Z",
     "iopub.status.busy": "2023-10-24T05:38:44.386470Z",
     "iopub.status.idle": "2023-10-24T05:38:44.488498Z",
     "shell.execute_reply": "2023-10-24T05:38:44.487156Z"
    },
    "papermill": {
     "duration": 0.115592,
     "end_time": "2023-10-24T05:38:44.491024",
     "exception": false,
     "start_time": "2023-10-24T05:38:44.375432",
     "status": "completed"
    },
    "tags": []
   },
   "outputs": [
    {
     "data": {
      "text/html": [
       "<div>                            <div id=\"48e6a24a-f8db-494f-a8d1-e3afc2c45bac\" class=\"plotly-graph-div\" style=\"height:525px; width:100%;\"></div>            <script type=\"text/javascript\">                require([\"plotly\"], function(Plotly) {                    window.PLOTLYENV=window.PLOTLYENV || {};                                    if (document.getElementById(\"48e6a24a-f8db-494f-a8d1-e3afc2c45bac\")) {                    Plotly.newPlot(                        \"48e6a24a-f8db-494f-a8d1-e3afc2c45bac\",                        [{\"legendgroup\":\"\",\"line\":{\"color\":\"#636efa\",\"dash\":\"solid\"},\"marker\":{\"symbol\":\"circle\"},\"mode\":\"markers+lines\",\"name\":\"\",\"orientation\":\"v\",\"showlegend\":false,\"x\":[2012,2013,2014,2015,2016,2017,2018,2019,2020,2021,2022,2023],\"xaxis\":\"x\",\"y\":[9.51,9.76,9.03,7.83,7.57,7.68,7.62,8.34,8.46,8.44,9.92,11.0],\"yaxis\":\"y\",\"type\":\"scatter\"}],                        {\"template\":{\"data\":{\"histogram2dcontour\":[{\"type\":\"histogram2dcontour\",\"colorbar\":{\"outlinewidth\":0,\"ticks\":\"\"},\"colorscale\":[[0.0,\"#0d0887\"],[0.1111111111111111,\"#46039f\"],[0.2222222222222222,\"#7201a8\"],[0.3333333333333333,\"#9c179e\"],[0.4444444444444444,\"#bd3786\"],[0.5555555555555556,\"#d8576b\"],[0.6666666666666666,\"#ed7953\"],[0.7777777777777778,\"#fb9f3a\"],[0.8888888888888888,\"#fdca26\"],[1.0,\"#f0f921\"]]}],\"choropleth\":[{\"type\":\"choropleth\",\"colorbar\":{\"outlinewidth\":0,\"ticks\":\"\"}}],\"histogram2d\":[{\"type\":\"histogram2d\",\"colorbar\":{\"outlinewidth\":0,\"ticks\":\"\"},\"colorscale\":[[0.0,\"#0d0887\"],[0.1111111111111111,\"#46039f\"],[0.2222222222222222,\"#7201a8\"],[0.3333333333333333,\"#9c179e\"],[0.4444444444444444,\"#bd3786\"],[0.5555555555555556,\"#d8576b\"],[0.6666666666666666,\"#ed7953\"],[0.7777777777777778,\"#fb9f3a\"],[0.8888888888888888,\"#fdca26\"],[1.0,\"#f0f921\"]]}],\"heatmap\":[{\"type\":\"heatmap\",\"colorbar\":{\"outlinewidth\":0,\"ticks\":\"\"},\"colorscale\":[[0.0,\"#0d0887\"],[0.1111111111111111,\"#46039f\"],[0.2222222222222222,\"#7201a8\"],[0.3333333333333333,\"#9c179e\"],[0.4444444444444444,\"#bd3786\"],[0.5555555555555556,\"#d8576b\"],[0.6666666666666666,\"#ed7953\"],[0.7777777777777778,\"#fb9f3a\"],[0.8888888888888888,\"#fdca26\"],[1.0,\"#f0f921\"]]}],\"heatmapgl\":[{\"type\":\"heatmapgl\",\"colorbar\":{\"outlinewidth\":0,\"ticks\":\"\"},\"colorscale\":[[0.0,\"#0d0887\"],[0.1111111111111111,\"#46039f\"],[0.2222222222222222,\"#7201a8\"],[0.3333333333333333,\"#9c179e\"],[0.4444444444444444,\"#bd3786\"],[0.5555555555555556,\"#d8576b\"],[0.6666666666666666,\"#ed7953\"],[0.7777777777777778,\"#fb9f3a\"],[0.8888888888888888,\"#fdca26\"],[1.0,\"#f0f921\"]]}],\"contourcarpet\":[{\"type\":\"contourcarpet\",\"colorbar\":{\"outlinewidth\":0,\"ticks\":\"\"}}],\"contour\":[{\"type\":\"contour\",\"colorbar\":{\"outlinewidth\":0,\"ticks\":\"\"},\"colorscale\":[[0.0,\"#0d0887\"],[0.1111111111111111,\"#46039f\"],[0.2222222222222222,\"#7201a8\"],[0.3333333333333333,\"#9c179e\"],[0.4444444444444444,\"#bd3786\"],[0.5555555555555556,\"#d8576b\"],[0.6666666666666666,\"#ed7953\"],[0.7777777777777778,\"#fb9f3a\"],[0.8888888888888888,\"#fdca26\"],[1.0,\"#f0f921\"]]}],\"surface\":[{\"type\":\"surface\",\"colorbar\":{\"outlinewidth\":0,\"ticks\":\"\"},\"colorscale\":[[0.0,\"#0d0887\"],[0.1111111111111111,\"#46039f\"],[0.2222222222222222,\"#7201a8\"],[0.3333333333333333,\"#9c179e\"],[0.4444444444444444,\"#bd3786\"],[0.5555555555555556,\"#d8576b\"],[0.6666666666666666,\"#ed7953\"],[0.7777777777777778,\"#fb9f3a\"],[0.8888888888888888,\"#fdca26\"],[1.0,\"#f0f921\"]]}],\"mesh3d\":[{\"type\":\"mesh3d\",\"colorbar\":{\"outlinewidth\":0,\"ticks\":\"\"}}],\"scatter\":[{\"fillpattern\":{\"fillmode\":\"overlay\",\"size\":10,\"solidity\":0.2},\"type\":\"scatter\"}],\"parcoords\":[{\"type\":\"parcoords\",\"line\":{\"colorbar\":{\"outlinewidth\":0,\"ticks\":\"\"}}}],\"scatterpolargl\":[{\"type\":\"scatterpolargl\",\"marker\":{\"colorbar\":{\"outlinewidth\":0,\"ticks\":\"\"}}}],\"bar\":[{\"error_x\":{\"color\":\"#2a3f5f\"},\"error_y\":{\"color\":\"#2a3f5f\"},\"marker\":{\"line\":{\"color\":\"#E5ECF6\",\"width\":0.5},\"pattern\":{\"fillmode\":\"overlay\",\"size\":10,\"solidity\":0.2}},\"type\":\"bar\"}],\"scattergeo\":[{\"type\":\"scattergeo\",\"marker\":{\"colorbar\":{\"outlinewidth\":0,\"ticks\":\"\"}}}],\"scatterpolar\":[{\"type\":\"scatterpolar\",\"marker\":{\"colorbar\":{\"outlinewidth\":0,\"ticks\":\"\"}}}],\"histogram\":[{\"marker\":{\"pattern\":{\"fillmode\":\"overlay\",\"size\":10,\"solidity\":0.2}},\"type\":\"histogram\"}],\"scattergl\":[{\"type\":\"scattergl\",\"marker\":{\"colorbar\":{\"outlinewidth\":0,\"ticks\":\"\"}}}],\"scatter3d\":[{\"type\":\"scatter3d\",\"line\":{\"colorbar\":{\"outlinewidth\":0,\"ticks\":\"\"}},\"marker\":{\"colorbar\":{\"outlinewidth\":0,\"ticks\":\"\"}}}],\"scattermapbox\":[{\"type\":\"scattermapbox\",\"marker\":{\"colorbar\":{\"outlinewidth\":0,\"ticks\":\"\"}}}],\"scatterternary\":[{\"type\":\"scatterternary\",\"marker\":{\"colorbar\":{\"outlinewidth\":0,\"ticks\":\"\"}}}],\"scattercarpet\":[{\"type\":\"scattercarpet\",\"marker\":{\"colorbar\":{\"outlinewidth\":0,\"ticks\":\"\"}}}],\"carpet\":[{\"aaxis\":{\"endlinecolor\":\"#2a3f5f\",\"gridcolor\":\"white\",\"linecolor\":\"white\",\"minorgridcolor\":\"white\",\"startlinecolor\":\"#2a3f5f\"},\"baxis\":{\"endlinecolor\":\"#2a3f5f\",\"gridcolor\":\"white\",\"linecolor\":\"white\",\"minorgridcolor\":\"white\",\"startlinecolor\":\"#2a3f5f\"},\"type\":\"carpet\"}],\"table\":[{\"cells\":{\"fill\":{\"color\":\"#EBF0F8\"},\"line\":{\"color\":\"white\"}},\"header\":{\"fill\":{\"color\":\"#C8D4E3\"},\"line\":{\"color\":\"white\"}},\"type\":\"table\"}],\"barpolar\":[{\"marker\":{\"line\":{\"color\":\"#E5ECF6\",\"width\":0.5},\"pattern\":{\"fillmode\":\"overlay\",\"size\":10,\"solidity\":0.2}},\"type\":\"barpolar\"}],\"pie\":[{\"automargin\":true,\"type\":\"pie\"}]},\"layout\":{\"autotypenumbers\":\"strict\",\"colorway\":[\"#636efa\",\"#EF553B\",\"#00cc96\",\"#ab63fa\",\"#FFA15A\",\"#19d3f3\",\"#FF6692\",\"#B6E880\",\"#FF97FF\",\"#FECB52\"],\"font\":{\"color\":\"#2a3f5f\"},\"hovermode\":\"closest\",\"hoverlabel\":{\"align\":\"left\"},\"paper_bgcolor\":\"white\",\"plot_bgcolor\":\"#E5ECF6\",\"polar\":{\"bgcolor\":\"#E5ECF6\",\"angularaxis\":{\"gridcolor\":\"white\",\"linecolor\":\"white\",\"ticks\":\"\"},\"radialaxis\":{\"gridcolor\":\"white\",\"linecolor\":\"white\",\"ticks\":\"\"}},\"ternary\":{\"bgcolor\":\"#E5ECF6\",\"aaxis\":{\"gridcolor\":\"white\",\"linecolor\":\"white\",\"ticks\":\"\"},\"baxis\":{\"gridcolor\":\"white\",\"linecolor\":\"white\",\"ticks\":\"\"},\"caxis\":{\"gridcolor\":\"white\",\"linecolor\":\"white\",\"ticks\":\"\"}},\"coloraxis\":{\"colorbar\":{\"outlinewidth\":0,\"ticks\":\"\"}},\"colorscale\":{\"sequential\":[[0.0,\"#0d0887\"],[0.1111111111111111,\"#46039f\"],[0.2222222222222222,\"#7201a8\"],[0.3333333333333333,\"#9c179e\"],[0.4444444444444444,\"#bd3786\"],[0.5555555555555556,\"#d8576b\"],[0.6666666666666666,\"#ed7953\"],[0.7777777777777778,\"#fb9f3a\"],[0.8888888888888888,\"#fdca26\"],[1.0,\"#f0f921\"]],\"sequentialminus\":[[0.0,\"#0d0887\"],[0.1111111111111111,\"#46039f\"],[0.2222222222222222,\"#7201a8\"],[0.3333333333333333,\"#9c179e\"],[0.4444444444444444,\"#bd3786\"],[0.5555555555555556,\"#d8576b\"],[0.6666666666666666,\"#ed7953\"],[0.7777777777777778,\"#fb9f3a\"],[0.8888888888888888,\"#fdca26\"],[1.0,\"#f0f921\"]],\"diverging\":[[0,\"#8e0152\"],[0.1,\"#c51b7d\"],[0.2,\"#de77ae\"],[0.3,\"#f1b6da\"],[0.4,\"#fde0ef\"],[0.5,\"#f7f7f7\"],[0.6,\"#e6f5d0\"],[0.7,\"#b8e186\"],[0.8,\"#7fbc41\"],[0.9,\"#4d9221\"],[1,\"#276419\"]]},\"xaxis\":{\"gridcolor\":\"white\",\"linecolor\":\"white\",\"ticks\":\"\",\"title\":{\"standoff\":15},\"zerolinecolor\":\"white\",\"automargin\":true,\"zerolinewidth\":2},\"yaxis\":{\"gridcolor\":\"white\",\"linecolor\":\"white\",\"ticks\":\"\",\"title\":{\"standoff\":15},\"zerolinecolor\":\"white\",\"automargin\":true,\"zerolinewidth\":2},\"scene\":{\"xaxis\":{\"backgroundcolor\":\"#E5ECF6\",\"gridcolor\":\"white\",\"linecolor\":\"white\",\"showbackground\":true,\"ticks\":\"\",\"zerolinecolor\":\"white\",\"gridwidth\":2},\"yaxis\":{\"backgroundcolor\":\"#E5ECF6\",\"gridcolor\":\"white\",\"linecolor\":\"white\",\"showbackground\":true,\"ticks\":\"\",\"zerolinecolor\":\"white\",\"gridwidth\":2},\"zaxis\":{\"backgroundcolor\":\"#E5ECF6\",\"gridcolor\":\"white\",\"linecolor\":\"white\",\"showbackground\":true,\"ticks\":\"\",\"zerolinecolor\":\"white\",\"gridwidth\":2}},\"shapedefaults\":{\"line\":{\"color\":\"#2a3f5f\"}},\"annotationdefaults\":{\"arrowcolor\":\"#2a3f5f\",\"arrowhead\":0,\"arrowwidth\":1},\"geo\":{\"bgcolor\":\"white\",\"landcolor\":\"#E5ECF6\",\"subunitcolor\":\"white\",\"showland\":true,\"showlakes\":true,\"lakecolor\":\"white\"},\"title\":{\"x\":0.05},\"mapbox\":{\"style\":\"light\"}}},\"xaxis\":{\"anchor\":\"y\",\"domain\":[0.0,1.0],\"title\":{\"text\":\"Year released\"}},\"yaxis\":{\"anchor\":\"x\",\"domain\":[0.0,1.0],\"title\":{\"text\":\"Average price of game ($)\"}},\"legend\":{\"tracegroupgap\":0},\"title\":{\"text\":\"Average price of a game on steam each year\"},\"hovermode\":\"x unified\"},                        {\"responsive\": true}                    ).then(function(){\n",
       "                            \n",
       "var gd = document.getElementById('48e6a24a-f8db-494f-a8d1-e3afc2c45bac');\n",
       "var x = new MutationObserver(function (mutations, observer) {{\n",
       "        var display = window.getComputedStyle(gd).display;\n",
       "        if (!display || display === 'none') {{\n",
       "            console.log([gd, 'removed!']);\n",
       "            Plotly.purge(gd);\n",
       "            observer.disconnect();\n",
       "        }}\n",
       "}});\n",
       "\n",
       "// Listen for the removal of the full notebook cells\n",
       "var notebookContainer = gd.closest('#notebook-container');\n",
       "if (notebookContainer) {{\n",
       "    x.observe(notebookContainer, {childList: true});\n",
       "}}\n",
       "\n",
       "// Listen for the clearing of the current output cell\n",
       "var outputEl = gd.closest('.output');\n",
       "if (outputEl) {{\n",
       "    x.observe(outputEl, {childList: true});\n",
       "}}\n",
       "\n",
       "                        })                };                });            </script>        </div>"
      ]
     },
     "metadata": {},
     "output_type": "display_data"
    }
   ],
   "source": [
    "df['Year'] = df['date_release'].dt.year\n",
    "df_2013 = df[df['Year'] >= 2012]\n",
    "mean_original_prices = df_2013.groupby('Year')['price_final'].mean().round(2).reset_index()\n",
    "\n",
    "\n",
    "fig= px.line(mean_original_prices, x= 'Year', y='price_final', title='Average price of a game on steam each year')\n",
    "fig.update_traces(mode=\"markers+lines\", hovertemplate=None)\n",
    "fig.update_layout(hovermode=\"x unified\")\n",
    "fig.update_yaxes(title_text='Average price of game ($)')\n",
    "fig.update_xaxes(title_text='Year released')\n",
    "\n",
    "fig.show()"
   ]
  },
  {
   "cell_type": "markdown",
   "id": "c10f42ca",
   "metadata": {
    "papermill": {
     "duration": 0.009462,
     "end_time": "2023-10-24T05:38:44.510659",
     "exception": false,
     "start_time": "2023-10-24T05:38:44.501197",
     "status": "completed"
    },
    "tags": []
   },
   "source": [
    "**Summary**\n",
    "<p>Understanding the average market price for a video game is important. If game developers are to correctly price their games, it's helpful to understand what a player is paying on average for a video game. From this chart we can see that video game pricing across Steam has remained relatively stable. Keep in mind this data includes everything listed on stream, from software to downloadable content for DLC. Items listed for free were removed from the analysis to avoid diluting the information. </p>\n",
    "\n",
    "#### Steam Games released per year"
   ]
  },
  {
   "cell_type": "code",
   "execution_count": 16,
   "id": "b8056d2e",
   "metadata": {
    "execution": {
     "iopub.execute_input": "2023-10-24T05:38:44.602059Z",
     "iopub.status.busy": "2023-10-24T05:38:44.601036Z",
     "iopub.status.idle": "2023-10-24T05:38:44.727430Z",
     "shell.execute_reply": "2023-10-24T05:38:44.726303Z"
    },
    "papermill": {
     "duration": 0.142952,
     "end_time": "2023-10-24T05:38:44.730138",
     "exception": false,
     "start_time": "2023-10-24T05:38:44.587186",
     "status": "completed"
    },
    "tags": []
   },
   "outputs": [
    {
     "data": {
      "text/html": [
       "<div>                            <div id=\"6e5aa9a1-5cc8-4d6f-83f3-45fba8a51084\" class=\"plotly-graph-div\" style=\"height:525px; width:100%;\"></div>            <script type=\"text/javascript\">                require([\"plotly\"], function(Plotly) {                    window.PLOTLYENV=window.PLOTLYENV || {};                                    if (document.getElementById(\"6e5aa9a1-5cc8-4d6f-83f3-45fba8a51084\")) {                    Plotly.newPlot(                        \"6e5aa9a1-5cc8-4d6f-83f3-45fba8a51084\",                        [{\"alignmentgroup\":\"True\",\"hovertemplate\":\"\\u003cb\\u003e%{hovertext}\\u003c\\u002fb\\u003e\\u003cbr\\u003e\\u003cbr\\u003eOperating System=Windows Games\\u003cbr\\u003eTotal=%{y}\\u003cextra\\u003e\\u003c\\u002fextra\\u003e\",\"hovertext\":[1997.0,1998.0,1999.0,2000.0,2001.0,2002.0,2003.0,2004.0,2005.0,2006.0,2007.0,2008.0,2009.0,2010.0,2011.0,2012.0,2013.0,2014.0,2015.0,2016.0,2017.0,2018.0,2019.0,2020.0,2021.0,2022.0,2023.0],\"legendgroup\":\"Windows Games\",\"marker\":{\"color\":\"#636efa\",\"pattern\":{\"shape\":\"\"}},\"name\":\"Windows Games\",\"offsetgroup\":\"Windows Games\",\"orientation\":\"v\",\"showlegend\":true,\"textposition\":\"auto\",\"texttemplate\":\"%{y}\",\"x\":[1997,1998,1999,2000,2001,2002,2003,2004,2005,2006,2007,2008,2009,2010,2011,2012,2013,2014,2015,2016,2017,2018,2019,2020,2021,2022,2023],\"xaxis\":\"x\",\"y\":[2,1,3,2,2,1,2,4,3,56,82,146,322,284,373,555,816,1900,2911,4142,4905,5394,5002,5949,6636,7185,3322],\"yaxis\":\"y\",\"type\":\"bar\"},{\"alignmentgroup\":\"True\",\"hovertemplate\":\"\\u003cb\\u003e%{hovertext}\\u003c\\u002fb\\u003e\\u003cbr\\u003e\\u003cbr\\u003eOperating System=Mac Games\\u003cbr\\u003eTotal=%{y}\\u003cextra\\u003e\\u003c\\u002fextra\\u003e\",\"hovertext\":[1997.0,1998.0,1999.0,2000.0,2001.0,2002.0,2003.0,2004.0,2005.0,2006.0,2007.0,2008.0,2009.0,2010.0,2011.0,2012.0,2013.0,2014.0,2015.0,2016.0,2017.0,2018.0,2019.0,2020.0,2021.0,2022.0,2023.0],\"legendgroup\":\"Mac Games\",\"marker\":{\"color\":\"#EF553B\",\"pattern\":{\"shape\":\"\"}},\"name\":\"Mac Games\",\"offsetgroup\":\"Mac Games\",\"orientation\":\"v\",\"showlegend\":true,\"textposition\":\"auto\",\"texttemplate\":\"%{y}\",\"x\":[1997,1998,1999,2000,2001,2002,2003,2004,2005,2006,2007,2008,2009,2010,2011,2012,2013,2014,2015,2016,2017,2018,2019,2020,2021,2022,2023],\"xaxis\":\"x\",\"y\":[1,1,2,2,2,0,2,4,1,13,14,13,71,75,99,197,360,800,1171,1560,1542,1528,1262,1335,1232,1216,499],\"yaxis\":\"y\",\"type\":\"bar\"},{\"alignmentgroup\":\"True\",\"hovertemplate\":\"\\u003cb\\u003e%{hovertext}\\u003c\\u002fb\\u003e\\u003cbr\\u003e\\u003cbr\\u003eOperating System=Linux Games\\u003cbr\\u003eTotal=%{y}\\u003cextra\\u003e\\u003c\\u002fextra\\u003e\",\"hovertext\":[1997.0,1998.0,1999.0,2000.0,2001.0,2002.0,2003.0,2004.0,2005.0,2006.0,2007.0,2008.0,2009.0,2010.0,2011.0,2012.0,2013.0,2014.0,2015.0,2016.0,2017.0,2018.0,2019.0,2020.0,2021.0,2022.0,2023.0],\"legendgroup\":\"Linux Games\",\"marker\":{\"color\":\"#00cc96\",\"pattern\":{\"shape\":\"\"}},\"name\":\"Linux Games\",\"offsetgroup\":\"Linux Games\",\"orientation\":\"v\",\"showlegend\":true,\"textposition\":\"auto\",\"texttemplate\":\"%{y}\",\"x\":[1997,1998,1999,2000,2001,2002,2003,2004,2005,2006,2007,2008,2009,2010,2011,2012,2013,2014,2015,2016,2017,2018,2019,2020,2021,2022,2023],\"xaxis\":\"x\",\"y\":[1,1,2,2,2,0,1,4,1,7,7,8,33,42,69,150,314,588,869,1140,1084,1015,768,851,822,894,358],\"yaxis\":\"y\",\"type\":\"bar\"}],                        {\"template\":{\"data\":{\"histogram2dcontour\":[{\"type\":\"histogram2dcontour\",\"colorbar\":{\"outlinewidth\":0,\"ticks\":\"\"},\"colorscale\":[[0.0,\"#0d0887\"],[0.1111111111111111,\"#46039f\"],[0.2222222222222222,\"#7201a8\"],[0.3333333333333333,\"#9c179e\"],[0.4444444444444444,\"#bd3786\"],[0.5555555555555556,\"#d8576b\"],[0.6666666666666666,\"#ed7953\"],[0.7777777777777778,\"#fb9f3a\"],[0.8888888888888888,\"#fdca26\"],[1.0,\"#f0f921\"]]}],\"choropleth\":[{\"type\":\"choropleth\",\"colorbar\":{\"outlinewidth\":0,\"ticks\":\"\"}}],\"histogram2d\":[{\"type\":\"histogram2d\",\"colorbar\":{\"outlinewidth\":0,\"ticks\":\"\"},\"colorscale\":[[0.0,\"#0d0887\"],[0.1111111111111111,\"#46039f\"],[0.2222222222222222,\"#7201a8\"],[0.3333333333333333,\"#9c179e\"],[0.4444444444444444,\"#bd3786\"],[0.5555555555555556,\"#d8576b\"],[0.6666666666666666,\"#ed7953\"],[0.7777777777777778,\"#fb9f3a\"],[0.8888888888888888,\"#fdca26\"],[1.0,\"#f0f921\"]]}],\"heatmap\":[{\"type\":\"heatmap\",\"colorbar\":{\"outlinewidth\":0,\"ticks\":\"\"},\"colorscale\":[[0.0,\"#0d0887\"],[0.1111111111111111,\"#46039f\"],[0.2222222222222222,\"#7201a8\"],[0.3333333333333333,\"#9c179e\"],[0.4444444444444444,\"#bd3786\"],[0.5555555555555556,\"#d8576b\"],[0.6666666666666666,\"#ed7953\"],[0.7777777777777778,\"#fb9f3a\"],[0.8888888888888888,\"#fdca26\"],[1.0,\"#f0f921\"]]}],\"heatmapgl\":[{\"type\":\"heatmapgl\",\"colorbar\":{\"outlinewidth\":0,\"ticks\":\"\"},\"colorscale\":[[0.0,\"#0d0887\"],[0.1111111111111111,\"#46039f\"],[0.2222222222222222,\"#7201a8\"],[0.3333333333333333,\"#9c179e\"],[0.4444444444444444,\"#bd3786\"],[0.5555555555555556,\"#d8576b\"],[0.6666666666666666,\"#ed7953\"],[0.7777777777777778,\"#fb9f3a\"],[0.8888888888888888,\"#fdca26\"],[1.0,\"#f0f921\"]]}],\"contourcarpet\":[{\"type\":\"contourcarpet\",\"colorbar\":{\"outlinewidth\":0,\"ticks\":\"\"}}],\"contour\":[{\"type\":\"contour\",\"colorbar\":{\"outlinewidth\":0,\"ticks\":\"\"},\"colorscale\":[[0.0,\"#0d0887\"],[0.1111111111111111,\"#46039f\"],[0.2222222222222222,\"#7201a8\"],[0.3333333333333333,\"#9c179e\"],[0.4444444444444444,\"#bd3786\"],[0.5555555555555556,\"#d8576b\"],[0.6666666666666666,\"#ed7953\"],[0.7777777777777778,\"#fb9f3a\"],[0.8888888888888888,\"#fdca26\"],[1.0,\"#f0f921\"]]}],\"surface\":[{\"type\":\"surface\",\"colorbar\":{\"outlinewidth\":0,\"ticks\":\"\"},\"colorscale\":[[0.0,\"#0d0887\"],[0.1111111111111111,\"#46039f\"],[0.2222222222222222,\"#7201a8\"],[0.3333333333333333,\"#9c179e\"],[0.4444444444444444,\"#bd3786\"],[0.5555555555555556,\"#d8576b\"],[0.6666666666666666,\"#ed7953\"],[0.7777777777777778,\"#fb9f3a\"],[0.8888888888888888,\"#fdca26\"],[1.0,\"#f0f921\"]]}],\"mesh3d\":[{\"type\":\"mesh3d\",\"colorbar\":{\"outlinewidth\":0,\"ticks\":\"\"}}],\"scatter\":[{\"fillpattern\":{\"fillmode\":\"overlay\",\"size\":10,\"solidity\":0.2},\"type\":\"scatter\"}],\"parcoords\":[{\"type\":\"parcoords\",\"line\":{\"colorbar\":{\"outlinewidth\":0,\"ticks\":\"\"}}}],\"scatterpolargl\":[{\"type\":\"scatterpolargl\",\"marker\":{\"colorbar\":{\"outlinewidth\":0,\"ticks\":\"\"}}}],\"bar\":[{\"error_x\":{\"color\":\"#2a3f5f\"},\"error_y\":{\"color\":\"#2a3f5f\"},\"marker\":{\"line\":{\"color\":\"#E5ECF6\",\"width\":0.5},\"pattern\":{\"fillmode\":\"overlay\",\"size\":10,\"solidity\":0.2}},\"type\":\"bar\"}],\"scattergeo\":[{\"type\":\"scattergeo\",\"marker\":{\"colorbar\":{\"outlinewidth\":0,\"ticks\":\"\"}}}],\"scatterpolar\":[{\"type\":\"scatterpolar\",\"marker\":{\"colorbar\":{\"outlinewidth\":0,\"ticks\":\"\"}}}],\"histogram\":[{\"marker\":{\"pattern\":{\"fillmode\":\"overlay\",\"size\":10,\"solidity\":0.2}},\"type\":\"histogram\"}],\"scattergl\":[{\"type\":\"scattergl\",\"marker\":{\"colorbar\":{\"outlinewidth\":0,\"ticks\":\"\"}}}],\"scatter3d\":[{\"type\":\"scatter3d\",\"line\":{\"colorbar\":{\"outlinewidth\":0,\"ticks\":\"\"}},\"marker\":{\"colorbar\":{\"outlinewidth\":0,\"ticks\":\"\"}}}],\"scattermapbox\":[{\"type\":\"scattermapbox\",\"marker\":{\"colorbar\":{\"outlinewidth\":0,\"ticks\":\"\"}}}],\"scatterternary\":[{\"type\":\"scatterternary\",\"marker\":{\"colorbar\":{\"outlinewidth\":0,\"ticks\":\"\"}}}],\"scattercarpet\":[{\"type\":\"scattercarpet\",\"marker\":{\"colorbar\":{\"outlinewidth\":0,\"ticks\":\"\"}}}],\"carpet\":[{\"aaxis\":{\"endlinecolor\":\"#2a3f5f\",\"gridcolor\":\"white\",\"linecolor\":\"white\",\"minorgridcolor\":\"white\",\"startlinecolor\":\"#2a3f5f\"},\"baxis\":{\"endlinecolor\":\"#2a3f5f\",\"gridcolor\":\"white\",\"linecolor\":\"white\",\"minorgridcolor\":\"white\",\"startlinecolor\":\"#2a3f5f\"},\"type\":\"carpet\"}],\"table\":[{\"cells\":{\"fill\":{\"color\":\"#EBF0F8\"},\"line\":{\"color\":\"white\"}},\"header\":{\"fill\":{\"color\":\"#C8D4E3\"},\"line\":{\"color\":\"white\"}},\"type\":\"table\"}],\"barpolar\":[{\"marker\":{\"line\":{\"color\":\"#E5ECF6\",\"width\":0.5},\"pattern\":{\"fillmode\":\"overlay\",\"size\":10,\"solidity\":0.2}},\"type\":\"barpolar\"}],\"pie\":[{\"automargin\":true,\"type\":\"pie\"}]},\"layout\":{\"autotypenumbers\":\"strict\",\"colorway\":[\"#636efa\",\"#EF553B\",\"#00cc96\",\"#ab63fa\",\"#FFA15A\",\"#19d3f3\",\"#FF6692\",\"#B6E880\",\"#FF97FF\",\"#FECB52\"],\"font\":{\"color\":\"#2a3f5f\"},\"hovermode\":\"closest\",\"hoverlabel\":{\"align\":\"left\"},\"paper_bgcolor\":\"white\",\"plot_bgcolor\":\"#E5ECF6\",\"polar\":{\"bgcolor\":\"#E5ECF6\",\"angularaxis\":{\"gridcolor\":\"white\",\"linecolor\":\"white\",\"ticks\":\"\"},\"radialaxis\":{\"gridcolor\":\"white\",\"linecolor\":\"white\",\"ticks\":\"\"}},\"ternary\":{\"bgcolor\":\"#E5ECF6\",\"aaxis\":{\"gridcolor\":\"white\",\"linecolor\":\"white\",\"ticks\":\"\"},\"baxis\":{\"gridcolor\":\"white\",\"linecolor\":\"white\",\"ticks\":\"\"},\"caxis\":{\"gridcolor\":\"white\",\"linecolor\":\"white\",\"ticks\":\"\"}},\"coloraxis\":{\"colorbar\":{\"outlinewidth\":0,\"ticks\":\"\"}},\"colorscale\":{\"sequential\":[[0.0,\"#0d0887\"],[0.1111111111111111,\"#46039f\"],[0.2222222222222222,\"#7201a8\"],[0.3333333333333333,\"#9c179e\"],[0.4444444444444444,\"#bd3786\"],[0.5555555555555556,\"#d8576b\"],[0.6666666666666666,\"#ed7953\"],[0.7777777777777778,\"#fb9f3a\"],[0.8888888888888888,\"#fdca26\"],[1.0,\"#f0f921\"]],\"sequentialminus\":[[0.0,\"#0d0887\"],[0.1111111111111111,\"#46039f\"],[0.2222222222222222,\"#7201a8\"],[0.3333333333333333,\"#9c179e\"],[0.4444444444444444,\"#bd3786\"],[0.5555555555555556,\"#d8576b\"],[0.6666666666666666,\"#ed7953\"],[0.7777777777777778,\"#fb9f3a\"],[0.8888888888888888,\"#fdca26\"],[1.0,\"#f0f921\"]],\"diverging\":[[0,\"#8e0152\"],[0.1,\"#c51b7d\"],[0.2,\"#de77ae\"],[0.3,\"#f1b6da\"],[0.4,\"#fde0ef\"],[0.5,\"#f7f7f7\"],[0.6,\"#e6f5d0\"],[0.7,\"#b8e186\"],[0.8,\"#7fbc41\"],[0.9,\"#4d9221\"],[1,\"#276419\"]]},\"xaxis\":{\"gridcolor\":\"white\",\"linecolor\":\"white\",\"ticks\":\"\",\"title\":{\"standoff\":15},\"zerolinecolor\":\"white\",\"automargin\":true,\"zerolinewidth\":2},\"yaxis\":{\"gridcolor\":\"white\",\"linecolor\":\"white\",\"ticks\":\"\",\"title\":{\"standoff\":15},\"zerolinecolor\":\"white\",\"automargin\":true,\"zerolinewidth\":2},\"scene\":{\"xaxis\":{\"backgroundcolor\":\"#E5ECF6\",\"gridcolor\":\"white\",\"linecolor\":\"white\",\"showbackground\":true,\"ticks\":\"\",\"zerolinecolor\":\"white\",\"gridwidth\":2},\"yaxis\":{\"backgroundcolor\":\"#E5ECF6\",\"gridcolor\":\"white\",\"linecolor\":\"white\",\"showbackground\":true,\"ticks\":\"\",\"zerolinecolor\":\"white\",\"gridwidth\":2},\"zaxis\":{\"backgroundcolor\":\"#E5ECF6\",\"gridcolor\":\"white\",\"linecolor\":\"white\",\"showbackground\":true,\"ticks\":\"\",\"zerolinecolor\":\"white\",\"gridwidth\":2}},\"shapedefaults\":{\"line\":{\"color\":\"#2a3f5f\"}},\"annotationdefaults\":{\"arrowcolor\":\"#2a3f5f\",\"arrowhead\":0,\"arrowwidth\":1},\"geo\":{\"bgcolor\":\"white\",\"landcolor\":\"#E5ECF6\",\"subunitcolor\":\"white\",\"showland\":true,\"showlakes\":true,\"lakecolor\":\"white\"},\"title\":{\"x\":0.05},\"mapbox\":{\"style\":\"light\"}}},\"xaxis\":{\"anchor\":\"y\",\"domain\":[0.0,1.0],\"title\":{\"text\":\"date_release\"}},\"yaxis\":{\"anchor\":\"x\",\"domain\":[0.0,1.0],\"title\":{\"text\":\"Total\"}},\"legend\":{\"title\":{\"text\":\"Operating System\"},\"tracegroupgap\":0},\"margin\":{\"t\":60},\"barmode\":\"relative\"},                        {\"responsive\": true}                    ).then(function(){\n",
       "                            \n",
       "var gd = document.getElementById('6e5aa9a1-5cc8-4d6f-83f3-45fba8a51084');\n",
       "var x = new MutationObserver(function (mutations, observer) {{\n",
       "        var display = window.getComputedStyle(gd).display;\n",
       "        if (!display || display === 'none') {{\n",
       "            console.log([gd, 'removed!']);\n",
       "            Plotly.purge(gd);\n",
       "            observer.disconnect();\n",
       "        }}\n",
       "}});\n",
       "\n",
       "// Listen for the removal of the full notebook cells\n",
       "var notebookContainer = gd.closest('#notebook-container');\n",
       "if (notebookContainer) {{\n",
       "    x.observe(notebookContainer, {childList: true});\n",
       "}}\n",
       "\n",
       "// Listen for the clearing of the current output cell\n",
       "var outputEl = gd.closest('.output');\n",
       "if (outputEl) {{\n",
       "    x.observe(outputEl, {childList: true});\n",
       "}}\n",
       "\n",
       "                        })                };                });            </script>        </div>"
      ]
     },
     "metadata": {},
     "output_type": "display_data"
    }
   ],
   "source": [
    "platform_counts_per_year = df.groupby(df['date_release'].dt.year)[['win', 'mac', 'linux']].sum()\n",
    "platform_counts_per_year.reset_index(inplace=True)\n",
    "platform_counts_per_year.rename(columns={'win': 'Windows Games', 'mac': 'Mac Games', 'linux': 'Linux Games'}, inplace=True)\n",
    "\n",
    "fig = px.bar(platform_counts_per_year, x='date_release', y=['Windows Games','Mac Games' ,'Linux Games'], text_auto=True,labels={\"variable\":\"Operating System\", \"value\":\"Total\"}, hover_name=\"date_release\", hover_data={'date_release': False})\n",
    "\n",
    "fig.show()"
   ]
  },
  {
   "cell_type": "markdown",
   "id": "76c96994",
   "metadata": {
    "papermill": {
     "duration": 0.01,
     "end_time": "2023-10-24T05:38:44.750595",
     "exception": false,
     "start_time": "2023-10-24T05:38:44.740595",
     "status": "completed"
    },
    "tags": []
   },
   "source": [
    "**Summary**\n",
    "<p>Operating system support within the desktop gaming industry has been a popular concern for many PC, Mac and Linux users. While the PC has historically been the go-to operating system for both game development and game optimisation, Mac OS and Linux systems have slowly increased their user base to a stage where developers must now decide whether multiplatform support for their game is financially feasible. Over time we can see that game support for Mac OS systems have steadily increased alongside its user base, while Linux user continue to get a lower amount of support each year since its dip in 2019.</p>"
   ]
  }
 ],
 "metadata": {
  "kernelspec": {
   "display_name": "Python 3",
   "language": "python",
   "name": "python3"
  },
  "language_info": {
   "codemirror_mode": {
    "name": "ipython",
    "version": 3
   },
   "file_extension": ".py",
   "mimetype": "text/x-python",
   "name": "python",
   "nbconvert_exporter": "python",
   "pygments_lexer": "ipython3",
   "version": "3.10.12"
  },
  "papermill": {
   "default_parameters": {},
   "duration": 10.727061,
   "end_time": "2023-10-24T05:38:45.483795",
   "environment_variables": {},
   "exception": null,
   "input_path": "__notebook__.ipynb",
   "output_path": "__notebook__.ipynb",
   "parameters": {},
   "start_time": "2023-10-24T05:38:34.756734",
   "version": "2.4.0"
  }
 },
 "nbformat": 4,
 "nbformat_minor": 5
}
