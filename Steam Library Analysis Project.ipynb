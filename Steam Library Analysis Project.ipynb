{
 "cells": [
  {
   "cell_type": "markdown",
   "id": "0409c866",
   "metadata": {
    "papermill": {
     "duration": 0.005592,
     "end_time": "2023-10-18T06:20:18.693540",
     "exception": false,
     "start_time": "2023-10-18T06:20:18.687948",
     "status": "completed"
    },
    "tags": []
   },
   "source": [
    "# Steam Library Data Analysis\n",
    "## Data preparation\n",
    "### Importing libraries"
   ]
  },
  {
   "cell_type": "code",
   "execution_count": 1,
   "id": "c1c730dc",
   "metadata": {
    "_cell_guid": "b1076dfc-b9ad-4769-8c92-a6c4dae69d19",
    "_uuid": "8f2839f25d086af736a60e9eeb907d3b93b6e0e5",
    "execution": {
     "iopub.execute_input": "2023-10-18T06:20:18.706417Z",
     "iopub.status.busy": "2023-10-18T06:20:18.705853Z",
     "iopub.status.idle": "2023-10-18T06:20:21.136076Z",
     "shell.execute_reply": "2023-10-18T06:20:21.135239Z"
    },
    "papermill": {
     "duration": 2.438962,
     "end_time": "2023-10-18T06:20:21.138151",
     "exception": false,
     "start_time": "2023-10-18T06:20:18.699189",
     "status": "completed"
    },
    "tags": []
   },
   "outputs": [],
   "source": [
    "import pandas as pd\n",
    "import numpy as np\n",
    "import matplotlib.pyplot as plt\n",
    "import seaborn as sns\n",
    "import plotly.express as px\n",
    "from tabulate import tabulate"
   ]
  },
  {
   "cell_type": "code",
   "execution_count": 2,
   "id": "f2a31620",
   "metadata": {
    "execution": {
     "iopub.execute_input": "2023-10-18T06:20:21.150359Z",
     "iopub.status.busy": "2023-10-18T06:20:21.149636Z",
     "iopub.status.idle": "2023-10-18T06:20:21.393201Z",
     "shell.execute_reply": "2023-10-18T06:20:21.392190Z"
    },
    "papermill": {
     "duration": 0.251748,
     "end_time": "2023-10-18T06:20:21.395344",
     "exception": false,
     "start_time": "2023-10-18T06:20:21.143596",
     "status": "completed"
    },
    "tags": []
   },
   "outputs": [
    {
     "name": "stdout",
     "output_type": "stream",
     "text": [
      "<class 'pandas.core.frame.DataFrame'>\n",
      "RangeIndex: 50796 entries, 0 to 50795\n",
      "Data columns (total 13 columns):\n",
      " #   Column          Non-Null Count  Dtype  \n",
      "---  ------          --------------  -----  \n",
      " 0   app_id          50796 non-null  int64  \n",
      " 1   title           50796 non-null  object \n",
      " 2   date_release    50796 non-null  object \n",
      " 3   win             50796 non-null  bool   \n",
      " 4   mac             50796 non-null  bool   \n",
      " 5   linux           50796 non-null  bool   \n",
      " 6   rating          50796 non-null  object \n",
      " 7   positive_ratio  50796 non-null  int64  \n",
      " 8   user_reviews    50796 non-null  int64  \n",
      " 9   price_final     50796 non-null  float64\n",
      " 10  price_original  50796 non-null  float64\n",
      " 11  discount        50796 non-null  float64\n",
      " 12  steam_deck      50796 non-null  bool   \n",
      "dtypes: bool(4), float64(3), int64(3), object(3)\n",
      "memory usage: 3.7+ MB\n"
     ]
    }
   ],
   "source": [
    "df= pd.read_csv('/kaggle/input/game-recommendations-on-steam/games.csv')\n",
    "df.info()"
   ]
  },
  {
   "cell_type": "markdown",
   "id": "02f40838",
   "metadata": {
    "papermill": {
     "duration": 0.00478,
     "end_time": "2023-10-18T06:20:21.405257",
     "exception": false,
     "start_time": "2023-10-18T06:20:21.400477",
     "status": "completed"
    },
    "tags": []
   },
   "source": [
    "### Identification and conversion of datatypes"
   ]
  },
  {
   "cell_type": "code",
   "execution_count": 3,
   "id": "fed3963b",
   "metadata": {
    "execution": {
     "iopub.execute_input": "2023-10-18T06:20:21.417139Z",
     "iopub.status.busy": "2023-10-18T06:20:21.416253Z",
     "iopub.status.idle": "2023-10-18T06:20:21.431711Z",
     "shell.execute_reply": "2023-10-18T06:20:21.430530Z"
    },
    "papermill": {
     "duration": 0.023486,
     "end_time": "2023-10-18T06:20:21.433631",
     "exception": false,
     "start_time": "2023-10-18T06:20:21.410145",
     "status": "completed"
    },
    "tags": []
   },
   "outputs": [
    {
     "data": {
      "text/html": [
       "<div>\n",
       "<style scoped>\n",
       "    .dataframe tbody tr th:only-of-type {\n",
       "        vertical-align: middle;\n",
       "    }\n",
       "\n",
       "    .dataframe tbody tr th {\n",
       "        vertical-align: top;\n",
       "    }\n",
       "\n",
       "    .dataframe thead th {\n",
       "        text-align: right;\n",
       "    }\n",
       "</style>\n",
       "<table border=\"1\" class=\"dataframe\">\n",
       "  <thead>\n",
       "    <tr style=\"text-align: right;\">\n",
       "      <th></th>\n",
       "      <th>Sum of Data Type</th>\n",
       "    </tr>\n",
       "  </thead>\n",
       "  <tbody>\n",
       "    <tr>\n",
       "      <th>bool</th>\n",
       "      <td>4</td>\n",
       "    </tr>\n",
       "    <tr>\n",
       "      <th>int64</th>\n",
       "      <td>3</td>\n",
       "    </tr>\n",
       "    <tr>\n",
       "      <th>object</th>\n",
       "      <td>3</td>\n",
       "    </tr>\n",
       "    <tr>\n",
       "      <th>float64</th>\n",
       "      <td>3</td>\n",
       "    </tr>\n",
       "  </tbody>\n",
       "</table>\n",
       "</div>"
      ],
      "text/plain": [
       "         Sum of Data Type\n",
       "bool                    4\n",
       "int64                   3\n",
       "object                  3\n",
       "float64                 3"
      ]
     },
     "execution_count": 3,
     "metadata": {},
     "output_type": "execute_result"
    }
   ],
   "source": [
    "data_types = df.dtypes.value_counts()\n",
    "data_types_table = pd.concat([data_types], axis = 1, keys = ['Sum of Data Type'])\n",
    "data_types_table"
   ]
  },
  {
   "cell_type": "code",
   "execution_count": 4,
   "id": "8c8b9cb9",
   "metadata": {
    "execution": {
     "iopub.execute_input": "2023-10-18T06:20:21.445271Z",
     "iopub.status.busy": "2023-10-18T06:20:21.444931Z",
     "iopub.status.idle": "2023-10-18T06:20:21.481790Z",
     "shell.execute_reply": "2023-10-18T06:20:21.480731Z"
    },
    "papermill": {
     "duration": 0.045166,
     "end_time": "2023-10-18T06:20:21.484024",
     "exception": false,
     "start_time": "2023-10-18T06:20:21.438858",
     "status": "completed"
    },
    "tags": []
   },
   "outputs": [],
   "source": [
    "object_select = df.select_dtypes(include = 'object').columns\n",
    "df[object_select]=df[object_select].astype('string')\n",
    "\n",
    "df['date_release']= pd.to_datetime(df['date_release'])"
   ]
  },
  {
   "cell_type": "markdown",
   "id": "af271f13",
   "metadata": {
    "papermill": {
     "duration": 0.0053,
     "end_time": "2023-10-18T06:20:21.494604",
     "exception": false,
     "start_time": "2023-10-18T06:20:21.489304",
     "status": "completed"
    },
    "tags": []
   },
   "source": [
    "Here we converted the 'object' columns to strings and the 'date_release' column to a datetime datatype"
   ]
  },
  {
   "cell_type": "code",
   "execution_count": 5,
   "id": "f4818f4f",
   "metadata": {
    "execution": {
     "iopub.execute_input": "2023-10-18T06:20:21.506750Z",
     "iopub.status.busy": "2023-10-18T06:20:21.505920Z",
     "iopub.status.idle": "2023-10-18T06:20:21.515422Z",
     "shell.execute_reply": "2023-10-18T06:20:21.514625Z"
    },
    "papermill": {
     "duration": 0.017493,
     "end_time": "2023-10-18T06:20:21.517355",
     "exception": false,
     "start_time": "2023-10-18T06:20:21.499862",
     "status": "completed"
    },
    "tags": []
   },
   "outputs": [
    {
     "data": {
      "text/html": [
       "<div>\n",
       "<style scoped>\n",
       "    .dataframe tbody tr th:only-of-type {\n",
       "        vertical-align: middle;\n",
       "    }\n",
       "\n",
       "    .dataframe tbody tr th {\n",
       "        vertical-align: top;\n",
       "    }\n",
       "\n",
       "    .dataframe thead th {\n",
       "        text-align: right;\n",
       "    }\n",
       "</style>\n",
       "<table border=\"1\" class=\"dataframe\">\n",
       "  <thead>\n",
       "    <tr style=\"text-align: right;\">\n",
       "      <th></th>\n",
       "      <th>Sum of Data Type</th>\n",
       "    </tr>\n",
       "  </thead>\n",
       "  <tbody>\n",
       "    <tr>\n",
       "      <th>bool</th>\n",
       "      <td>4</td>\n",
       "    </tr>\n",
       "    <tr>\n",
       "      <th>int64</th>\n",
       "      <td>3</td>\n",
       "    </tr>\n",
       "    <tr>\n",
       "      <th>float64</th>\n",
       "      <td>3</td>\n",
       "    </tr>\n",
       "    <tr>\n",
       "      <th>string</th>\n",
       "      <td>2</td>\n",
       "    </tr>\n",
       "    <tr>\n",
       "      <th>datetime64[ns]</th>\n",
       "      <td>1</td>\n",
       "    </tr>\n",
       "  </tbody>\n",
       "</table>\n",
       "</div>"
      ],
      "text/plain": [
       "                Sum of Data Type\n",
       "bool                           4\n",
       "int64                          3\n",
       "float64                        3\n",
       "string                         2\n",
       "datetime64[ns]                 1"
      ]
     },
     "execution_count": 5,
     "metadata": {},
     "output_type": "execute_result"
    }
   ],
   "source": [
    "data_types = df.dtypes.value_counts()\n",
    "data_types_table = pd.concat([data_types], axis = 1, keys = ['Sum of Data Type'])\n",
    "data_types_table"
   ]
  },
  {
   "cell_type": "markdown",
   "id": "3bb3dc10",
   "metadata": {
    "papermill": {
     "duration": 0.004891,
     "end_time": "2023-10-18T06:20:21.527516",
     "exception": false,
     "start_time": "2023-10-18T06:20:21.522625",
     "status": "completed"
    },
    "tags": []
   },
   "source": [
    "### Null Check"
   ]
  },
  {
   "cell_type": "code",
   "execution_count": 6,
   "id": "664103e2",
   "metadata": {
    "execution": {
     "iopub.execute_input": "2023-10-18T06:20:21.539282Z",
     "iopub.status.busy": "2023-10-18T06:20:21.538949Z",
     "iopub.status.idle": "2023-10-18T06:20:21.554864Z",
     "shell.execute_reply": "2023-10-18T06:20:21.554004Z"
    },
    "papermill": {
     "duration": 0.02426,
     "end_time": "2023-10-18T06:20:21.556810",
     "exception": false,
     "start_time": "2023-10-18T06:20:21.532550",
     "status": "completed"
    },
    "tags": []
   },
   "outputs": [
    {
     "data": {
      "text/html": [
       "<div>\n",
       "<style scoped>\n",
       "    .dataframe tbody tr th:only-of-type {\n",
       "        vertical-align: middle;\n",
       "    }\n",
       "\n",
       "    .dataframe tbody tr th {\n",
       "        vertical-align: top;\n",
       "    }\n",
       "\n",
       "    .dataframe thead th {\n",
       "        text-align: right;\n",
       "    }\n",
       "</style>\n",
       "<table border=\"1\" class=\"dataframe\">\n",
       "  <thead>\n",
       "    <tr style=\"text-align: right;\">\n",
       "      <th></th>\n",
       "      <th>Total Missing Data</th>\n",
       "    </tr>\n",
       "  </thead>\n",
       "  <tbody>\n",
       "    <tr>\n",
       "      <th>app_id</th>\n",
       "      <td>0</td>\n",
       "    </tr>\n",
       "    <tr>\n",
       "      <th>title</th>\n",
       "      <td>0</td>\n",
       "    </tr>\n",
       "    <tr>\n",
       "      <th>date_release</th>\n",
       "      <td>0</td>\n",
       "    </tr>\n",
       "    <tr>\n",
       "      <th>win</th>\n",
       "      <td>0</td>\n",
       "    </tr>\n",
       "    <tr>\n",
       "      <th>mac</th>\n",
       "      <td>0</td>\n",
       "    </tr>\n",
       "    <tr>\n",
       "      <th>linux</th>\n",
       "      <td>0</td>\n",
       "    </tr>\n",
       "    <tr>\n",
       "      <th>rating</th>\n",
       "      <td>0</td>\n",
       "    </tr>\n",
       "    <tr>\n",
       "      <th>positive_ratio</th>\n",
       "      <td>0</td>\n",
       "    </tr>\n",
       "    <tr>\n",
       "      <th>user_reviews</th>\n",
       "      <td>0</td>\n",
       "    </tr>\n",
       "    <tr>\n",
       "      <th>price_final</th>\n",
       "      <td>0</td>\n",
       "    </tr>\n",
       "    <tr>\n",
       "      <th>price_original</th>\n",
       "      <td>0</td>\n",
       "    </tr>\n",
       "    <tr>\n",
       "      <th>discount</th>\n",
       "      <td>0</td>\n",
       "    </tr>\n",
       "    <tr>\n",
       "      <th>steam_deck</th>\n",
       "      <td>0</td>\n",
       "    </tr>\n",
       "  </tbody>\n",
       "</table>\n",
       "</div>"
      ],
      "text/plain": [
       "                Total Missing Data\n",
       "app_id                           0\n",
       "title                            0\n",
       "date_release                     0\n",
       "win                              0\n",
       "mac                              0\n",
       "linux                            0\n",
       "rating                           0\n",
       "positive_ratio                   0\n",
       "user_reviews                     0\n",
       "price_final                      0\n",
       "price_original                   0\n",
       "discount                         0\n",
       "steam_deck                       0"
      ]
     },
     "execution_count": 6,
     "metadata": {},
     "output_type": "execute_result"
    }
   ],
   "source": [
    "null_check = df.isnull().sum()\n",
    "\n",
    "missing_data_table = pd.concat([null_check], axis = 1, keys = ['Total Missing Data'])\n",
    "\n",
    "missing_data_table"
   ]
  },
  {
   "cell_type": "markdown",
   "id": "a1e1ae9d",
   "metadata": {
    "papermill": {
     "duration": 0.005148,
     "end_time": "2023-10-18T06:20:21.567400",
     "exception": false,
     "start_time": "2023-10-18T06:20:21.562252",
     "status": "completed"
    },
    "tags": []
   },
   "source": [
    "### Duplicate Check"
   ]
  },
  {
   "cell_type": "code",
   "execution_count": 7,
   "id": "61dc5bed",
   "metadata": {
    "execution": {
     "iopub.execute_input": "2023-10-18T06:20:21.580068Z",
     "iopub.status.busy": "2023-10-18T06:20:21.579484Z",
     "iopub.status.idle": "2023-10-18T06:20:21.624297Z",
     "shell.execute_reply": "2023-10-18T06:20:21.623474Z"
    },
    "papermill": {
     "duration": 0.053716,
     "end_time": "2023-10-18T06:20:21.626529",
     "exception": false,
     "start_time": "2023-10-18T06:20:21.572813",
     "status": "completed"
    },
    "tags": []
   },
   "outputs": [
    {
     "name": "stdout",
     "output_type": "stream",
     "text": [
      "There are 0 duplicate rows within this dataset\n"
     ]
    }
   ],
   "source": [
    "duplicate_check = df.duplicated().sum()\n",
    "print(f\"There are {duplicate_check} duplicate rows within this dataset\")"
   ]
  },
  {
   "cell_type": "markdown",
   "id": "4f7a1a1f",
   "metadata": {
    "papermill": {
     "duration": 0.005327,
     "end_time": "2023-10-18T06:20:21.637505",
     "exception": false,
     "start_time": "2023-10-18T06:20:21.632178",
     "status": "completed"
    },
    "tags": []
   },
   "source": [
    "## Data Analysis\n",
    "### Initial investigation\n",
    "#### Top 20 rated steam games released after 2020"
   ]
  },
  {
   "cell_type": "code",
   "execution_count": 8,
   "id": "ce1219ed",
   "metadata": {
    "execution": {
     "iopub.execute_input": "2023-10-18T06:20:21.650231Z",
     "iopub.status.busy": "2023-10-18T06:20:21.649867Z",
     "iopub.status.idle": "2023-10-18T06:20:21.678147Z",
     "shell.execute_reply": "2023-10-18T06:20:21.677101Z"
    },
    "papermill": {
     "duration": 0.037233,
     "end_time": "2023-10-18T06:20:21.680182",
     "exception": false,
     "start_time": "2023-10-18T06:20:21.642949",
     "status": "completed"
    },
    "tags": []
   },
   "outputs": [
    {
     "data": {
      "text/html": [
       "<div>\n",
       "<style scoped>\n",
       "    .dataframe tbody tr th:only-of-type {\n",
       "        vertical-align: middle;\n",
       "    }\n",
       "\n",
       "    .dataframe tbody tr th {\n",
       "        vertical-align: top;\n",
       "    }\n",
       "\n",
       "    .dataframe thead th {\n",
       "        text-align: right;\n",
       "    }\n",
       "</style>\n",
       "<table border=\"1\" class=\"dataframe\">\n",
       "  <thead>\n",
       "    <tr style=\"text-align: right;\">\n",
       "      <th></th>\n",
       "      <th>title</th>\n",
       "      <th>user_reviews</th>\n",
       "      <th>positive_ratio</th>\n",
       "    </tr>\n",
       "  </thead>\n",
       "  <tbody>\n",
       "    <tr>\n",
       "      <th>14366</th>\n",
       "      <td>ELDEN RING</td>\n",
       "      <td>528702</td>\n",
       "      <td>92</td>\n",
       "    </tr>\n",
       "    <tr>\n",
       "      <th>13107</th>\n",
       "      <td>Phasmophobia</td>\n",
       "      <td>486466</td>\n",
       "      <td>96</td>\n",
       "    </tr>\n",
       "    <tr>\n",
       "      <th>48090</th>\n",
       "      <td>Valheim</td>\n",
       "      <td>356617</td>\n",
       "      <td>95</td>\n",
       "    </tr>\n",
       "    <tr>\n",
       "      <th>14676</th>\n",
       "      <td>Baldur's Gate 3</td>\n",
       "      <td>269840</td>\n",
       "      <td>95</td>\n",
       "    </tr>\n",
       "    <tr>\n",
       "      <th>15628</th>\n",
       "      <td>Sea of Thieves 2023 Edition</td>\n",
       "      <td>253844</td>\n",
       "      <td>90</td>\n",
       "    </tr>\n",
       "    <tr>\n",
       "      <th>15079</th>\n",
       "      <td>Raft</td>\n",
       "      <td>240299</td>\n",
       "      <td>93</td>\n",
       "    </tr>\n",
       "    <tr>\n",
       "      <th>13408</th>\n",
       "      <td>Hades</td>\n",
       "      <td>214267</td>\n",
       "      <td>98</td>\n",
       "    </tr>\n",
       "    <tr>\n",
       "      <th>15195</th>\n",
       "      <td>Vampire Survivors</td>\n",
       "      <td>197109</td>\n",
       "      <td>98</td>\n",
       "    </tr>\n",
       "    <tr>\n",
       "      <th>49823</th>\n",
       "      <td>tModLoader</td>\n",
       "      <td>188684</td>\n",
       "      <td>97</td>\n",
       "    </tr>\n",
       "    <tr>\n",
       "      <th>14279</th>\n",
       "      <td>Deep Rock Galactic</td>\n",
       "      <td>187823</td>\n",
       "      <td>97</td>\n",
       "    </tr>\n",
       "    <tr>\n",
       "      <th>13471</th>\n",
       "      <td>Risk of Rain 2</td>\n",
       "      <td>164702</td>\n",
       "      <td>96</td>\n",
       "    </tr>\n",
       "    <tr>\n",
       "      <th>48167</th>\n",
       "      <td>Hogwarts Legacy</td>\n",
       "      <td>156547</td>\n",
       "      <td>92</td>\n",
       "    </tr>\n",
       "    <tr>\n",
       "      <th>14991</th>\n",
       "      <td>Titanfall® 2</td>\n",
       "      <td>154419</td>\n",
       "      <td>94</td>\n",
       "    </tr>\n",
       "    <tr>\n",
       "      <th>15080</th>\n",
       "      <td>DOOM Eternal</td>\n",
       "      <td>153466</td>\n",
       "      <td>91</td>\n",
       "    </tr>\n",
       "    <tr>\n",
       "      <th>11866</th>\n",
       "      <td>Crab Game</td>\n",
       "      <td>144524</td>\n",
       "      <td>92</td>\n",
       "    </tr>\n",
       "    <tr>\n",
       "      <th>40987</th>\n",
       "      <td>Muck</td>\n",
       "      <td>139841</td>\n",
       "      <td>94</td>\n",
       "    </tr>\n",
       "    <tr>\n",
       "      <th>47690</th>\n",
       "      <td>Factorio</td>\n",
       "      <td>134384</td>\n",
       "      <td>96</td>\n",
       "    </tr>\n",
       "    <tr>\n",
       "      <th>47780</th>\n",
       "      <td>Satisfactory</td>\n",
       "      <td>119866</td>\n",
       "      <td>97</td>\n",
       "    </tr>\n",
       "    <tr>\n",
       "      <th>14374</th>\n",
       "      <td>It Takes Two</td>\n",
       "      <td>114704</td>\n",
       "      <td>95</td>\n",
       "    </tr>\n",
       "    <tr>\n",
       "      <th>13180</th>\n",
       "      <td>Stray</td>\n",
       "      <td>111376</td>\n",
       "      <td>97</td>\n",
       "    </tr>\n",
       "  </tbody>\n",
       "</table>\n",
       "</div>"
      ],
      "text/plain": [
       "                             title  user_reviews  positive_ratio\n",
       "14366                   ELDEN RING        528702              92\n",
       "13107                 Phasmophobia        486466              96\n",
       "48090                      Valheim        356617              95\n",
       "14676              Baldur's Gate 3        269840              95\n",
       "15628  Sea of Thieves 2023 Edition        253844              90\n",
       "15079                         Raft        240299              93\n",
       "13408                        Hades        214267              98\n",
       "15195            Vampire Survivors        197109              98\n",
       "49823                   tModLoader        188684              97\n",
       "14279           Deep Rock Galactic        187823              97\n",
       "13471               Risk of Rain 2        164702              96\n",
       "48167              Hogwarts Legacy        156547              92\n",
       "14991                 Titanfall® 2        154419              94\n",
       "15080                 DOOM Eternal        153466              91\n",
       "11866                    Crab Game        144524              92\n",
       "40987                         Muck        139841              94\n",
       "47690                     Factorio        134384              96\n",
       "47780                 Satisfactory        119866              97\n",
       "14374                 It Takes Two        114704              95\n",
       "13180                        Stray        111376              97"
      ]
     },
     "execution_count": 8,
     "metadata": {},
     "output_type": "execute_result"
    }
   ],
   "source": [
    "top_games = df[(df['date_release'].dt.year >= 2020) & (df['positive_ratio'] >= 90)].sort_values(['user_reviews','positive_ratio'], ascending= [False, False]).head(20)\n",
    "top_games[['title','user_reviews','positive_ratio']]"
   ]
  },
  {
   "cell_type": "markdown",
   "id": "5c364bdd",
   "metadata": {
    "papermill": {
     "duration": 0.005596,
     "end_time": "2023-10-18T06:20:21.691847",
     "exception": false,
     "start_time": "2023-10-18T06:20:21.686251",
     "status": "completed"
    },
    "tags": []
   },
   "source": [
    "**Summary**"
   ]
  },
  {
   "cell_type": "markdown",
   "id": "4dcaa030",
   "metadata": {
    "papermill": {
     "duration": 0.005518,
     "end_time": "2023-10-18T06:20:21.703108",
     "exception": false,
     "start_time": "2023-10-18T06:20:21.697590",
     "status": "completed"
    },
    "tags": []
   },
   "source": [
    "#### Lowest 20 rated steam games released after 2020"
   ]
  },
  {
   "cell_type": "code",
   "execution_count": 9,
   "id": "9624db10",
   "metadata": {
    "execution": {
     "iopub.execute_input": "2023-10-18T06:20:21.715997Z",
     "iopub.status.busy": "2023-10-18T06:20:21.715646Z",
     "iopub.status.idle": "2023-10-18T06:20:21.735803Z",
     "shell.execute_reply": "2023-10-18T06:20:21.734667Z"
    },
    "papermill": {
     "duration": 0.029186,
     "end_time": "2023-10-18T06:20:21.737946",
     "exception": false,
     "start_time": "2023-10-18T06:20:21.708760",
     "status": "completed"
    },
    "tags": []
   },
   "outputs": [
    {
     "data": {
      "text/html": [
       "<div>\n",
       "<style scoped>\n",
       "    .dataframe tbody tr th:only-of-type {\n",
       "        vertical-align: middle;\n",
       "    }\n",
       "\n",
       "    .dataframe tbody tr th {\n",
       "        vertical-align: top;\n",
       "    }\n",
       "\n",
       "    .dataframe thead th {\n",
       "        text-align: right;\n",
       "    }\n",
       "</style>\n",
       "<table border=\"1\" class=\"dataframe\">\n",
       "  <thead>\n",
       "    <tr style=\"text-align: right;\">\n",
       "      <th></th>\n",
       "      <th>title</th>\n",
       "      <th>user_reviews</th>\n",
       "      <th>positive_ratio</th>\n",
       "    </tr>\n",
       "  </thead>\n",
       "  <tbody>\n",
       "    <tr>\n",
       "      <th>14190</th>\n",
       "      <td>Overwatch® 2</td>\n",
       "      <td>181198</td>\n",
       "      <td>9</td>\n",
       "    </tr>\n",
       "    <tr>\n",
       "      <th>13401</th>\n",
       "      <td>Battlefield™ 2042</td>\n",
       "      <td>153151</td>\n",
       "      <td>40</td>\n",
       "    </tr>\n",
       "    <tr>\n",
       "      <th>37392</th>\n",
       "      <td>Mirror 2: Project X</td>\n",
       "      <td>110981</td>\n",
       "      <td>26</td>\n",
       "    </tr>\n",
       "    <tr>\n",
       "      <th>48774</th>\n",
       "      <td>eFootball™ 2024</td>\n",
       "      <td>59071</td>\n",
       "      <td>37</td>\n",
       "    </tr>\n",
       "    <tr>\n",
       "      <th>50794</th>\n",
       "      <td>PAYDAY 3</td>\n",
       "      <td>29458</td>\n",
       "      <td>38</td>\n",
       "    </tr>\n",
       "    <tr>\n",
       "      <th>3191</th>\n",
       "      <td>War of the Three Kingdoms</td>\n",
       "      <td>21276</td>\n",
       "      <td>15</td>\n",
       "    </tr>\n",
       "    <tr>\n",
       "      <th>27239</th>\n",
       "      <td>Call of Duty®: Warzone™ 2.0</td>\n",
       "      <td>19770</td>\n",
       "      <td>34</td>\n",
       "    </tr>\n",
       "    <tr>\n",
       "      <th>48536</th>\n",
       "      <td>MOBILE SUIT GUNDAM BATTLE OPERATION 2</td>\n",
       "      <td>15685</td>\n",
       "      <td>20</td>\n",
       "    </tr>\n",
       "    <tr>\n",
       "      <th>34045</th>\n",
       "      <td>Cultivation Tales</td>\n",
       "      <td>12299</td>\n",
       "      <td>37</td>\n",
       "    </tr>\n",
       "    <tr>\n",
       "      <th>12651</th>\n",
       "      <td>Destiny 2: Lightfall</td>\n",
       "      <td>7343</td>\n",
       "      <td>31</td>\n",
       "    </tr>\n",
       "    <tr>\n",
       "      <th>48498</th>\n",
       "      <td>Elite Dangerous: Odyssey</td>\n",
       "      <td>7011</td>\n",
       "      <td>37</td>\n",
       "    </tr>\n",
       "    <tr>\n",
       "      <th>43127</th>\n",
       "      <td>江湖十一</td>\n",
       "      <td>4772</td>\n",
       "      <td>36</td>\n",
       "    </tr>\n",
       "    <tr>\n",
       "      <th>3386</th>\n",
       "      <td>Expansion - Europa Universalis IV: Leviathan</td>\n",
       "      <td>4723</td>\n",
       "      <td>10</td>\n",
       "    </tr>\n",
       "    <tr>\n",
       "      <th>41670</th>\n",
       "      <td>Retirement Simulator</td>\n",
       "      <td>3873</td>\n",
       "      <td>36</td>\n",
       "    </tr>\n",
       "    <tr>\n",
       "      <th>19596</th>\n",
       "      <td>Erzurum</td>\n",
       "      <td>3131</td>\n",
       "      <td>40</td>\n",
       "    </tr>\n",
       "    <tr>\n",
       "      <th>30623</th>\n",
       "      <td>STAR WARS™: The Old Republic™  - Subscriptions</td>\n",
       "      <td>2389</td>\n",
       "      <td>30</td>\n",
       "    </tr>\n",
       "    <tr>\n",
       "      <th>36369</th>\n",
       "      <td>Resident Evil Re:Verse</td>\n",
       "      <td>2249</td>\n",
       "      <td>37</td>\n",
       "    </tr>\n",
       "    <tr>\n",
       "      <th>14774</th>\n",
       "      <td>Dead by Daylight - Hellraiser Chapter</td>\n",
       "      <td>2245</td>\n",
       "      <td>39</td>\n",
       "    </tr>\n",
       "    <tr>\n",
       "      <th>6299</th>\n",
       "      <td>Expansion - Hearts of Iron IV: By Blood Alone</td>\n",
       "      <td>1996</td>\n",
       "      <td>36</td>\n",
       "    </tr>\n",
       "    <tr>\n",
       "      <th>21930</th>\n",
       "      <td>Tricolour Lovestory TrueEnd</td>\n",
       "      <td>1739</td>\n",
       "      <td>14</td>\n",
       "    </tr>\n",
       "  </tbody>\n",
       "</table>\n",
       "</div>"
      ],
      "text/plain": [
       "                                                title  user_reviews  \\\n",
       "14190                                    Overwatch® 2        181198   \n",
       "13401                               Battlefield™ 2042        153151   \n",
       "37392                             Mirror 2: Project X        110981   \n",
       "48774                                 eFootball™ 2024         59071   \n",
       "50794                                        PAYDAY 3         29458   \n",
       "3191                        War of the Three Kingdoms         21276   \n",
       "27239                     Call of Duty®: Warzone™ 2.0         19770   \n",
       "48536           MOBILE SUIT GUNDAM BATTLE OPERATION 2         15685   \n",
       "34045                               Cultivation Tales         12299   \n",
       "12651                            Destiny 2: Lightfall          7343   \n",
       "48498                        Elite Dangerous: Odyssey          7011   \n",
       "43127                                            江湖十一          4772   \n",
       "3386     Expansion - Europa Universalis IV: Leviathan          4723   \n",
       "41670                            Retirement Simulator          3873   \n",
       "19596                                         Erzurum          3131   \n",
       "30623  STAR WARS™: The Old Republic™  - Subscriptions          2389   \n",
       "36369                          Resident Evil Re:Verse          2249   \n",
       "14774           Dead by Daylight - Hellraiser Chapter          2245   \n",
       "6299    Expansion - Hearts of Iron IV: By Blood Alone          1996   \n",
       "21930                     Tricolour Lovestory TrueEnd          1739   \n",
       "\n",
       "       positive_ratio  \n",
       "14190               9  \n",
       "13401              40  \n",
       "37392              26  \n",
       "48774              37  \n",
       "50794              38  \n",
       "3191               15  \n",
       "27239              34  \n",
       "48536              20  \n",
       "34045              37  \n",
       "12651              31  \n",
       "48498              37  \n",
       "43127              36  \n",
       "3386               10  \n",
       "41670              36  \n",
       "19596              40  \n",
       "30623              30  \n",
       "36369              37  \n",
       "14774              39  \n",
       "6299               36  \n",
       "21930              14  "
      ]
     },
     "execution_count": 9,
     "metadata": {},
     "output_type": "execute_result"
    }
   ],
   "source": [
    "bottom_games = df[(df['date_release'].dt.year >= 2020) & (df['positive_ratio'] <= 40)].sort_values(['user_reviews','positive_ratio'], ascending= [False, True]).head(20)\n",
    "bottom_games[['title','user_reviews','positive_ratio']]"
   ]
  },
  {
   "cell_type": "markdown",
   "id": "7180d39a",
   "metadata": {
    "papermill": {
     "duration": 0.006242,
     "end_time": "2023-10-18T06:20:21.750322",
     "exception": false,
     "start_time": "2023-10-18T06:20:21.744080",
     "status": "completed"
    },
    "tags": []
   },
   "source": [
    "**Summary**\n",
    "\n",
    "\n",
    "### Descriptive Statistics of software pricing across each operating system (Windows, Mac, Linux)"
   ]
  },
  {
   "cell_type": "code",
   "execution_count": 10,
   "id": "e5a130c4",
   "metadata": {
    "execution": {
     "iopub.execute_input": "2023-10-18T06:20:21.764086Z",
     "iopub.status.busy": "2023-10-18T06:20:21.763723Z",
     "iopub.status.idle": "2023-10-18T06:20:21.790922Z",
     "shell.execute_reply": "2023-10-18T06:20:21.789670Z"
    },
    "papermill": {
     "duration": 0.036319,
     "end_time": "2023-10-18T06:20:21.792707",
     "exception": false,
     "start_time": "2023-10-18T06:20:21.756388",
     "status": "completed"
    },
    "tags": []
   },
   "outputs": [
    {
     "name": "stdout",
     "output_type": "stream",
     "text": [
      "|         |   mean |   median |   min |    max |\n",
      "|---------|--------|----------|-------|--------|\n",
      "| Windows |  10.94 |     7.99 |   0.5 | 299.99 |\n",
      "| Mac     |  10.31 |     7.99 |   0.9 | 269.99 |\n",
      "| Linux   |  10.15 |     7.99 |   0.9 | 199.99 |\n"
     ]
    }
   ],
   "source": [
    "windows_games = df[(df['win'] == True) & (df['price_original'] != 0)]\n",
    "mac_games = df[(df['mac'] == True) & (df['price_original'] != 0)]\n",
    "linux_games = df[(df['linux'] == True) & (df['price_original'] != 0)]\n",
    "\n",
    "os_stats = {\n",
    "    'Windows': windows_games['price_original'].agg(['mean','median','min','max']).round(2),\n",
    "    'Mac': mac_games['price_original'].agg(['mean','median','min','max']).round(2),\n",
    "    'Linux': linux_games['price_original'].agg(['mean','median','min','max']).round(2)\n",
    "}\n",
    "\n",
    "os_stats_df = pd.DataFrame(os_stats)\n",
    "os_stats_final_df = os_stats_df.transpose()\n",
    "print(tabulate(os_stats_final_df, headers= 'keys', tablefmt='github'))"
   ]
  },
  {
   "cell_type": "code",
   "execution_count": 11,
   "id": "d00812b5",
   "metadata": {
    "execution": {
     "iopub.execute_input": "2023-10-18T06:20:21.806761Z",
     "iopub.status.busy": "2023-10-18T06:20:21.805950Z",
     "iopub.status.idle": "2023-10-18T06:20:21.810242Z",
     "shell.execute_reply": "2023-10-18T06:20:21.809621Z"
    },
    "papermill": {
     "duration": 0.013072,
     "end_time": "2023-10-18T06:20:21.811927",
     "exception": false,
     "start_time": "2023-10-18T06:20:21.798855",
     "status": "completed"
    },
    "tags": []
   },
   "outputs": [],
   "source": [
    "win_games_count= windows_games['app_id'].count\n",
    "mac_games_count= mac_games['app_id'].count\n",
    "linux_games_count= linux_games['app_id'].count\n",
    "\n",
    "#os_counts =\n",
    "#os_counts_df= pd.DataFrame(os_counts)\n",
    "#os_counts_df\n",
    "\n",
    "\n",
    "#fig= px.pie(os_counts_df, values= 'Game Count')\n",
    "#fig.show()"
   ]
  },
  {
   "cell_type": "markdown",
   "id": "93374fda",
   "metadata": {
    "papermill": {
     "duration": 0.005734,
     "end_time": "2023-10-18T06:20:21.823696",
     "exception": false,
     "start_time": "2023-10-18T06:20:21.817962",
     "status": "completed"
    },
    "tags": []
   },
   "source": [
    "**Summary**\n"
   ]
  },
  {
   "cell_type": "markdown",
   "id": "b3b76c0f",
   "metadata": {
    "papermill": {
     "duration": 0.005735,
     "end_time": "2023-10-18T06:20:21.835350",
     "exception": false,
     "start_time": "2023-10-18T06:20:21.829615",
     "status": "completed"
    },
    "tags": []
   },
   "source": [
    "#### Game Rating Distribution "
   ]
  },
  {
   "cell_type": "code",
   "execution_count": 12,
   "id": "9ba4343b",
   "metadata": {
    "execution": {
     "iopub.execute_input": "2023-10-18T06:20:21.848519Z",
     "iopub.status.busy": "2023-10-18T06:20:21.848153Z",
     "iopub.status.idle": "2023-10-18T06:20:23.569428Z",
     "shell.execute_reply": "2023-10-18T06:20:23.568505Z"
    },
    "papermill": {
     "duration": 1.730374,
     "end_time": "2023-10-18T06:20:23.571549",
     "exception": false,
     "start_time": "2023-10-18T06:20:21.841175",
     "status": "completed"
    },
    "tags": []
   },
   "outputs": [
    {
     "data": {
      "text/html": [
       "        <script type=\"text/javascript\">\n",
       "        window.PlotlyConfig = {MathJaxConfig: 'local'};\n",
       "        if (window.MathJax && window.MathJax.Hub && window.MathJax.Hub.Config) {window.MathJax.Hub.Config({SVG: {font: \"STIX-Web\"}});}\n",
       "        if (typeof require !== 'undefined') {\n",
       "        require.undef(\"plotly\");\n",
       "        requirejs.config({\n",
       "            paths: {\n",
       "                'plotly': ['https://cdn.plot.ly/plotly-2.24.1.min']\n",
       "            }\n",
       "        });\n",
       "        require(['plotly'], function(Plotly) {\n",
       "            window._Plotly = Plotly;\n",
       "        });\n",
       "        }\n",
       "        </script>\n",
       "        "
      ]
     },
     "metadata": {},
     "output_type": "display_data"
    },
    {
     "data": {
      "text/html": [
       "<div>                            <div id=\"9e4fb1c1-67be-45d5-8946-669ce76f69bf\" class=\"plotly-graph-div\" style=\"height:525px; width:100%;\"></div>            <script type=\"text/javascript\">                require([\"plotly\"], function(Plotly) {                    window.PLOTLYENV=window.PLOTLYENV || {};                                    if (document.getElementById(\"9e4fb1c1-67be-45d5-8946-669ce76f69bf\")) {                    Plotly.newPlot(                        \"9e4fb1c1-67be-45d5-8946-669ce76f69bf\",                        [{\"alignmentgroup\":\"True\",\"hovertemplate\":\"Rating=%{x}\\u003cbr\\u003eGame Count=%{y}\\u003cextra\\u003e\\u003c\\u002fextra\\u003e\",\"legendgroup\":\"Positive\",\"marker\":{\"color\":\"#636efa\",\"pattern\":{\"shape\":\"\"}},\"name\":\"Positive\",\"offsetgroup\":\"Positive\",\"orientation\":\"v\",\"showlegend\":true,\"textposition\":\"auto\",\"texttemplate\":\"%{y}\",\"x\":[\"Positive\"],\"xaxis\":\"x\",\"y\":[13492],\"yaxis\":\"y\",\"type\":\"bar\"},{\"alignmentgroup\":\"True\",\"hovertemplate\":\"Rating=%{x}\\u003cbr\\u003eGame Count=%{y}\\u003cextra\\u003e\\u003c\\u002fextra\\u003e\",\"legendgroup\":\"Very Positive\",\"marker\":{\"color\":\"#EF553B\",\"pattern\":{\"shape\":\"\"}},\"name\":\"Very Positive\",\"offsetgroup\":\"Very Positive\",\"orientation\":\"v\",\"showlegend\":true,\"textposition\":\"auto\",\"texttemplate\":\"%{y}\",\"x\":[\"Very Positive\"],\"xaxis\":\"x\",\"y\":[13107],\"yaxis\":\"y\",\"type\":\"bar\"},{\"alignmentgroup\":\"True\",\"hovertemplate\":\"Rating=%{x}\\u003cbr\\u003eGame Count=%{y}\\u003cextra\\u003e\\u003c\\u002fextra\\u003e\",\"legendgroup\":\"Mixed\",\"marker\":{\"color\":\"#00cc96\",\"pattern\":{\"shape\":\"\"}},\"name\":\"Mixed\",\"offsetgroup\":\"Mixed\",\"orientation\":\"v\",\"showlegend\":true,\"textposition\":\"auto\",\"texttemplate\":\"%{y}\",\"x\":[\"Mixed\"],\"xaxis\":\"x\",\"y\":[12135],\"yaxis\":\"y\",\"type\":\"bar\"},{\"alignmentgroup\":\"True\",\"hovertemplate\":\"Rating=%{x}\\u003cbr\\u003eGame Count=%{y}\\u003cextra\\u003e\\u003c\\u002fextra\\u003e\",\"legendgroup\":\"Mostly Positive\",\"marker\":{\"color\":\"#ab63fa\",\"pattern\":{\"shape\":\"\"}},\"name\":\"Mostly Positive\",\"offsetgroup\":\"Mostly Positive\",\"orientation\":\"v\",\"showlegend\":true,\"textposition\":\"auto\",\"texttemplate\":\"%{y}\",\"x\":[\"Mostly Positive\"],\"xaxis\":\"x\",\"y\":[8727],\"yaxis\":\"y\",\"type\":\"bar\"},{\"alignmentgroup\":\"True\",\"hovertemplate\":\"Rating=%{x}\\u003cbr\\u003eGame Count=%{y}\\u003cextra\\u003e\\u003c\\u002fextra\\u003e\",\"legendgroup\":\"Mostly Negative\",\"marker\":{\"color\":\"#FFA15A\",\"pattern\":{\"shape\":\"\"}},\"name\":\"Mostly Negative\",\"offsetgroup\":\"Mostly Negative\",\"orientation\":\"v\",\"showlegend\":true,\"textposition\":\"auto\",\"texttemplate\":\"%{y}\",\"x\":[\"Mostly Negative\"],\"xaxis\":\"x\",\"y\":[1848],\"yaxis\":\"y\",\"type\":\"bar\"},{\"alignmentgroup\":\"True\",\"hovertemplate\":\"Rating=%{x}\\u003cbr\\u003eGame Count=%{y}\\u003cextra\\u003e\\u003c\\u002fextra\\u003e\",\"legendgroup\":\"Overwhelmingly Positive\",\"marker\":{\"color\":\"#19d3f3\",\"pattern\":{\"shape\":\"\"}},\"name\":\"Overwhelmingly Positive\",\"offsetgroup\":\"Overwhelmingly Positive\",\"orientation\":\"v\",\"showlegend\":true,\"textposition\":\"auto\",\"texttemplate\":\"%{y}\",\"x\":[\"Overwhelmingly Positive\"],\"xaxis\":\"x\",\"y\":[1110],\"yaxis\":\"y\",\"type\":\"bar\"},{\"alignmentgroup\":\"True\",\"hovertemplate\":\"Rating=%{x}\\u003cbr\\u003eGame Count=%{y}\\u003cextra\\u003e\\u003c\\u002fextra\\u003e\",\"legendgroup\":\"Negative\",\"marker\":{\"color\":\"#FF6692\",\"pattern\":{\"shape\":\"\"}},\"name\":\"Negative\",\"offsetgroup\":\"Negative\",\"orientation\":\"v\",\"showlegend\":true,\"textposition\":\"auto\",\"texttemplate\":\"%{y}\",\"x\":[\"Negative\"],\"xaxis\":\"x\",\"y\":[303],\"yaxis\":\"y\",\"type\":\"bar\"},{\"alignmentgroup\":\"True\",\"hovertemplate\":\"Rating=%{x}\\u003cbr\\u003eGame Count=%{y}\\u003cextra\\u003e\\u003c\\u002fextra\\u003e\",\"legendgroup\":\"Very Negative\",\"marker\":{\"color\":\"#B6E880\",\"pattern\":{\"shape\":\"\"}},\"name\":\"Very Negative\",\"offsetgroup\":\"Very Negative\",\"orientation\":\"v\",\"showlegend\":true,\"textposition\":\"auto\",\"texttemplate\":\"%{y}\",\"x\":[\"Very Negative\"],\"xaxis\":\"x\",\"y\":[60],\"yaxis\":\"y\",\"type\":\"bar\"},{\"alignmentgroup\":\"True\",\"hovertemplate\":\"Rating=%{x}\\u003cbr\\u003eGame Count=%{y}\\u003cextra\\u003e\\u003c\\u002fextra\\u003e\",\"legendgroup\":\"Overwhelmingly Negative\",\"marker\":{\"color\":\"#FF97FF\",\"pattern\":{\"shape\":\"\"}},\"name\":\"Overwhelmingly Negative\",\"offsetgroup\":\"Overwhelmingly Negative\",\"orientation\":\"v\",\"showlegend\":true,\"textposition\":\"auto\",\"texttemplate\":\"%{y}\",\"x\":[\"Overwhelmingly Negative\"],\"xaxis\":\"x\",\"y\":[14],\"yaxis\":\"y\",\"type\":\"bar\"}],                        {\"template\":{\"data\":{\"histogram2dcontour\":[{\"type\":\"histogram2dcontour\",\"colorbar\":{\"outlinewidth\":0,\"ticks\":\"\"},\"colorscale\":[[0.0,\"#0d0887\"],[0.1111111111111111,\"#46039f\"],[0.2222222222222222,\"#7201a8\"],[0.3333333333333333,\"#9c179e\"],[0.4444444444444444,\"#bd3786\"],[0.5555555555555556,\"#d8576b\"],[0.6666666666666666,\"#ed7953\"],[0.7777777777777778,\"#fb9f3a\"],[0.8888888888888888,\"#fdca26\"],[1.0,\"#f0f921\"]]}],\"choropleth\":[{\"type\":\"choropleth\",\"colorbar\":{\"outlinewidth\":0,\"ticks\":\"\"}}],\"histogram2d\":[{\"type\":\"histogram2d\",\"colorbar\":{\"outlinewidth\":0,\"ticks\":\"\"},\"colorscale\":[[0.0,\"#0d0887\"],[0.1111111111111111,\"#46039f\"],[0.2222222222222222,\"#7201a8\"],[0.3333333333333333,\"#9c179e\"],[0.4444444444444444,\"#bd3786\"],[0.5555555555555556,\"#d8576b\"],[0.6666666666666666,\"#ed7953\"],[0.7777777777777778,\"#fb9f3a\"],[0.8888888888888888,\"#fdca26\"],[1.0,\"#f0f921\"]]}],\"heatmap\":[{\"type\":\"heatmap\",\"colorbar\":{\"outlinewidth\":0,\"ticks\":\"\"},\"colorscale\":[[0.0,\"#0d0887\"],[0.1111111111111111,\"#46039f\"],[0.2222222222222222,\"#7201a8\"],[0.3333333333333333,\"#9c179e\"],[0.4444444444444444,\"#bd3786\"],[0.5555555555555556,\"#d8576b\"],[0.6666666666666666,\"#ed7953\"],[0.7777777777777778,\"#fb9f3a\"],[0.8888888888888888,\"#fdca26\"],[1.0,\"#f0f921\"]]}],\"heatmapgl\":[{\"type\":\"heatmapgl\",\"colorbar\":{\"outlinewidth\":0,\"ticks\":\"\"},\"colorscale\":[[0.0,\"#0d0887\"],[0.1111111111111111,\"#46039f\"],[0.2222222222222222,\"#7201a8\"],[0.3333333333333333,\"#9c179e\"],[0.4444444444444444,\"#bd3786\"],[0.5555555555555556,\"#d8576b\"],[0.6666666666666666,\"#ed7953\"],[0.7777777777777778,\"#fb9f3a\"],[0.8888888888888888,\"#fdca26\"],[1.0,\"#f0f921\"]]}],\"contourcarpet\":[{\"type\":\"contourcarpet\",\"colorbar\":{\"outlinewidth\":0,\"ticks\":\"\"}}],\"contour\":[{\"type\":\"contour\",\"colorbar\":{\"outlinewidth\":0,\"ticks\":\"\"},\"colorscale\":[[0.0,\"#0d0887\"],[0.1111111111111111,\"#46039f\"],[0.2222222222222222,\"#7201a8\"],[0.3333333333333333,\"#9c179e\"],[0.4444444444444444,\"#bd3786\"],[0.5555555555555556,\"#d8576b\"],[0.6666666666666666,\"#ed7953\"],[0.7777777777777778,\"#fb9f3a\"],[0.8888888888888888,\"#fdca26\"],[1.0,\"#f0f921\"]]}],\"surface\":[{\"type\":\"surface\",\"colorbar\":{\"outlinewidth\":0,\"ticks\":\"\"},\"colorscale\":[[0.0,\"#0d0887\"],[0.1111111111111111,\"#46039f\"],[0.2222222222222222,\"#7201a8\"],[0.3333333333333333,\"#9c179e\"],[0.4444444444444444,\"#bd3786\"],[0.5555555555555556,\"#d8576b\"],[0.6666666666666666,\"#ed7953\"],[0.7777777777777778,\"#fb9f3a\"],[0.8888888888888888,\"#fdca26\"],[1.0,\"#f0f921\"]]}],\"mesh3d\":[{\"type\":\"mesh3d\",\"colorbar\":{\"outlinewidth\":0,\"ticks\":\"\"}}],\"scatter\":[{\"fillpattern\":{\"fillmode\":\"overlay\",\"size\":10,\"solidity\":0.2},\"type\":\"scatter\"}],\"parcoords\":[{\"type\":\"parcoords\",\"line\":{\"colorbar\":{\"outlinewidth\":0,\"ticks\":\"\"}}}],\"scatterpolargl\":[{\"type\":\"scatterpolargl\",\"marker\":{\"colorbar\":{\"outlinewidth\":0,\"ticks\":\"\"}}}],\"bar\":[{\"error_x\":{\"color\":\"#2a3f5f\"},\"error_y\":{\"color\":\"#2a3f5f\"},\"marker\":{\"line\":{\"color\":\"#E5ECF6\",\"width\":0.5},\"pattern\":{\"fillmode\":\"overlay\",\"size\":10,\"solidity\":0.2}},\"type\":\"bar\"}],\"scattergeo\":[{\"type\":\"scattergeo\",\"marker\":{\"colorbar\":{\"outlinewidth\":0,\"ticks\":\"\"}}}],\"scatterpolar\":[{\"type\":\"scatterpolar\",\"marker\":{\"colorbar\":{\"outlinewidth\":0,\"ticks\":\"\"}}}],\"histogram\":[{\"marker\":{\"pattern\":{\"fillmode\":\"overlay\",\"size\":10,\"solidity\":0.2}},\"type\":\"histogram\"}],\"scattergl\":[{\"type\":\"scattergl\",\"marker\":{\"colorbar\":{\"outlinewidth\":0,\"ticks\":\"\"}}}],\"scatter3d\":[{\"type\":\"scatter3d\",\"line\":{\"colorbar\":{\"outlinewidth\":0,\"ticks\":\"\"}},\"marker\":{\"colorbar\":{\"outlinewidth\":0,\"ticks\":\"\"}}}],\"scattermapbox\":[{\"type\":\"scattermapbox\",\"marker\":{\"colorbar\":{\"outlinewidth\":0,\"ticks\":\"\"}}}],\"scatterternary\":[{\"type\":\"scatterternary\",\"marker\":{\"colorbar\":{\"outlinewidth\":0,\"ticks\":\"\"}}}],\"scattercarpet\":[{\"type\":\"scattercarpet\",\"marker\":{\"colorbar\":{\"outlinewidth\":0,\"ticks\":\"\"}}}],\"carpet\":[{\"aaxis\":{\"endlinecolor\":\"#2a3f5f\",\"gridcolor\":\"white\",\"linecolor\":\"white\",\"minorgridcolor\":\"white\",\"startlinecolor\":\"#2a3f5f\"},\"baxis\":{\"endlinecolor\":\"#2a3f5f\",\"gridcolor\":\"white\",\"linecolor\":\"white\",\"minorgridcolor\":\"white\",\"startlinecolor\":\"#2a3f5f\"},\"type\":\"carpet\"}],\"table\":[{\"cells\":{\"fill\":{\"color\":\"#EBF0F8\"},\"line\":{\"color\":\"white\"}},\"header\":{\"fill\":{\"color\":\"#C8D4E3\"},\"line\":{\"color\":\"white\"}},\"type\":\"table\"}],\"barpolar\":[{\"marker\":{\"line\":{\"color\":\"#E5ECF6\",\"width\":0.5},\"pattern\":{\"fillmode\":\"overlay\",\"size\":10,\"solidity\":0.2}},\"type\":\"barpolar\"}],\"pie\":[{\"automargin\":true,\"type\":\"pie\"}]},\"layout\":{\"autotypenumbers\":\"strict\",\"colorway\":[\"#636efa\",\"#EF553B\",\"#00cc96\",\"#ab63fa\",\"#FFA15A\",\"#19d3f3\",\"#FF6692\",\"#B6E880\",\"#FF97FF\",\"#FECB52\"],\"font\":{\"color\":\"#2a3f5f\"},\"hovermode\":\"closest\",\"hoverlabel\":{\"align\":\"left\"},\"paper_bgcolor\":\"white\",\"plot_bgcolor\":\"#E5ECF6\",\"polar\":{\"bgcolor\":\"#E5ECF6\",\"angularaxis\":{\"gridcolor\":\"white\",\"linecolor\":\"white\",\"ticks\":\"\"},\"radialaxis\":{\"gridcolor\":\"white\",\"linecolor\":\"white\",\"ticks\":\"\"}},\"ternary\":{\"bgcolor\":\"#E5ECF6\",\"aaxis\":{\"gridcolor\":\"white\",\"linecolor\":\"white\",\"ticks\":\"\"},\"baxis\":{\"gridcolor\":\"white\",\"linecolor\":\"white\",\"ticks\":\"\"},\"caxis\":{\"gridcolor\":\"white\",\"linecolor\":\"white\",\"ticks\":\"\"}},\"coloraxis\":{\"colorbar\":{\"outlinewidth\":0,\"ticks\":\"\"}},\"colorscale\":{\"sequential\":[[0.0,\"#0d0887\"],[0.1111111111111111,\"#46039f\"],[0.2222222222222222,\"#7201a8\"],[0.3333333333333333,\"#9c179e\"],[0.4444444444444444,\"#bd3786\"],[0.5555555555555556,\"#d8576b\"],[0.6666666666666666,\"#ed7953\"],[0.7777777777777778,\"#fb9f3a\"],[0.8888888888888888,\"#fdca26\"],[1.0,\"#f0f921\"]],\"sequentialminus\":[[0.0,\"#0d0887\"],[0.1111111111111111,\"#46039f\"],[0.2222222222222222,\"#7201a8\"],[0.3333333333333333,\"#9c179e\"],[0.4444444444444444,\"#bd3786\"],[0.5555555555555556,\"#d8576b\"],[0.6666666666666666,\"#ed7953\"],[0.7777777777777778,\"#fb9f3a\"],[0.8888888888888888,\"#fdca26\"],[1.0,\"#f0f921\"]],\"diverging\":[[0,\"#8e0152\"],[0.1,\"#c51b7d\"],[0.2,\"#de77ae\"],[0.3,\"#f1b6da\"],[0.4,\"#fde0ef\"],[0.5,\"#f7f7f7\"],[0.6,\"#e6f5d0\"],[0.7,\"#b8e186\"],[0.8,\"#7fbc41\"],[0.9,\"#4d9221\"],[1,\"#276419\"]]},\"xaxis\":{\"gridcolor\":\"white\",\"linecolor\":\"white\",\"ticks\":\"\",\"title\":{\"standoff\":15},\"zerolinecolor\":\"white\",\"automargin\":true,\"zerolinewidth\":2},\"yaxis\":{\"gridcolor\":\"white\",\"linecolor\":\"white\",\"ticks\":\"\",\"title\":{\"standoff\":15},\"zerolinecolor\":\"white\",\"automargin\":true,\"zerolinewidth\":2},\"scene\":{\"xaxis\":{\"backgroundcolor\":\"#E5ECF6\",\"gridcolor\":\"white\",\"linecolor\":\"white\",\"showbackground\":true,\"ticks\":\"\",\"zerolinecolor\":\"white\",\"gridwidth\":2},\"yaxis\":{\"backgroundcolor\":\"#E5ECF6\",\"gridcolor\":\"white\",\"linecolor\":\"white\",\"showbackground\":true,\"ticks\":\"\",\"zerolinecolor\":\"white\",\"gridwidth\":2},\"zaxis\":{\"backgroundcolor\":\"#E5ECF6\",\"gridcolor\":\"white\",\"linecolor\":\"white\",\"showbackground\":true,\"ticks\":\"\",\"zerolinecolor\":\"white\",\"gridwidth\":2}},\"shapedefaults\":{\"line\":{\"color\":\"#2a3f5f\"}},\"annotationdefaults\":{\"arrowcolor\":\"#2a3f5f\",\"arrowhead\":0,\"arrowwidth\":1},\"geo\":{\"bgcolor\":\"white\",\"landcolor\":\"#E5ECF6\",\"subunitcolor\":\"white\",\"showland\":true,\"showlakes\":true,\"lakecolor\":\"white\"},\"title\":{\"x\":0.05},\"mapbox\":{\"style\":\"light\"}}},\"xaxis\":{\"anchor\":\"y\",\"domain\":[0.0,1.0],\"title\":{\"text\":\"Rating\"},\"categoryorder\":\"array\",\"categoryarray\":[\"Positive\",\"Very Positive\",\"Mixed\",\"Mostly Positive\",\"Mostly Negative\",\"Overwhelmingly Positive\",\"Negative\",\"Very Negative\",\"Overwhelmingly Negative\"]},\"yaxis\":{\"anchor\":\"x\",\"domain\":[0.0,1.0],\"title\":{\"text\":\"Game Count\"}},\"legend\":{\"title\":{\"text\":\"Rating\"},\"tracegroupgap\":0},\"title\":{\"text\":\"Game Rating Distribution\"},\"barmode\":\"relative\"},                        {\"responsive\": true}                    ).then(function(){\n",
       "                            \n",
       "var gd = document.getElementById('9e4fb1c1-67be-45d5-8946-669ce76f69bf');\n",
       "var x = new MutationObserver(function (mutations, observer) {{\n",
       "        var display = window.getComputedStyle(gd).display;\n",
       "        if (!display || display === 'none') {{\n",
       "            console.log([gd, 'removed!']);\n",
       "            Plotly.purge(gd);\n",
       "            observer.disconnect();\n",
       "        }}\n",
       "}});\n",
       "\n",
       "// Listen for the removal of the full notebook cells\n",
       "var notebookContainer = gd.closest('#notebook-container');\n",
       "if (notebookContainer) {{\n",
       "    x.observe(notebookContainer, {childList: true});\n",
       "}}\n",
       "\n",
       "// Listen for the clearing of the current output cell\n",
       "var outputEl = gd.closest('.output');\n",
       "if (outputEl) {{\n",
       "    x.observe(outputEl, {childList: true});\n",
       "}}\n",
       "\n",
       "                        })                };                });            </script>        </div>"
      ]
     },
     "metadata": {},
     "output_type": "display_data"
    }
   ],
   "source": [
    "rating_count = df['rating'].value_counts()\n",
    "rating_count_df= pd.DataFrame(rating_count).reset_index()\n",
    "rating_count_df.columns = ['Rating', 'Game Count']\n",
    "\n",
    "fig= px.bar(rating_count_df, x='Rating', y='Game Count', color='Rating', text_auto= True, title= 'Game Rating Distribution')\n",
    "fig.show()"
   ]
  },
  {
   "cell_type": "markdown",
   "id": "c981cf5d",
   "metadata": {
    "papermill": {
     "duration": 0.006269,
     "end_time": "2023-10-18T06:20:23.584581",
     "exception": false,
     "start_time": "2023-10-18T06:20:23.578312",
     "status": "completed"
    },
    "tags": []
   },
   "source": [
    "**Summary**"
   ]
  },
  {
   "cell_type": "code",
   "execution_count": null,
   "id": "c6f09180",
   "metadata": {
    "papermill": {
     "duration": 0.006157,
     "end_time": "2023-10-18T06:20:23.597202",
     "exception": false,
     "start_time": "2023-10-18T06:20:23.591045",
     "status": "completed"
    },
    "tags": []
   },
   "outputs": [],
   "source": []
  },
  {
   "cell_type": "code",
   "execution_count": null,
   "id": "89bd8f95",
   "metadata": {
    "papermill": {
     "duration": 0.006231,
     "end_time": "2023-10-18T06:20:23.609995",
     "exception": false,
     "start_time": "2023-10-18T06:20:23.603764",
     "status": "completed"
    },
    "tags": []
   },
   "outputs": [],
   "source": []
  },
  {
   "cell_type": "code",
   "execution_count": 13,
   "id": "39184cd7",
   "metadata": {
    "execution": {
     "iopub.execute_input": "2023-10-18T06:20:23.624930Z",
     "iopub.status.busy": "2023-10-18T06:20:23.624255Z",
     "iopub.status.idle": "2023-10-18T06:20:23.635268Z",
     "shell.execute_reply": "2023-10-18T06:20:23.634577Z"
    },
    "papermill": {
     "duration": 0.020608,
     "end_time": "2023-10-18T06:20:23.637118",
     "exception": false,
     "start_time": "2023-10-18T06:20:23.616510",
     "status": "completed"
    },
    "tags": []
   },
   "outputs": [
    {
     "data": {
      "text/plain": [
       "-0.016677695592262856"
      ]
     },
     "execution_count": 13,
     "metadata": {},
     "output_type": "execute_result"
    }
   ],
   "source": [
    "df['positive_ratio'].corr(df['price_original'])"
   ]
  },
  {
   "cell_type": "code",
   "execution_count": null,
   "id": "59efa0bf",
   "metadata": {
    "papermill": {
     "duration": 0.006623,
     "end_time": "2023-10-18T06:20:23.650739",
     "exception": false,
     "start_time": "2023-10-18T06:20:23.644116",
     "status": "completed"
    },
    "tags": []
   },
   "outputs": [],
   "source": []
  },
  {
   "cell_type": "code",
   "execution_count": null,
   "id": "6bc00d79",
   "metadata": {
    "papermill": {
     "duration": 0.006333,
     "end_time": "2023-10-18T06:20:23.663651",
     "exception": false,
     "start_time": "2023-10-18T06:20:23.657318",
     "status": "completed"
    },
    "tags": []
   },
   "outputs": [],
   "source": []
  }
 ],
 "metadata": {
  "kernelspec": {
   "display_name": "Python 3",
   "language": "python",
   "name": "python3"
  },
  "language_info": {
   "codemirror_mode": {
    "name": "ipython",
    "version": 3
   },
   "file_extension": ".py",
   "mimetype": "text/x-python",
   "name": "python",
   "nbconvert_exporter": "python",
   "pygments_lexer": "ipython3",
   "version": "3.10.12"
  },
  "papermill": {
   "default_parameters": {},
   "duration": 8.535993,
   "end_time": "2023-10-18T06:20:24.290510",
   "environment_variables": {},
   "exception": null,
   "input_path": "__notebook__.ipynb",
   "output_path": "__notebook__.ipynb",
   "parameters": {},
   "start_time": "2023-10-18T06:20:15.754517",
   "version": "2.4.0"
  }
 },
 "nbformat": 4,
 "nbformat_minor": 5
}
